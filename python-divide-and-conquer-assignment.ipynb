{
 "cells": [
  {
   "cell_type": "markdown",
   "id": "configured-negotiation",
   "metadata": {
    "id": "configured-negotiation"
   },
   "source": [
    "# Assignment 3 - Divide-n-Conquer Algorithms in Python\n",
    "\n",
    "_This assignment is a part of the course [\"Data Structures and Algorithms in Python\"](https://jovian.ai/learn/data-structures-and-algorithms-in-python)._\n",
    "\n",
    "In this assignment, you will implement an efficient algorithm for polynomial multiplication.\n",
    "\n",
    "As you go through this notebook, you will find the symbol **???** in certain places. To complete this assignment, you must replace all the **???** with appropriate values, expressions or statements to ensure that the notebook runs properly end-to-end. \n",
    "\n",
    "**Guidelines**\n",
    "\n",
    "1. Make sure to run all the code cells, otherwise you may get errors like `NameError` for undefined variables.\n",
    "2. Do not change variable names, delete cells or disturb other existing code. It may cause problems during evaluation.\n",
    "3. In some cases, you may need to add some code cells or new statements before or after the line of code containing the **???**. \n",
    "4. Since you'll be using a temporary online service for code execution, save your work by running `jovian.commit` at regular intervals.\n",
    "5. Questions marked **(Optional)** will not be considered for evaluation, and can be skipped. They are for your learning.\n",
    "6. If you are stuck, you can ask for help on the [community forum] (TODO - add link). Post errors or ask for hints, but **please don't ask for OR share the full working answer code** on the forum.\n",
    "7. There are some tests included with this notebook to help you test your implementation. However, after submission your code will be tested with some hidden test cases. Make sure to test your code exhaustively to cover all edge cases.\n",
    "\n",
    "\n",
    "**Important Links**\n",
    "\n",
    "* Submit your work here: https://jovian.ai/learn/data-structures-and-algorithms-in-python/assignment/assignment-3-sorting-and-divide-conquer-practice\n",
    "* Ask questions and get help: https://jovian.ai/forum/c/data-structures-and-algorithms-in-python/assignment-3/89\n",
    "* Lesson 3 video for review: https://jovian.ai/learn/data-structures-and-algorithms-in-python/lesson/lesson-3-sorting-algorithms-and-divide-and-conquer\n",
    "* Lesson 3 notebook for review: https://jovian.ai/aakashns/python-sorting-divide-and-conquer\n"
   ]
  },
  {
   "cell_type": "markdown",
   "id": "martial-gates",
   "metadata": {
    "id": "martial-gates"
   },
   "source": [
    "### How to Run the Code and Save Your Work\n",
    "\n",
    "**Option 1: Running using free online resources (1-click, recommended)**: Click the **Run** button at the top of this page and select **Run on Binder**. You can also select \"Run on Colab\" or \"Run on Kaggle\", but you'll need to create an account on [Google Colab](https://colab.research.google.com) or [Kaggle](https://kaggle.com) to use these platforms.\n",
    "\n",
    "\n",
    "**Option 2: Running on your computer locally**: To run the code on your computer locally, you'll need to set up [Python](https://www.python.org) & [Conda](https://docs.conda.io/projects/conda/en/latest/user-guide/install/), download the notebook and install the required libraries. Click the **Run** button at the top of this page, select the **Run Locally** option, and follow the instructions.\n",
    "\n",
    "**Saving your work**: You can save a snapshot of the assignment to your [Jovian](https://jovian.ai) profile, so that you can access it later and continue your work. Keep saving your work by running `jovian.commit` from time to time."
   ]
  },
  {
   "cell_type": "code",
   "execution_count": 2,
   "id": "strategic-basic",
   "metadata": {
    "executionInfo": {
     "elapsed": 7020,
     "status": "ok",
     "timestamp": 1617210082155,
     "user": {
      "displayName": "18-4N3 Sai Krithik",
      "photoUrl": "https://lh3.googleusercontent.com/a-/AOh14GgTAZGL9F58Yi8DnVAy4Wi7by4ZuxRdLUGBUgdbl2c=s64",
      "userId": "10712441170071618582"
     },
     "user_tz": -330
    },
    "id": "strategic-basic"
   },
   "outputs": [],
   "source": [
    "project='python-divide-and-conquer-assignment'"
   ]
  },
  {
   "cell_type": "code",
   "execution_count": 3,
   "id": "blond-outdoors",
   "metadata": {
    "executionInfo": {
     "elapsed": 10087,
     "status": "ok",
     "timestamp": 1617210085224,
     "user": {
      "displayName": "18-4N3 Sai Krithik",
      "photoUrl": "https://lh3.googleusercontent.com/a-/AOh14GgTAZGL9F58Yi8DnVAy4Wi7by4ZuxRdLUGBUgdbl2c=s64",
      "userId": "10712441170071618582"
     },
     "user_tz": -330
    },
    "id": "blond-outdoors"
   },
   "outputs": [],
   "source": [
    "!pip install jovian --upgrade --quiet"
   ]
  },
  {
   "cell_type": "code",
   "execution_count": 4,
   "id": "excellent-pledge",
   "metadata": {
    "colab": {
     "base_uri": "https://localhost:8080/",
     "height": 119
    },
    "executionInfo": {
     "elapsed": 19906,
     "status": "ok",
     "timestamp": 1617210095051,
     "user": {
      "displayName": "18-4N3 Sai Krithik",
      "photoUrl": "https://lh3.googleusercontent.com/a-/AOh14GgTAZGL9F58Yi8DnVAy4Wi7by4ZuxRdLUGBUgdbl2c=s64",
      "userId": "10712441170071618582"
     },
     "user_tz": -330
    },
    "id": "excellent-pledge",
    "outputId": "0b07e369-587d-40bf-d3f6-951d67e9bb09"
   },
   "outputs": [
    {
     "name": "stdout",
     "output_type": "stream",
     "text": [
      "[jovian] Detected Colab notebook...\u001b[0m\n",
      "[jovian] Please enter your API key ( from https://jovian.ai/ ):\u001b[0m\n",
      "API KEY: ··········\n",
      "[jovian] Uploading colab notebook to Jovian...\u001b[0m\n",
      "[jovian] Committed successfully! https://jovian.ai/saikrithik/python-divide-and-conquer-assignment\u001b[0m\n"
     ]
    },
    {
     "data": {
      "application/vnd.google.colaboratory.intrinsic+json": {
       "type": "string"
      },
      "text/plain": [
       "'https://jovian.ai/saikrithik/python-divide-and-conquer-assignment'"
      ]
     },
     "execution_count": 4,
     "metadata": {
      "tags": []
     },
     "output_type": "execute_result"
    }
   ],
   "source": [
    "import jovian\n",
    "jovian.commit(project=project, privacy='secret', environment=None)"
   ]
  },
  {
   "cell_type": "markdown",
   "id": "progressive-compatibility",
   "metadata": {
    "id": "progressive-compatibility"
   },
   "source": [
    "## Problem Statement - Polynomial Multiplication\n",
    "\n",
    "> Given two polynomials represented by two lists, write a function that efficiently multiplies given two polynomials. For example, the lists `[2, 0, 5, 7]` and `[3, 4, 2]` represent the polynomials $2 + 5x^2 + 7x^3$ and $3 + 4x + 2x^2$. \n",
    "> \n",
    "> Their product is \n",
    ">\n",
    "> $(2 \\times 3) + (2 \\times 4 + 0 \\times 3)x + (2 \\times 2 + 3 \\times 5 + 4 \\times 0)x^2 + (7 \\times 3 + 5 \\times 4 + 0 \\times 2)x^3 + (7 \\times 4 + 5 \\times 2)x^4 + (7 \\times 2)x^5$ i.e. \n",
    ">\n",
    ">$6 + 8x + 19x^2 + 41x^3 + 38x^4 + 14x^5$\n",
    "> \n",
    ">It can be represented by the list `[6, 8, 19, 41, 38, 14]`.\n"
   ]
  },
  {
   "cell_type": "markdown",
   "id": "lesbian-tyler",
   "metadata": {
    "id": "lesbian-tyler"
   },
   "source": [
    "## The Method\n",
    "\n",
    "Here's the systematic strategy we'll apply for solving problems:\n",
    "\n",
    "1. State the problem clearly. Identify the input & output formats.\n",
    "2. Come up with some example inputs & outputs. Try to cover all edge cases.\n",
    "3. Come up with a correct solution for the problem. State it in plain English.\n",
    "4. Implement the solution and test it using example inputs. Fix bugs, if any.\n",
    "5. Analyze the algorithm's complexity and identify inefficiencies, if any.\n",
    "6. Apply the right technique to overcome the inefficiency. Repeat steps 3 to 6.\n",
    "\n",
    "This approach is explained in detail in [Lesson 1](https://jovian.ai/learn/data-structures-and-algorithms-in-python/lesson/lesson-1-binary-search-linked-lists-and-complexity) of the course. Let's apply this approach step-by-step."
   ]
  },
  {
   "cell_type": "markdown",
   "id": "assigned-valentine",
   "metadata": {
    "id": "assigned-valentine"
   },
   "source": [
    "## Solution\n",
    "\n",
    "\n",
    "### 1. State the problem clearly. Identify the input & output formats.\n",
    "\n",
    "While this problem is stated clearly enough, it's always useful to try and express in your own words, in a way that makes it most clear for you. \n",
    "\n",
    "\n",
    "**Problem**\n",
    "\n",
    "> If you were given two polynomials then how could you write a function to get the result of multiplication of those polynomials!! \n",
    "<br/>\n",
    "\n",
    "\n",
    "**Input**\n",
    "\n",
    "1. A polynomial\n",
    "2. Another polynomial\n",
    "\n",
    "\n",
    "\n",
    "**Output**\n",
    "\n",
    "1. Multiplication of two polynomials\n",
    "\n",
    "\n",
    "<br/>\n",
    "\n",
    "Based on the above, we can now create a signature of our function:"
   ]
  },
  {
   "cell_type": "code",
   "execution_count": 5,
   "id": "advisory-caution",
   "metadata": {
    "executionInfo": {
     "elapsed": 1004,
     "status": "ok",
     "timestamp": 1617210098411,
     "user": {
      "displayName": "18-4N3 Sai Krithik",
      "photoUrl": "https://lh3.googleusercontent.com/a-/AOh14GgTAZGL9F58Yi8DnVAy4Wi7by4ZuxRdLUGBUgdbl2c=s64",
      "userId": "10712441170071618582"
     },
     "user_tz": -330
    },
    "id": "advisory-caution"
   },
   "outputs": [],
   "source": [
    "def multiply(poly1, poly2):\n",
    "    pass"
   ]
  },
  {
   "cell_type": "code",
   "execution_count": 6,
   "id": "going-documentation",
   "metadata": {
    "executionInfo": {
     "elapsed": 893,
     "status": "ok",
     "timestamp": 1617210098729,
     "user": {
      "displayName": "18-4N3 Sai Krithik",
      "photoUrl": "https://lh3.googleusercontent.com/a-/AOh14GgTAZGL9F58Yi8DnVAy4Wi7by4ZuxRdLUGBUgdbl2c=s64",
      "userId": "10712441170071618582"
     },
     "user_tz": -330
    },
    "id": "going-documentation"
   },
   "outputs": [],
   "source": [
    "import jovian"
   ]
  },
  {
   "cell_type": "code",
   "execution_count": 7,
   "id": "dental-organ",
   "metadata": {
    "colab": {
     "base_uri": "https://localhost:8080/",
     "height": 102
    },
    "executionInfo": {
     "elapsed": 5425,
     "status": "ok",
     "timestamp": 1617210103594,
     "user": {
      "displayName": "18-4N3 Sai Krithik",
      "photoUrl": "https://lh3.googleusercontent.com/a-/AOh14GgTAZGL9F58Yi8DnVAy4Wi7by4ZuxRdLUGBUgdbl2c=s64",
      "userId": "10712441170071618582"
     },
     "user_tz": -330
    },
    "id": "dental-organ",
    "outputId": "c786f48c-ed4a-423c-fcb8-e9c4c0e88e70"
   },
   "outputs": [
    {
     "name": "stdout",
     "output_type": "stream",
     "text": [
      "[jovian] Detected Colab notebook...\u001b[0m\n",
      "[jovian] Uploading colab notebook to Jovian...\u001b[0m\n",
      "[jovian] Capturing environment..\u001b[0m\n",
      "[jovian] Committed successfully! https://jovian.ai/saikrithik/python-divide-and-conquer-assignment\u001b[0m\n"
     ]
    },
    {
     "data": {
      "application/vnd.google.colaboratory.intrinsic+json": {
       "type": "string"
      },
      "text/plain": [
       "'https://jovian.ai/saikrithik/python-divide-and-conquer-assignment'"
      ]
     },
     "execution_count": 7,
     "metadata": {
      "tags": []
     },
     "output_type": "execute_result"
    }
   ],
   "source": [
    "jovian.commit()"
   ]
  },
  {
   "cell_type": "markdown",
   "id": "selective-limit",
   "metadata": {
    "id": "selective-limit"
   },
   "source": [
    "### 2. Come up with some example inputs & outputs. Try to cover all edge cases.\n",
    "\n",
    "Our function should be able to handle any set of valid inputs we pass into it. List a few scenarios here:\n",
    "\n",
    "1. mutiplication of two polynomials where first polynomial is zero polynomial or having a constant, 0 only; \n",
    "2. mutiplication of two polynomials where first polynomial is negative!\n",
    "3. two polynomials having degree of polynomial 4.\n",
    "4. multiplication of two quadratic polynomials!\n",
    "5. multiplication of two polynomials, both having a constant only that is the degree of polynomial is 0.\n",
    "6. Two polynomials of different degrees!\n",
    "7. Two empty polynomials!\n",
    "8. One empty polynomial and another populated polynomial!\n",
    "9. Large polynomials!\n",
    "10. large polynomials!\n",
    "\n",
    "\n",
    "(add more if required)\n",
    "\n",
    "\n",
    "Create a test case of each of the above scenarios. We'll express our test cases as dictionaries, to test them easily. Each dictionary will contain 2 keys: `input` (a dictionary itself containing one key for each argument to the function and `output` (the expected result from the function). "
   ]
  },
  {
   "cell_type": "code",
   "execution_count": 8,
   "id": "mechanical-uniform",
   "metadata": {
    "executionInfo": {
     "elapsed": 4781,
     "status": "ok",
     "timestamp": 1617210103595,
     "user": {
      "displayName": "18-4N3 Sai Krithik",
      "photoUrl": "https://lh3.googleusercontent.com/a-/AOh14GgTAZGL9F58Yi8DnVAy4Wi7by4ZuxRdLUGBUgdbl2c=s64",
      "userId": "10712441170071618582"
     },
     "user_tz": -330
    },
    "id": "mechanical-uniform"
   },
   "outputs": [],
   "source": [
    "test0 = {\n",
    "    'input': {\n",
    "        'poly1': [2, 0, 5, 7],\n",
    "        'poly2': [3, 4, 2]\n",
    "    },\n",
    "    'output': [6, 8, 19, 41, 38, 14]\n",
    "}"
   ]
  },
  {
   "cell_type": "code",
   "execution_count": 9,
   "id": "colored-knight",
   "metadata": {
    "executionInfo": {
     "elapsed": 4493,
     "status": "ok",
     "timestamp": 1617210103596,
     "user": {
      "displayName": "18-4N3 Sai Krithik",
      "photoUrl": "https://lh3.googleusercontent.com/a-/AOh14GgTAZGL9F58Yi8DnVAy4Wi7by4ZuxRdLUGBUgdbl2c=s64",
      "userId": "10712441170071618582"
     },
     "user_tz": -330
    },
    "id": "colored-knight"
   },
   "outputs": [],
   "source": [
    "#mutiplication of two polynomials where first polynomial is zero polynomial or having a constant 0 only;\n",
    "test1 = {\n",
    "    'input': {\n",
    "        'poly1': [0],\n",
    "        'poly2': [1, 2, 3]\n",
    "    },\n",
    "    'output': [0, 0, 0]\n",
    "}"
   ]
  },
  {
   "cell_type": "code",
   "execution_count": 10,
   "id": "classified-strap",
   "metadata": {
    "executionInfo": {
     "elapsed": 4194,
     "status": "ok",
     "timestamp": 1617210103597,
     "user": {
      "displayName": "18-4N3 Sai Krithik",
      "photoUrl": "https://lh3.googleusercontent.com/a-/AOh14GgTAZGL9F58Yi8DnVAy4Wi7by4ZuxRdLUGBUgdbl2c=s64",
      "userId": "10712441170071618582"
     },
     "user_tz": -330
    },
    "id": "classified-strap"
   },
   "outputs": [],
   "source": [
    "# mutiplication of two polynomials where first polynomial is negative!\n",
    "test2 = {\n",
    "    'input': {\n",
    "        'poly1': [0, 0, -3],  # where - 3 is the coefficient of indeterminate X^2.\n",
    "        'poly2': [1, 0, 0, 3] # where 3 is the coeffiecient of indeterminate X^3.\n",
    "    },\n",
    "    'output': [0, 0, -3, 0, 0, -9]\n",
    "}"
   ]
  },
  {
   "cell_type": "code",
   "execution_count": 11,
   "id": "typical-offense",
   "metadata": {
    "executionInfo": {
     "elapsed": 3935,
     "status": "ok",
     "timestamp": 1617210103597,
     "user": {
      "displayName": "18-4N3 Sai Krithik",
      "photoUrl": "https://lh3.googleusercontent.com/a-/AOh14GgTAZGL9F58Yi8DnVAy4Wi7by4ZuxRdLUGBUgdbl2c=s64",
      "userId": "10712441170071618582"
     },
     "user_tz": -330
    },
    "id": "typical-offense"
   },
   "outputs": [],
   "source": [
    "#two polynomials having degree of polynomial 4.\n",
    "test3 = {\n",
    "    'input': {\n",
    "        'poly1': [2, 5, 3, 1, -1],\n",
    "        'poly2': [1, 2, 2, 3, 6]\n",
    "    },\n",
    "    'output': [2, 9, 17, 23, 34, 39, 19, 3, -6]\n",
    "}"
   ]
  },
  {
   "cell_type": "code",
   "execution_count": 12,
   "id": "moderate-scout",
   "metadata": {
    "executionInfo": {
     "elapsed": 3766,
     "status": "ok",
     "timestamp": 1617210103598,
     "user": {
      "displayName": "18-4N3 Sai Krithik",
      "photoUrl": "https://lh3.googleusercontent.com/a-/AOh14GgTAZGL9F58Yi8DnVAy4Wi7by4ZuxRdLUGBUgdbl2c=s64",
      "userId": "10712441170071618582"
     },
     "user_tz": -330
    },
    "id": "moderate-scout"
   },
   "outputs": [],
   "source": [
    "# multiplication of two quadratic polynomials!\n",
    "test4 = {\n",
    "    'input': {\n",
    "        'poly1': [0, 4, 5],\n",
    "        'poly2': [5, 0, 2]\n",
    "    },\n",
    "    'output': [0, 20, 25, 8, 10]\n",
    "}"
   ]
  },
  {
   "cell_type": "code",
   "execution_count": 13,
   "id": "olympic-hudson",
   "metadata": {
    "executionInfo": {
     "elapsed": 3554,
     "status": "ok",
     "timestamp": 1617210103599,
     "user": {
      "displayName": "18-4N3 Sai Krithik",
      "photoUrl": "https://lh3.googleusercontent.com/a-/AOh14GgTAZGL9F58Yi8DnVAy4Wi7by4ZuxRdLUGBUgdbl2c=s64",
      "userId": "10712441170071618582"
     },
     "user_tz": -330
    },
    "id": "olympic-hudson"
   },
   "outputs": [],
   "source": [
    "# multiplication of two polynomials, both having a constant only that is the degree of polynomial is 0.\n",
    "\n",
    "test5 = {\n",
    "    'input': {\n",
    "        'poly1': [8],     # that is coeffiecient is 8 and indeterminate x and the exponent of x is 0, which is X^0.\n",
    "        'poly2': [20]\n",
    "    },\n",
    "    'output': [160]\n",
    "}"
   ]
  },
  {
   "cell_type": "code",
   "execution_count": 14,
   "id": "exempt-coalition",
   "metadata": {
    "executionInfo": {
     "elapsed": 3405,
     "status": "ok",
     "timestamp": 1617210103600,
     "user": {
      "displayName": "18-4N3 Sai Krithik",
      "photoUrl": "https://lh3.googleusercontent.com/a-/AOh14GgTAZGL9F58Yi8DnVAy4Wi7by4ZuxRdLUGBUgdbl2c=s64",
      "userId": "10712441170071618582"
     },
     "user_tz": -330
    },
    "id": "exempt-coalition"
   },
   "outputs": [],
   "source": [
    "# Two polynomials of different degrees!\n",
    "test6={\n",
    "    \"input\": {\n",
    "        \"poly1\": [5, 0, 10, 6],\n",
    "        \"poly2\": [1, 2, 4]\n",
    "    },\n",
    "    \"output\": [5, 10, 30, 26, 52, 24]\n",
    "}"
   ]
  },
  {
   "cell_type": "code",
   "execution_count": 15,
   "id": "liquid-kansas",
   "metadata": {
    "executionInfo": {
     "elapsed": 3186,
     "status": "ok",
     "timestamp": 1617210103600,
     "user": {
      "displayName": "18-4N3 Sai Krithik",
      "photoUrl": "https://lh3.googleusercontent.com/a-/AOh14GgTAZGL9F58Yi8DnVAy4Wi7by4ZuxRdLUGBUgdbl2c=s64",
      "userId": "10712441170071618582"
     },
     "user_tz": -330
    },
    "id": "liquid-kansas"
   },
   "outputs": [],
   "source": [
    " #empty lists\n",
    "test7={\n",
    "    \"input\": {\n",
    "        \"poly1\": [],\n",
    "        \"poly2\": []\n",
    "    },\n",
    "    \"output\": []\n",
    "}\n"
   ]
  },
  {
   "cell_type": "code",
   "execution_count": 16,
   "id": "returning-orbit",
   "metadata": {
    "executionInfo": {
     "elapsed": 3022,
     "status": "ok",
     "timestamp": 1617210103602,
     "user": {
      "displayName": "18-4N3 Sai Krithik",
      "photoUrl": "https://lh3.googleusercontent.com/a-/AOh14GgTAZGL9F58Yi8DnVAy4Wi7by4ZuxRdLUGBUgdbl2c=s64",
      "userId": "10712441170071618582"
     },
     "user_tz": -330
    },
    "id": "returning-orbit"
   },
   "outputs": [],
   "source": [
    " #one polynomial is empty and second polynomial is populated!! \n",
    "#test8 # my note: multiply_basic fails to evaluate it but last two function evaluates it succesfully!! "
   ]
  },
  {
   "cell_type": "code",
   "execution_count": 17,
   "id": "natural-going",
   "metadata": {
    "executionInfo": {
     "elapsed": 2825,
     "status": "ok",
     "timestamp": 1617210103602,
     "user": {
      "displayName": "18-4N3 Sai Krithik",
      "photoUrl": "https://lh3.googleusercontent.com/a-/AOh14GgTAZGL9F58Yi8DnVAy4Wi7by4ZuxRdLUGBUgdbl2c=s64",
      "userId": "10712441170071618582"
     },
     "user_tz": -330
    },
    "id": "natural-going"
   },
   "outputs": [],
   "source": [
    "# try to multiply large polynomials!!!\n",
    "#test9\n",
    "       # 'poly1': list(range(0,10000)), \n",
    "        #'poly2': list(range(10000,0,-1)) "
   ]
  },
  {
   "cell_type": "code",
   "execution_count": 18,
   "id": "electoral-handle",
   "metadata": {
    "executionInfo": {
     "elapsed": 2646,
     "status": "ok",
     "timestamp": 1617210103603,
     "user": {
      "displayName": "18-4N3 Sai Krithik",
      "photoUrl": "https://lh3.googleusercontent.com/a-/AOh14GgTAZGL9F58Yi8DnVAy4Wi7by4ZuxRdLUGBUgdbl2c=s64",
      "userId": "10712441170071618582"
     },
     "user_tz": -330
    },
    "id": "electoral-handle"
   },
   "outputs": [],
   "source": [
    "#test10\n",
    "test10={\n",
    "    \"input\": {\n",
    "    \"poly1\":  [2, 79, -8, -86, 6, -29, 88, -80, 2, 21] ,\n",
    "    \"poly2\": [-26, -13, 16, -1, 3, 51, 30, 49, -48, -99]\n",
    "    },\n",
    "    \"output\":[-52, -2080, -787, 3602, 761, -353, 2336, 2268, 1592, -8683, -12847, 8926, 5350, 2875, -4142, -4144, 8853, -1206, -2079]\n",
    "}"
   ]
  },
  {
   "cell_type": "markdown",
   "id": "incredible-direction",
   "metadata": {
    "id": "incredible-direction"
   },
   "source": [
    "Let's store all the test cases in a list, for easier automated testing."
   ]
  },
  {
   "cell_type": "code",
   "execution_count": 19,
   "id": "productive-affect",
   "metadata": {
    "executionInfo": {
     "elapsed": 2246,
     "status": "ok",
     "timestamp": 1617210103603,
     "user": {
      "displayName": "18-4N3 Sai Krithik",
      "photoUrl": "https://lh3.googleusercontent.com/a-/AOh14GgTAZGL9F58Yi8DnVAy4Wi7by4ZuxRdLUGBUgdbl2c=s64",
      "userId": "10712441170071618582"
     },
     "user_tz": -330
    },
    "id": "productive-affect"
   },
   "outputs": [],
   "source": [
    "tests = [test0, test1, test2, test3, test4, test5, test6, test7, test10]"
   ]
  },
  {
   "cell_type": "code",
   "execution_count": 20,
   "id": "useful-surname",
   "metadata": {
    "colab": {
     "base_uri": "https://localhost:8080/"
    },
    "executionInfo": {
     "elapsed": 2009,
     "status": "ok",
     "timestamp": 1617210103604,
     "user": {
      "displayName": "18-4N3 Sai Krithik",
      "photoUrl": "https://lh3.googleusercontent.com/a-/AOh14GgTAZGL9F58Yi8DnVAy4Wi7by4ZuxRdLUGBUgdbl2c=s64",
      "userId": "10712441170071618582"
     },
     "user_tz": -330
    },
    "id": "useful-surname",
    "outputId": "f1d1dd0c-f94f-4907-ec1a-68ffbebf2c9b"
   },
   "outputs": [
    {
     "data": {
      "text/plain": [
       "[{'input': {'poly1': [2, 0, 5, 7], 'poly2': [3, 4, 2]},\n",
       "  'output': [6, 8, 19, 41, 38, 14]},\n",
       " {'input': {'poly1': [0], 'poly2': [1, 2, 3]}, 'output': [0, 0, 0]},\n",
       " {'input': {'poly1': [0, 0, -3], 'poly2': [1, 0, 0, 3]},\n",
       "  'output': [0, 0, -3, 0, 0, -9]},\n",
       " {'input': {'poly1': [2, 5, 3, 1, -1], 'poly2': [1, 2, 2, 3, 6]},\n",
       "  'output': [2, 9, 17, 23, 34, 39, 19, 3, -6]},\n",
       " {'input': {'poly1': [0, 4, 5], 'poly2': [5, 0, 2]},\n",
       "  'output': [0, 20, 25, 8, 10]},\n",
       " {'input': {'poly1': [8], 'poly2': [20]}, 'output': [160]},\n",
       " {'input': {'poly1': [5, 0, 10, 6], 'poly2': [1, 2, 4]},\n",
       "  'output': [5, 10, 30, 26, 52, 24]},\n",
       " {'input': {'poly1': [], 'poly2': []}, 'output': []},\n",
       " {'input': {'poly1': [2, 79, -8, -86, 6, -29, 88, -80, 2, 21],\n",
       "   'poly2': [-26, -13, 16, -1, 3, 51, 30, 49, -48, -99]},\n",
       "  'output': [-52,\n",
       "   -2080,\n",
       "   -787,\n",
       "   3602,\n",
       "   761,\n",
       "   -353,\n",
       "   2336,\n",
       "   2268,\n",
       "   1592,\n",
       "   -8683,\n",
       "   -12847,\n",
       "   8926,\n",
       "   5350,\n",
       "   2875,\n",
       "   -4142,\n",
       "   -4144,\n",
       "   8853,\n",
       "   -1206,\n",
       "   -2079]}]"
      ]
     },
     "execution_count": 20,
     "metadata": {
      "tags": []
     },
     "output_type": "execute_result"
    }
   ],
   "source": [
    "tests"
   ]
  },
  {
   "cell_type": "code",
   "execution_count": 21,
   "id": "complete-moral",
   "metadata": {
    "executionInfo": {
     "elapsed": 1797,
     "status": "ok",
     "timestamp": 1617210103604,
     "user": {
      "displayName": "18-4N3 Sai Krithik",
      "photoUrl": "https://lh3.googleusercontent.com/a-/AOh14GgTAZGL9F58Yi8DnVAy4Wi7by4ZuxRdLUGBUgdbl2c=s64",
      "userId": "10712441170071618582"
     },
     "user_tz": -330
    },
    "id": "complete-moral"
   },
   "outputs": [],
   "source": [
    "import jovian"
   ]
  },
  {
   "cell_type": "code",
   "execution_count": 22,
   "id": "charming-plumbing",
   "metadata": {
    "colab": {
     "base_uri": "https://localhost:8080/",
     "height": 102
    },
    "executionInfo": {
     "elapsed": 4547,
     "status": "ok",
     "timestamp": 1617210106567,
     "user": {
      "displayName": "18-4N3 Sai Krithik",
      "photoUrl": "https://lh3.googleusercontent.com/a-/AOh14GgTAZGL9F58Yi8DnVAy4Wi7by4ZuxRdLUGBUgdbl2c=s64",
      "userId": "10712441170071618582"
     },
     "user_tz": -330
    },
    "id": "charming-plumbing",
    "outputId": "9f773284-d109-4bb9-a46e-262504bcc2de"
   },
   "outputs": [
    {
     "name": "stdout",
     "output_type": "stream",
     "text": [
      "[jovian] Detected Colab notebook...\u001b[0m\n",
      "[jovian] Uploading colab notebook to Jovian...\u001b[0m\n",
      "[jovian] Capturing environment..\u001b[0m\n",
      "[jovian] Committed successfully! https://jovian.ai/saikrithik/python-divide-and-conquer-assignment\u001b[0m\n"
     ]
    },
    {
     "data": {
      "application/vnd.google.colaboratory.intrinsic+json": {
       "type": "string"
      },
      "text/plain": [
       "'https://jovian.ai/saikrithik/python-divide-and-conquer-assignment'"
      ]
     },
     "execution_count": 22,
     "metadata": {
      "tags": []
     },
     "output_type": "execute_result"
    }
   ],
   "source": [
    "jovian.commit()"
   ]
  },
  {
   "cell_type": "markdown",
   "id": "connected-brunei",
   "metadata": {
    "id": "connected-brunei"
   },
   "source": [
    "### 3. Come up with a correct solution for the problem. State it in plain English.\n",
    "\n",
    "Our first goal should always be to come up with a _correct_ solution to the problem, which may not necessarily be the most _efficient_ solution. \n",
    "\n",
    "Here's the simplest solution: If you have lists `poly1` and `poly2` representing polynomials of length $m$ and $n$ respectively, the highest degree of the exponents are $m-1$ and $n-1$ respectively. Their product has the degree $(m - 1) + (n - 1)$ i.e $m + n - 2$. The list representing the product has the length $m + n - 1$. So, we can create a list `result` of length $m + n - 1$, and set \n",
    "\n",
    "`result[k]` = Sum of all the pairs `poly1[i] * poly2[j]` where `i+j = k` \n",
    "Example:\n",
    "\n",
    "$(2 + 5x^2 + 7x^3) \\times (3 + 4x + 2x^2)$\n",
    "\n",
    "$= (2 \\times 3) + (2 \\times 4 + 0 \\times 3)x + (2 \\times 2 + 3 \\times 5 + 4 \\times 0)x^2 + (7 \\times 3 + 5 \\times 4 + 0 \\times 2)x^3 + (7 \\times 4 + 5 \\times 2)x^4 + (7 \\times 2)x^5$\n",
    "\n",
    "$= 6 + 8x + 19x^2 + 41x^3 + 38x^4 + 14x^5$\n",
    "\n",
    "\n",
    "\n",
    "\n",
    "\n",
    "\n",
    "Explain this solution in your own words below:\n",
    "\n",
    "1. Make a function having the arguments poly1, poly2, m, n.\n",
    "2. Since we are gonna multiply ploy1 & poly2; we will have a production; let's say prod[] & it's size/length will be m+n-1 & the degree of of production will be m+n-2.\n",
    "3. Before starting of calculations we will set the value of production 0, so basically we will set prod=[0, 0,....,0]] like this and multiply with its length which is m+n-1.\n",
    "4. Then we will multiply all the terms of ploy1 with all the terms of ploy2 and then we will get the sum after multiplication.Here we will use for loop to iterate over polynomials!\n",
    "5. Atlast Retuen the value of production after calculations!\n",
    "\n",
    "(add more steps if required)\n",
    "\n",
    "\n",
    "Let's save and upload our work before continuing.\n",
    "\n"
   ]
  },
  {
   "cell_type": "code",
   "execution_count": 23,
   "id": "requested-objective",
   "metadata": {
    "executionInfo": {
     "elapsed": 4119,
     "status": "ok",
     "timestamp": 1617210106568,
     "user": {
      "displayName": "18-4N3 Sai Krithik",
      "photoUrl": "https://lh3.googleusercontent.com/a-/AOh14GgTAZGL9F58Yi8DnVAy4Wi7by4ZuxRdLUGBUgdbl2c=s64",
      "userId": "10712441170071618582"
     },
     "user_tz": -330
    },
    "id": "requested-objective"
   },
   "outputs": [],
   "source": [
    "import jovian"
   ]
  },
  {
   "cell_type": "code",
   "execution_count": 24,
   "id": "broad-detail",
   "metadata": {
    "colab": {
     "base_uri": "https://localhost:8080/",
     "height": 102
    },
    "executionInfo": {
     "elapsed": 8039,
     "status": "ok",
     "timestamp": 1617210110702,
     "user": {
      "displayName": "18-4N3 Sai Krithik",
      "photoUrl": "https://lh3.googleusercontent.com/a-/AOh14GgTAZGL9F58Yi8DnVAy4Wi7by4ZuxRdLUGBUgdbl2c=s64",
      "userId": "10712441170071618582"
     },
     "user_tz": -330
    },
    "id": "broad-detail",
    "outputId": "203eb151-8d8d-45f3-d070-ad1a4119693d"
   },
   "outputs": [
    {
     "name": "stdout",
     "output_type": "stream",
     "text": [
      "[jovian] Detected Colab notebook...\u001b[0m\n",
      "[jovian] Uploading colab notebook to Jovian...\u001b[0m\n",
      "[jovian] Capturing environment..\u001b[0m\n",
      "[jovian] Committed successfully! https://jovian.ai/saikrithik/python-divide-and-conquer-assignment\u001b[0m\n"
     ]
    },
    {
     "data": {
      "application/vnd.google.colaboratory.intrinsic+json": {
       "type": "string"
      },
      "text/plain": [
       "'https://jovian.ai/saikrithik/python-divide-and-conquer-assignment'"
      ]
     },
     "execution_count": 24,
     "metadata": {
      "tags": []
     },
     "output_type": "execute_result"
    }
   ],
   "source": [
    "jovian.commit()"
   ]
  },
  {
   "cell_type": "markdown",
   "id": "genetic-stanley",
   "metadata": {
    "id": "genetic-stanley"
   },
   "source": [
    "###  4. Implement the solution and test it using example inputs. Fix bugs, if any.\n",
    "\n",
    "Implement the solution"
   ]
  },
  {
   "cell_type": "markdown",
   "id": "structured-skirt",
   "metadata": {
    "id": "structured-skirt"
   },
   "source": [
    "My Note: check this out : 1. https://www.geeksforgeeks.org/multiply-two-polynomials-2/"
   ]
  },
  {
   "cell_type": "code",
   "execution_count": 25,
   "id": "sharp-novel",
   "metadata": {
    "colab": {
     "base_uri": "https://localhost:8080/"
    },
    "executionInfo": {
     "elapsed": 7207,
     "status": "ok",
     "timestamp": 1617210110702,
     "user": {
      "displayName": "18-4N3 Sai Krithik",
      "photoUrl": "https://lh3.googleusercontent.com/a-/AOh14GgTAZGL9F58Yi8DnVAy4Wi7by4ZuxRdLUGBUgdbl2c=s64",
      "userId": "10712441170071618582"
     },
     "user_tz": -330
    },
    "id": "sharp-novel",
    "outputId": "58a457bf-ce5d-4322-ed31-c06881bd2124"
   },
   "outputs": [
    {
     "data": {
      "text/plain": [
       "3"
      ]
     },
     "execution_count": 25,
     "metadata": {
      "tags": []
     },
     "output_type": "execute_result"
    }
   ],
   "source": [
    "# my practice!!\n",
    "x1=[1,2, 3]\n",
    "lx1=len(x1)\n",
    "lx1"
   ]
  },
  {
   "cell_type": "code",
   "execution_count": 26,
   "id": "tired-angel",
   "metadata": {
    "executionInfo": {
     "elapsed": 7526,
     "status": "ok",
     "timestamp": 1617210111180,
     "user": {
      "displayName": "18-4N3 Sai Krithik",
      "photoUrl": "https://lh3.googleusercontent.com/a-/AOh14GgTAZGL9F58Yi8DnVAy4Wi7by4ZuxRdLUGBUgdbl2c=s64",
      "userId": "10712441170071618582"
     },
     "user_tz": -330
    },
    "id": "tired-angel"
   },
   "outputs": [],
   "source": [
    "#range(x1)      # i checking  # error comes!"
   ]
  },
  {
   "cell_type": "code",
   "execution_count": 27,
   "id": "close-accounting",
   "metadata": {
    "colab": {
     "base_uri": "https://localhost:8080/"
    },
    "executionInfo": {
     "elapsed": 7358,
     "status": "ok",
     "timestamp": 1617210111181,
     "user": {
      "displayName": "18-4N3 Sai Krithik",
      "photoUrl": "https://lh3.googleusercontent.com/a-/AOh14GgTAZGL9F58Yi8DnVAy4Wi7by4ZuxRdLUGBUgdbl2c=s64",
      "userId": "10712441170071618582"
     },
     "user_tz": -330
    },
    "id": "close-accounting",
    "outputId": "2245062b-b50b-4f06-d79a-d65d924026ce"
   },
   "outputs": [
    {
     "data": {
      "text/plain": [
       "range(0, 3)"
      ]
     },
     "execution_count": 27,
     "metadata": {
      "tags": []
     },
     "output_type": "execute_result"
    }
   ],
   "source": [
    "range(lx1)"
   ]
  },
  {
   "cell_type": "code",
   "execution_count": 28,
   "id": "dental-training",
   "metadata": {
    "colab": {
     "base_uri": "https://localhost:8080/"
    },
    "executionInfo": {
     "elapsed": 7114,
     "status": "ok",
     "timestamp": 1617210111181,
     "user": {
      "displayName": "18-4N3 Sai Krithik",
      "photoUrl": "https://lh3.googleusercontent.com/a-/AOh14GgTAZGL9F58Yi8DnVAy4Wi7by4ZuxRdLUGBUgdbl2c=s64",
      "userId": "10712441170071618582"
     },
     "user_tz": -330
    },
    "id": "dental-training",
    "outputId": "ba56b4dc-45f2-42b2-f07a-101b3f42a501"
   },
   "outputs": [
    {
     "data": {
      "text/plain": [
       "2"
      ]
     },
     "execution_count": 28,
     "metadata": {
      "tags": []
     },
     "output_type": "execute_result"
    }
   ],
   "source": [
    "x2=[4, 5]\n",
    "lx2=len(x2)\n",
    "lx2"
   ]
  },
  {
   "cell_type": "code",
   "execution_count": 29,
   "id": "constitutional-relevance",
   "metadata": {
    "colab": {
     "base_uri": "https://localhost:8080/"
    },
    "executionInfo": {
     "elapsed": 6890,
     "status": "ok",
     "timestamp": 1617210111182,
     "user": {
      "displayName": "18-4N3 Sai Krithik",
      "photoUrl": "https://lh3.googleusercontent.com/a-/AOh14GgTAZGL9F58Yi8DnVAy4Wi7by4ZuxRdLUGBUgdbl2c=s64",
      "userId": "10712441170071618582"
     },
     "user_tz": -330
    },
    "id": "constitutional-relevance",
    "outputId": "47dcfebd-5db9-4479-95b9-f682d4e593f0"
   },
   "outputs": [
    {
     "data": {
      "text/plain": [
       "4"
      ]
     },
     "execution_count": 29,
     "metadata": {
      "tags": []
     },
     "output_type": "execute_result"
    }
   ],
   "source": [
    "lx1+lx2-1"
   ]
  },
  {
   "cell_type": "code",
   "execution_count": 30,
   "id": "twenty-panel",
   "metadata": {
    "colab": {
     "base_uri": "https://localhost:8080/"
    },
    "executionInfo": {
     "elapsed": 6673,
     "status": "ok",
     "timestamp": 1617210111182,
     "user": {
      "displayName": "18-4N3 Sai Krithik",
      "photoUrl": "https://lh3.googleusercontent.com/a-/AOh14GgTAZGL9F58Yi8DnVAy4Wi7by4ZuxRdLUGBUgdbl2c=s64",
      "userId": "10712441170071618582"
     },
     "user_tz": -330
    },
    "id": "twenty-panel",
    "outputId": "2528e6fb-90c2-42dd-dfd8-003031a0599d"
   },
   "outputs": [
    {
     "data": {
      "text/plain": [
       "0"
      ]
     },
     "execution_count": 30,
     "metadata": {
      "tags": []
     },
     "output_type": "execute_result"
    }
   ],
   "source": [
    "0*(lx1+lx2-1)    # i caheckinggg!"
   ]
  },
  {
   "cell_type": "code",
   "execution_count": 31,
   "id": "spatial-shark",
   "metadata": {
    "colab": {
     "base_uri": "https://localhost:8080/"
    },
    "executionInfo": {
     "elapsed": 6478,
     "status": "ok",
     "timestamp": 1617210111183,
     "user": {
      "displayName": "18-4N3 Sai Krithik",
      "photoUrl": "https://lh3.googleusercontent.com/a-/AOh14GgTAZGL9F58Yi8DnVAy4Wi7by4ZuxRdLUGBUgdbl2c=s64",
      "userId": "10712441170071618582"
     },
     "user_tz": -330
    },
    "id": "spatial-shark",
    "outputId": "b8adfb3d-ae3f-4338-95f2-f98b4efd11d2"
   },
   "outputs": [
    {
     "data": {
      "text/plain": [
       "[0, 0, 0, 0]"
      ]
     },
     "execution_count": 31,
     "metadata": {
      "tags": []
     },
     "output_type": "execute_result"
    }
   ],
   "source": [
    "[0]*(lx1+lx2-1)   # i checkingggg!"
   ]
  },
  {
   "cell_type": "code",
   "execution_count": 32,
   "id": "innovative-merit",
   "metadata": {
    "executionInfo": {
     "elapsed": 6275,
     "status": "ok",
     "timestamp": 1617210111183,
     "user": {
      "displayName": "18-4N3 Sai Krithik",
      "photoUrl": "https://lh3.googleusercontent.com/a-/AOh14GgTAZGL9F58Yi8DnVAy4Wi7by4ZuxRdLUGBUgdbl2c=s64",
      "userId": "10712441170071618582"
     },
     "user_tz": -330
    },
    "id": "innovative-merit"
   },
   "outputs": [],
   "source": [
    "def multiply_basic(poly1, poly2):\n",
    "    m=len(poly1)\n",
    "    n=len(poly2)\n",
    "    prod =[0]*(m+n-1)                  #m+n-1 is the length of production of poly1 & poly2!\n",
    "    for i in range(m):                  # m=len(poly1) & n=len(ploy2)\n",
    "        for j in range(n):\n",
    "            prod[i+j] += poly1[i]* poly2[j]         #prod[i+j]=prod[i+j]+poly1[i]*ploy2[j]\n",
    "    return prod\n",
    "    "
   ]
  },
  {
   "cell_type": "markdown",
   "id": "practical-zealand",
   "metadata": {
    "id": "practical-zealand"
   },
   "source": [
    "My Note: in multiply_basic functions you can handle all the edge cases! cause the like of product says something very specific...thast is  prod =[0]*(m+n-1)!"
   ]
  },
  {
   "cell_type": "markdown",
   "id": "designed-restriction",
   "metadata": {
    "id": "designed-restriction"
   },
   "source": [
    "Test your solution using the test cases you've defined above."
   ]
  },
  {
   "cell_type": "code",
   "execution_count": 33,
   "id": "parliamentary-allergy",
   "metadata": {
    "colab": {
     "base_uri": "https://localhost:8080/"
    },
    "executionInfo": {
     "elapsed": 5631,
     "status": "ok",
     "timestamp": 1617210111184,
     "user": {
      "displayName": "18-4N3 Sai Krithik",
      "photoUrl": "https://lh3.googleusercontent.com/a-/AOh14GgTAZGL9F58Yi8DnVAy4Wi7by4ZuxRdLUGBUgdbl2c=s64",
      "userId": "10712441170071618582"
     },
     "user_tz": -330
    },
    "id": "parliamentary-allergy",
    "outputId": "b0e0ca1a-b22c-4938-b7c6-dbc41eace9a6"
   },
   "outputs": [
    {
     "data": {
      "text/plain": [
       "{'input': {'poly1': [2, 0, 5, 7], 'poly2': [3, 4, 2]},\n",
       " 'output': [6, 8, 19, 41, 38, 14]}"
      ]
     },
     "execution_count": 33,
     "metadata": {
      "tags": []
     },
     "output_type": "execute_result"
    }
   ],
   "source": [
    "test0"
   ]
  },
  {
   "cell_type": "code",
   "execution_count": 34,
   "id": "through-galaxy",
   "metadata": {
    "colab": {
     "base_uri": "https://localhost:8080/"
    },
    "executionInfo": {
     "elapsed": 5420,
     "status": "ok",
     "timestamp": 1617210111184,
     "user": {
      "displayName": "18-4N3 Sai Krithik",
      "photoUrl": "https://lh3.googleusercontent.com/a-/AOh14GgTAZGL9F58Yi8DnVAy4Wi7by4ZuxRdLUGBUgdbl2c=s64",
      "userId": "10712441170071618582"
     },
     "user_tz": -330
    },
    "id": "through-galaxy",
    "outputId": "e3eb0e49-d859-4e22-ed71-a8a766a5c7c3"
   },
   "outputs": [
    {
     "data": {
      "text/plain": [
       "{'poly1': [2, 0, 5, 7], 'poly2': [3, 4, 2]}"
      ]
     },
     "execution_count": 34,
     "metadata": {
      "tags": []
     },
     "output_type": "execute_result"
    }
   ],
   "source": [
    "test0[\"input\"]"
   ]
  },
  {
   "cell_type": "code",
   "execution_count": 35,
   "id": "excess-prompt",
   "metadata": {
    "colab": {
     "base_uri": "https://localhost:8080/"
    },
    "executionInfo": {
     "elapsed": 5189,
     "status": "ok",
     "timestamp": 1617210111185,
     "user": {
      "displayName": "18-4N3 Sai Krithik",
      "photoUrl": "https://lh3.googleusercontent.com/a-/AOh14GgTAZGL9F58Yi8DnVAy4Wi7by4ZuxRdLUGBUgdbl2c=s64",
      "userId": "10712441170071618582"
     },
     "user_tz": -330
    },
    "id": "excess-prompt",
    "outputId": "2caa0feb-5f34-4f94-ce07-7fb854d43e4c"
   },
   "outputs": [
    {
     "data": {
      "text/plain": [
       "[2, 0, 5, 7]"
      ]
     },
     "execution_count": 35,
     "metadata": {
      "tags": []
     },
     "output_type": "execute_result"
    }
   ],
   "source": [
    "test0[\"input\"][\"poly1\"]"
   ]
  },
  {
   "cell_type": "code",
   "execution_count": 36,
   "id": "apart-packet",
   "metadata": {
    "colab": {
     "base_uri": "https://localhost:8080/"
    },
    "executionInfo": {
     "elapsed": 4951,
     "status": "ok",
     "timestamp": 1617210111185,
     "user": {
      "displayName": "18-4N3 Sai Krithik",
      "photoUrl": "https://lh3.googleusercontent.com/a-/AOh14GgTAZGL9F58Yi8DnVAy4Wi7by4ZuxRdLUGBUgdbl2c=s64",
      "userId": "10712441170071618582"
     },
     "user_tz": -330
    },
    "id": "apart-packet",
    "outputId": "d769af8a-f8e5-4fcf-a784-fab3ca01da17"
   },
   "outputs": [
    {
     "data": {
      "text/plain": [
       "[3, 4, 2]"
      ]
     },
     "execution_count": 36,
     "metadata": {
      "tags": []
     },
     "output_type": "execute_result"
    }
   ],
   "source": [
    "test0[\"input\"][\"poly2\"]"
   ]
  },
  {
   "cell_type": "code",
   "execution_count": 37,
   "id": "cosmetic-council",
   "metadata": {
    "colab": {
     "base_uri": "https://localhost:8080/"
    },
    "executionInfo": {
     "elapsed": 4750,
     "status": "ok",
     "timestamp": 1617210111185,
     "user": {
      "displayName": "18-4N3 Sai Krithik",
      "photoUrl": "https://lh3.googleusercontent.com/a-/AOh14GgTAZGL9F58Yi8DnVAy4Wi7by4ZuxRdLUGBUgdbl2c=s64",
      "userId": "10712441170071618582"
     },
     "user_tz": -330
    },
    "id": "cosmetic-council",
    "outputId": "10072935-09cd-4e91-cd17-5acf720bafad"
   },
   "outputs": [
    {
     "data": {
      "text/plain": [
       "[6, 8, 19, 41, 38, 14]"
      ]
     },
     "execution_count": 37,
     "metadata": {
      "tags": []
     },
     "output_type": "execute_result"
    }
   ],
   "source": [
    "multiply_basic(test0[\"input\"][\"poly1\"], test0[\"input\"][\"poly2\"])"
   ]
  },
  {
   "cell_type": "markdown",
   "id": "hairy-input",
   "metadata": {
    "id": "hairy-input"
   },
   "source": [
    "My Note: The error that i encountered: https://stackoverflow.com/questions/1098643/indexerror-list-index-out-of-range-and-python"
   ]
  },
  {
   "cell_type": "code",
   "execution_count": 38,
   "id": "political-dream",
   "metadata": {
    "colab": {
     "base_uri": "https://localhost:8080/"
    },
    "executionInfo": {
     "elapsed": 4329,
     "status": "ok",
     "timestamp": 1617210111186,
     "user": {
      "displayName": "18-4N3 Sai Krithik",
      "photoUrl": "https://lh3.googleusercontent.com/a-/AOh14GgTAZGL9F58Yi8DnVAy4Wi7by4ZuxRdLUGBUgdbl2c=s64",
      "userId": "10712441170071618582"
     },
     "user_tz": -330
    },
    "id": "political-dream",
    "outputId": "f590c6a0-98fb-4192-e890-a40df7375eee"
   },
   "outputs": [
    {
     "data": {
      "text/plain": [
       "{'input': {'poly1': [0], 'poly2': [1, 2, 3]}, 'output': [0, 0, 0]}"
      ]
     },
     "execution_count": 38,
     "metadata": {
      "tags": []
     },
     "output_type": "execute_result"
    }
   ],
   "source": [
    "test1"
   ]
  },
  {
   "cell_type": "code",
   "execution_count": 39,
   "id": "aggregate-worcester",
   "metadata": {
    "colab": {
     "base_uri": "https://localhost:8080/"
    },
    "executionInfo": {
     "elapsed": 4086,
     "status": "ok",
     "timestamp": 1617210111186,
     "user": {
      "displayName": "18-4N3 Sai Krithik",
      "photoUrl": "https://lh3.googleusercontent.com/a-/AOh14GgTAZGL9F58Yi8DnVAy4Wi7by4ZuxRdLUGBUgdbl2c=s64",
      "userId": "10712441170071618582"
     },
     "user_tz": -330
    },
    "id": "aggregate-worcester",
    "outputId": "f69a9874-b01a-45bd-f403-b9ce1c1d5908"
   },
   "outputs": [
    {
     "data": {
      "text/plain": [
       "{'poly1': [0], 'poly2': [1, 2, 3]}"
      ]
     },
     "execution_count": 39,
     "metadata": {
      "tags": []
     },
     "output_type": "execute_result"
    }
   ],
   "source": [
    " test1[\"input\"]"
   ]
  },
  {
   "cell_type": "code",
   "execution_count": 40,
   "id": "civilian-crawford",
   "metadata": {
    "colab": {
     "base_uri": "https://localhost:8080/"
    },
    "executionInfo": {
     "elapsed": 3898,
     "status": "ok",
     "timestamp": 1617210111186,
     "user": {
      "displayName": "18-4N3 Sai Krithik",
      "photoUrl": "https://lh3.googleusercontent.com/a-/AOh14GgTAZGL9F58Yi8DnVAy4Wi7by4ZuxRdLUGBUgdbl2c=s64",
      "userId": "10712441170071618582"
     },
     "user_tz": -330
    },
    "id": "civilian-crawford",
    "outputId": "e776dfd5-e47f-4257-b0c1-e8f4498b6629"
   },
   "outputs": [
    {
     "data": {
      "text/plain": [
       "[0]"
      ]
     },
     "execution_count": 40,
     "metadata": {
      "tags": []
     },
     "output_type": "execute_result"
    }
   ],
   "source": [
    "test1[\"input\"][\"poly1\"]"
   ]
  },
  {
   "cell_type": "code",
   "execution_count": 41,
   "id": "effective-israel",
   "metadata": {
    "colab": {
     "base_uri": "https://localhost:8080/"
    },
    "executionInfo": {
     "elapsed": 3673,
     "status": "ok",
     "timestamp": 1617210111187,
     "user": {
      "displayName": "18-4N3 Sai Krithik",
      "photoUrl": "https://lh3.googleusercontent.com/a-/AOh14GgTAZGL9F58Yi8DnVAy4Wi7by4ZuxRdLUGBUgdbl2c=s64",
      "userId": "10712441170071618582"
     },
     "user_tz": -330
    },
    "id": "effective-israel",
    "outputId": "7a8a72df-b566-470d-efef-23f9b68c68ec"
   },
   "outputs": [
    {
     "data": {
      "text/plain": [
       "1"
      ]
     },
     "execution_count": 41,
     "metadata": {
      "tags": []
     },
     "output_type": "execute_result"
    }
   ],
   "source": [
    "m=len(test1[\"input\"][\"poly1\"])\n",
    "m"
   ]
  },
  {
   "cell_type": "code",
   "execution_count": 42,
   "id": "prescription-python",
   "metadata": {
    "colab": {
     "base_uri": "https://localhost:8080/"
    },
    "executionInfo": {
     "elapsed": 3476,
     "status": "ok",
     "timestamp": 1617210111187,
     "user": {
      "displayName": "18-4N3 Sai Krithik",
      "photoUrl": "https://lh3.googleusercontent.com/a-/AOh14GgTAZGL9F58Yi8DnVAy4Wi7by4ZuxRdLUGBUgdbl2c=s64",
      "userId": "10712441170071618582"
     },
     "user_tz": -330
    },
    "id": "prescription-python",
    "outputId": "4c1cdc7b-2b67-4151-da6a-1b3259d0f17c"
   },
   "outputs": [
    {
     "data": {
      "text/plain": [
       "3"
      ]
     },
     "execution_count": 42,
     "metadata": {
      "tags": []
     },
     "output_type": "execute_result"
    }
   ],
   "source": [
    "n=len(test1[\"input\"][\"poly2\"])\n",
    "n"
   ]
  },
  {
   "cell_type": "code",
   "execution_count": 43,
   "id": "close-rapid",
   "metadata": {
    "colab": {
     "base_uri": "https://localhost:8080/"
    },
    "executionInfo": {
     "elapsed": 3246,
     "status": "ok",
     "timestamp": 1617210111188,
     "user": {
      "displayName": "18-4N3 Sai Krithik",
      "photoUrl": "https://lh3.googleusercontent.com/a-/AOh14GgTAZGL9F58Yi8DnVAy4Wi7by4ZuxRdLUGBUgdbl2c=s64",
      "userId": "10712441170071618582"
     },
     "user_tz": -330
    },
    "id": "close-rapid",
    "outputId": "030459d0-ff29-4b15-e6b6-eb7ecdfa0c5f"
   },
   "outputs": [
    {
     "name": "stdout",
     "output_type": "stream",
     "text": [
      "CPU times: user 13 µs, sys: 3 µs, total: 16 µs\n",
      "Wall time: 19.8 µs\n"
     ]
    },
    {
     "data": {
      "text/plain": [
       "[0, 0, 0]"
      ]
     },
     "execution_count": 43,
     "metadata": {
      "tags": []
     },
     "output_type": "execute_result"
    }
   ],
   "source": [
    "%%time\n",
    "multiply_basic(test1[\"input\"][\"poly1\"],test1[\"input\"][\"poly2\"])"
   ]
  },
  {
   "cell_type": "code",
   "execution_count": 44,
   "id": "surprised-officer",
   "metadata": {
    "executionInfo": {
     "elapsed": 3065,
     "status": "ok",
     "timestamp": 1617210111188,
     "user": {
      "displayName": "18-4N3 Sai Krithik",
      "photoUrl": "https://lh3.googleusercontent.com/a-/AOh14GgTAZGL9F58Yi8DnVAy4Wi7by4ZuxRdLUGBUgdbl2c=s64",
      "userId": "10712441170071618582"
     },
     "user_tz": -330
    },
    "id": "surprised-officer"
   },
   "outputs": [],
   "source": [
    "from jovian.pythondsa import evaluate_test_cases\n",
    "from jovian.pythondsa import evaluate_test_case\n"
   ]
  },
  {
   "cell_type": "code",
   "execution_count": 45,
   "id": "legendary-paintball",
   "metadata": {
    "colab": {
     "base_uri": "https://localhost:8080/"
    },
    "executionInfo": {
     "elapsed": 3619,
     "status": "ok",
     "timestamp": 1617210111996,
     "user": {
      "displayName": "18-4N3 Sai Krithik",
      "photoUrl": "https://lh3.googleusercontent.com/a-/AOh14GgTAZGL9F58Yi8DnVAy4Wi7by4ZuxRdLUGBUgdbl2c=s64",
      "userId": "10712441170071618582"
     },
     "user_tz": -330
    },
    "id": "legendary-paintball",
    "outputId": "b3a31b54-c9ea-49e6-e7ea-e431cfb36bb6"
   },
   "outputs": [
    {
     "name": "stdout",
     "output_type": "stream",
     "text": [
      "\n",
      "Input:\n",
      "{'poly1': [0], 'poly2': [1, 2, 3]}\n",
      "\n",
      "Expected Output:\n",
      "[0, 0, 0]\n",
      "\n",
      "\n",
      "Actual Output:\n",
      "[0, 0, 0]\n",
      "\n",
      "Execution Time:\n",
      "0.011 ms\n",
      "\n",
      "Test Result:\n",
      "\u001b[92mPASSED\u001b[0m\n",
      "\n"
     ]
    },
    {
     "data": {
      "text/plain": [
       "([0, 0, 0], True, 0.011)"
      ]
     },
     "execution_count": 45,
     "metadata": {
      "tags": []
     },
     "output_type": "execute_result"
    }
   ],
   "source": [
    "evaluate_test_case(multiply_basic, test1)"
   ]
  },
  {
   "cell_type": "code",
   "execution_count": 46,
   "id": "numeric-perry",
   "metadata": {
    "colab": {
     "base_uri": "https://localhost:8080/"
    },
    "executionInfo": {
     "elapsed": 3420,
     "status": "ok",
     "timestamp": 1617210111997,
     "user": {
      "displayName": "18-4N3 Sai Krithik",
      "photoUrl": "https://lh3.googleusercontent.com/a-/AOh14GgTAZGL9F58Yi8DnVAy4Wi7by4ZuxRdLUGBUgdbl2c=s64",
      "userId": "10712441170071618582"
     },
     "user_tz": -330
    },
    "id": "numeric-perry",
    "outputId": "da593447-40f1-4181-ffe7-d8b70cadfdee"
   },
   "outputs": [
    {
     "name": "stdout",
     "output_type": "stream",
     "text": [
      "\n",
      "Input:\n",
      "{'poly1': [0, 0, -3], 'poly2': [1, 0, 0, 3]}\n",
      "\n",
      "Expected Output:\n",
      "[0, 0, -3, 0, 0, -9]\n",
      "\n",
      "\n",
      "Actual Output:\n",
      "[0, 0, -3, 0, 0, -9]\n",
      "\n",
      "Execution Time:\n",
      "0.014 ms\n",
      "\n",
      "Test Result:\n",
      "\u001b[92mPASSED\u001b[0m\n",
      "\n"
     ]
    },
    {
     "data": {
      "text/plain": [
       "([0, 0, -3, 0, 0, -9], True, 0.014)"
      ]
     },
     "execution_count": 46,
     "metadata": {
      "tags": []
     },
     "output_type": "execute_result"
    }
   ],
   "source": [
    "evaluate_test_case(multiply_basic, test2)"
   ]
  },
  {
   "cell_type": "code",
   "execution_count": 47,
   "id": "christian-bottle",
   "metadata": {
    "colab": {
     "base_uri": "https://localhost:8080/"
    },
    "executionInfo": {
     "elapsed": 3215,
     "status": "ok",
     "timestamp": 1617210111997,
     "user": {
      "displayName": "18-4N3 Sai Krithik",
      "photoUrl": "https://lh3.googleusercontent.com/a-/AOh14GgTAZGL9F58Yi8DnVAy4Wi7by4ZuxRdLUGBUgdbl2c=s64",
      "userId": "10712441170071618582"
     },
     "user_tz": -330
    },
    "id": "christian-bottle",
    "outputId": "2c9c6e4c-898d-4e3f-c1ec-57b1db5356f4"
   },
   "outputs": [
    {
     "name": "stdout",
     "output_type": "stream",
     "text": [
      "\n",
      "Input:\n",
      "{'poly1': [5, 0, 10, 6], 'poly2': [1, 2, 4]}\n",
      "\n",
      "Expected Output:\n",
      "[5, 10, 30, 26, 52, 24]\n",
      "\n",
      "\n",
      "Actual Output:\n",
      "[5, 10, 30, 26, 52, 24]\n",
      "\n",
      "Execution Time:\n",
      "0.017 ms\n",
      "\n",
      "Test Result:\n",
      "\u001b[92mPASSED\u001b[0m\n",
      "\n"
     ]
    },
    {
     "data": {
      "text/plain": [
       "([5, 10, 30, 26, 52, 24], True, 0.017)"
      ]
     },
     "execution_count": 47,
     "metadata": {
      "tags": []
     },
     "output_type": "execute_result"
    }
   ],
   "source": [
    "evaluate_test_case(multiply_basic, test6)"
   ]
  },
  {
   "cell_type": "code",
   "execution_count": 48,
   "id": "expired-smith",
   "metadata": {
    "colab": {
     "base_uri": "https://localhost:8080/"
    },
    "executionInfo": {
     "elapsed": 2990,
     "status": "ok",
     "timestamp": 1617210111998,
     "user": {
      "displayName": "18-4N3 Sai Krithik",
      "photoUrl": "https://lh3.googleusercontent.com/a-/AOh14GgTAZGL9F58Yi8DnVAy4Wi7by4ZuxRdLUGBUgdbl2c=s64",
      "userId": "10712441170071618582"
     },
     "user_tz": -330
    },
    "id": "expired-smith",
    "outputId": "587997e1-2d0f-4959-d626-27797dd057b6"
   },
   "outputs": [
    {
     "name": "stdout",
     "output_type": "stream",
     "text": [
      "\n",
      "\u001b[1mTEST CASE #0\u001b[0m\n",
      "\n",
      "Input:\n",
      "{'poly1': [2, 0, 5, 7], 'poly2': [3, 4, 2]}\n",
      "\n",
      "Expected Output:\n",
      "[6, 8, 19, 41, 38, 14]\n",
      "\n",
      "\n",
      "Actual Output:\n",
      "[6, 8, 19, 41, 38, 14]\n",
      "\n",
      "Execution Time:\n",
      "0.017 ms\n",
      "\n",
      "Test Result:\n",
      "\u001b[92mPASSED\u001b[0m\n",
      "\n",
      "\n",
      "\u001b[1mTEST CASE #1\u001b[0m\n",
      "\n",
      "Input:\n",
      "{'poly1': [0], 'poly2': [1, 2, 3]}\n",
      "\n",
      "Expected Output:\n",
      "[0, 0, 0]\n",
      "\n",
      "\n",
      "Actual Output:\n",
      "[0, 0, 0]\n",
      "\n",
      "Execution Time:\n",
      "0.01 ms\n",
      "\n",
      "Test Result:\n",
      "\u001b[92mPASSED\u001b[0m\n",
      "\n",
      "\n",
      "\u001b[1mTEST CASE #2\u001b[0m\n",
      "\n",
      "Input:\n",
      "{'poly1': [0, 0, -3], 'poly2': [1, 0, 0, 3]}\n",
      "\n",
      "Expected Output:\n",
      "[0, 0, -3, 0, 0, -9]\n",
      "\n",
      "\n",
      "Actual Output:\n",
      "[0, 0, -3, 0, 0, -9]\n",
      "\n",
      "Execution Time:\n",
      "0.014 ms\n",
      "\n",
      "Test Result:\n",
      "\u001b[92mPASSED\u001b[0m\n",
      "\n",
      "\n",
      "\u001b[1mTEST CASE #3\u001b[0m\n",
      "\n",
      "Input:\n",
      "{'poly1': [2, 5, 3, 1, -1], 'poly2': [1, 2, 2, 3, 6]}\n",
      "\n",
      "Expected Output:\n",
      "[2, 9, 17, 23, 34, 39, 19, 3, -6]\n",
      "\n",
      "\n",
      "Actual Output:\n",
      "[2, 9, 17, 23, 34, 39, 19, 3, -6]\n",
      "\n",
      "Execution Time:\n",
      "0.019 ms\n",
      "\n",
      "Test Result:\n",
      "\u001b[92mPASSED\u001b[0m\n",
      "\n",
      "\n",
      "\u001b[1mTEST CASE #4\u001b[0m\n",
      "\n",
      "Input:\n",
      "{'poly1': [0, 4, 5], 'poly2': [5, 0, 2]}\n",
      "\n",
      "Expected Output:\n",
      "[0, 20, 25, 8, 10]\n",
      "\n",
      "\n",
      "Actual Output:\n",
      "[0, 20, 25, 8, 10]\n",
      "\n",
      "Execution Time:\n",
      "0.012 ms\n",
      "\n",
      "Test Result:\n",
      "\u001b[92mPASSED\u001b[0m\n",
      "\n",
      "\n",
      "\u001b[1mTEST CASE #5\u001b[0m\n",
      "\n",
      "Input:\n",
      "{'poly1': [8], 'poly2': [20]}\n",
      "\n",
      "Expected Output:\n",
      "[160]\n",
      "\n",
      "\n",
      "Actual Output:\n",
      "[160]\n",
      "\n",
      "Execution Time:\n",
      "0.007 ms\n",
      "\n",
      "Test Result:\n",
      "\u001b[92mPASSED\u001b[0m\n",
      "\n",
      "\n",
      "\u001b[1mTEST CASE #6\u001b[0m\n",
      "\n",
      "Input:\n",
      "{'poly1': [5, 0, 10, 6], 'poly2': [1, 2, 4]}\n",
      "\n",
      "Expected Output:\n",
      "[5, 10, 30, 26, 52, 24]\n",
      "\n",
      "\n",
      "Actual Output:\n",
      "[5, 10, 30, 26, 52, 24]\n",
      "\n",
      "Execution Time:\n",
      "0.012 ms\n",
      "\n",
      "Test Result:\n",
      "\u001b[92mPASSED\u001b[0m\n",
      "\n",
      "\n",
      "\u001b[1mTEST CASE #7\u001b[0m\n",
      "\n",
      "Input:\n",
      "{'poly1': [], 'poly2': []}\n",
      "\n",
      "Expected Output:\n",
      "[]\n",
      "\n",
      "\n",
      "Actual Output:\n",
      "[]\n",
      "\n",
      "Execution Time:\n",
      "0.01 ms\n",
      "\n",
      "Test Result:\n",
      "\u001b[92mPASSED\u001b[0m\n",
      "\n",
      "\n",
      "\u001b[1mTEST CASE #8\u001b[0m\n",
      "\n",
      "Input:\n",
      "{'poly1': [2, 79, -8, -86, 6, -29, 88, -80, 2, 21], 'poly2': [-26, -13, 16, -1, 3, 51, 30, 49, -48, ...\n",
      "\n",
      "Expected Output:\n",
      "[-52, -2080, -787, 3602, 761, -353, 2336, 2268, 1592, -8683, -12847, 8926, 5350, 2875, -4142, -4144,...\n",
      "\n",
      "\n",
      "Actual Output:\n",
      "[-52, -2080, -787, 3602, 761, -353, 2336, 2268, 1592, -8683, -12847, 8926, 5350, 2875, -4142, -4144,...\n",
      "\n",
      "Execution Time:\n",
      "0.059 ms\n",
      "\n",
      "Test Result:\n",
      "\u001b[92mPASSED\u001b[0m\n",
      "\n",
      "\n",
      "\u001b[1mSUMMARY\u001b[0m\n",
      "\n",
      "TOTAL: 9, \u001b[92mPASSED\u001b[0m: 9, \u001b[91mFAILED\u001b[0m: 0\n"
     ]
    },
    {
     "data": {
      "text/plain": [
       "[([6, 8, 19, 41, 38, 14], True, 0.017),\n",
       " ([0, 0, 0], True, 0.01),\n",
       " ([0, 0, -3, 0, 0, -9], True, 0.014),\n",
       " ([2, 9, 17, 23, 34, 39, 19, 3, -6], True, 0.019),\n",
       " ([0, 20, 25, 8, 10], True, 0.012),\n",
       " ([160], True, 0.007),\n",
       " ([5, 10, 30, 26, 52, 24], True, 0.012),\n",
       " ([], True, 0.01),\n",
       " ([-52,\n",
       "   -2080,\n",
       "   -787,\n",
       "   3602,\n",
       "   761,\n",
       "   -353,\n",
       "   2336,\n",
       "   2268,\n",
       "   1592,\n",
       "   -8683,\n",
       "   -12847,\n",
       "   8926,\n",
       "   5350,\n",
       "   2875,\n",
       "   -4142,\n",
       "   -4144,\n",
       "   8853,\n",
       "   -1206,\n",
       "   -2079],\n",
       "  True,\n",
       "  0.059)]"
      ]
     },
     "execution_count": 48,
     "metadata": {
      "tags": []
     },
     "output_type": "execute_result"
    }
   ],
   "source": [
    "evaluate_test_cases(multiply_basic, tests)"
   ]
  },
  {
   "cell_type": "code",
   "execution_count": 48,
   "id": "biological-peace",
   "metadata": {
    "executionInfo": {
     "elapsed": 2799,
     "status": "ok",
     "timestamp": 1617210111998,
     "user": {
      "displayName": "18-4N3 Sai Krithik",
      "photoUrl": "https://lh3.googleusercontent.com/a-/AOh14GgTAZGL9F58Yi8DnVAy4Wi7by4ZuxRdLUGBUgdbl2c=s64",
      "userId": "10712441170071618582"
     },
     "user_tz": -330
    },
    "id": "biological-peace"
   },
   "outputs": [],
   "source": []
  },
  {
   "cell_type": "code",
   "execution_count": 49,
   "id": "chronic-competition",
   "metadata": {
    "executionInfo": {
     "elapsed": 2558,
     "status": "ok",
     "timestamp": 1617210111999,
     "user": {
      "displayName": "18-4N3 Sai Krithik",
      "photoUrl": "https://lh3.googleusercontent.com/a-/AOh14GgTAZGL9F58Yi8DnVAy4Wi7by4ZuxRdLUGBUgdbl2c=s64",
      "userId": "10712441170071618582"
     },
     "user_tz": -330
    },
    "id": "chronic-competition"
   },
   "outputs": [],
   "source": [
    "import jovian"
   ]
  },
  {
   "cell_type": "code",
   "execution_count": 50,
   "id": "located-drinking",
   "metadata": {
    "colab": {
     "base_uri": "https://localhost:8080/",
     "height": 102
    },
    "executionInfo": {
     "elapsed": 5415,
     "status": "ok",
     "timestamp": 1617210115083,
     "user": {
      "displayName": "18-4N3 Sai Krithik",
      "photoUrl": "https://lh3.googleusercontent.com/a-/AOh14GgTAZGL9F58Yi8DnVAy4Wi7by4ZuxRdLUGBUgdbl2c=s64",
      "userId": "10712441170071618582"
     },
     "user_tz": -330
    },
    "id": "located-drinking",
    "outputId": "94c9dd44-2a2e-4e37-fd2e-e0ef8cc641cd"
   },
   "outputs": [
    {
     "name": "stdout",
     "output_type": "stream",
     "text": [
      "[jovian] Detected Colab notebook...\u001b[0m\n",
      "[jovian] Uploading colab notebook to Jovian...\u001b[0m\n",
      "[jovian] Capturing environment..\u001b[0m\n",
      "[jovian] Committed successfully! https://jovian.ai/saikrithik/python-divide-and-conquer-assignment\u001b[0m\n"
     ]
    },
    {
     "data": {
      "application/vnd.google.colaboratory.intrinsic+json": {
       "type": "string"
      },
      "text/plain": [
       "'https://jovian.ai/saikrithik/python-divide-and-conquer-assignment'"
      ]
     },
     "execution_count": 50,
     "metadata": {
      "tags": []
     },
     "output_type": "execute_result"
    }
   ],
   "source": [
    "jovian.commit()"
   ]
  },
  {
   "cell_type": "markdown",
   "id": "fifteen-hindu",
   "metadata": {
    "id": "fifteen-hindu"
   },
   "source": [
    "### 5. Analyze the algorithm's complexity and identify inefficiencies, if any.\n",
    "\n",
    "Can you analyze the time and space complexity of this algorithm?"
   ]
  },
  {
   "cell_type": "markdown",
   "id": "relevant-drinking",
   "metadata": {
    "id": "relevant-drinking"
   },
   "source": [
    "My Note: Time complexity of the above solution is O(mn). If size of two polynomials same, then time complexity is O(n2)."
   ]
  },
  {
   "cell_type": "code",
   "execution_count": 51,
   "id": "charged-architecture",
   "metadata": {
    "executionInfo": {
     "elapsed": 4556,
     "status": "ok",
     "timestamp": 1617210115084,
     "user": {
      "displayName": "18-4N3 Sai Krithik",
      "photoUrl": "https://lh3.googleusercontent.com/a-/AOh14GgTAZGL9F58Yi8DnVAy4Wi7by4ZuxRdLUGBUgdbl2c=s64",
      "userId": "10712441170071618582"
     },
     "user_tz": -330
    },
    "id": "charged-architecture"
   },
   "outputs": [],
   "source": [
    "multiply_basic_time_complexity = 'O(m*n)'"
   ]
  },
  {
   "cell_type": "code",
   "execution_count": 52,
   "id": "innocent-nicaragua",
   "metadata": {
    "executionInfo": {
     "elapsed": 4271,
     "status": "ok",
     "timestamp": 1617210115084,
     "user": {
      "displayName": "18-4N3 Sai Krithik",
      "photoUrl": "https://lh3.googleusercontent.com/a-/AOh14GgTAZGL9F58Yi8DnVAy4Wi7by4ZuxRdLUGBUgdbl2c=s64",
      "userId": "10712441170071618582"
     },
     "user_tz": -330
    },
    "id": "innocent-nicaragua"
   },
   "outputs": [],
   "source": [
    "multiply_basic_space_complexity = 'O(n)'"
   ]
  },
  {
   "cell_type": "code",
   "execution_count": 52,
   "id": "typical-status",
   "metadata": {
    "executionInfo": {
     "elapsed": 4061,
     "status": "ok",
     "timestamp": 1617210115085,
     "user": {
      "displayName": "18-4N3 Sai Krithik",
      "photoUrl": "https://lh3.googleusercontent.com/a-/AOh14GgTAZGL9F58Yi8DnVAy4Wi7by4ZuxRdLUGBUgdbl2c=s64",
      "userId": "10712441170071618582"
     },
     "user_tz": -330
    },
    "id": "typical-status"
   },
   "outputs": [],
   "source": []
  },
  {
   "cell_type": "code",
   "execution_count": 53,
   "id": "federal-double",
   "metadata": {
    "executionInfo": {
     "elapsed": 3824,
     "status": "ok",
     "timestamp": 1617210115085,
     "user": {
      "displayName": "18-4N3 Sai Krithik",
      "photoUrl": "https://lh3.googleusercontent.com/a-/AOh14GgTAZGL9F58Yi8DnVAy4Wi7by4ZuxRdLUGBUgdbl2c=s64",
      "userId": "10712441170071618582"
     },
     "user_tz": -330
    },
    "id": "federal-double"
   },
   "outputs": [],
   "source": [
    "import jovian"
   ]
  },
  {
   "cell_type": "code",
   "execution_count": 54,
   "id": "preliminary-great",
   "metadata": {
    "colab": {
     "base_uri": "https://localhost:8080/",
     "height": 102
    },
    "executionInfo": {
     "elapsed": 7853,
     "status": "ok",
     "timestamp": 1617210119351,
     "user": {
      "displayName": "18-4N3 Sai Krithik",
      "photoUrl": "https://lh3.googleusercontent.com/a-/AOh14GgTAZGL9F58Yi8DnVAy4Wi7by4ZuxRdLUGBUgdbl2c=s64",
      "userId": "10712441170071618582"
     },
     "user_tz": -330
    },
    "id": "preliminary-great",
    "outputId": "b185e65a-47a9-457b-85a8-81b2fa2e6915"
   },
   "outputs": [
    {
     "name": "stdout",
     "output_type": "stream",
     "text": [
      "[jovian] Detected Colab notebook...\u001b[0m\n",
      "[jovian] Uploading colab notebook to Jovian...\u001b[0m\n",
      "[jovian] Capturing environment..\u001b[0m\n",
      "[jovian] Committed successfully! https://jovian.ai/saikrithik/python-divide-and-conquer-assignment\u001b[0m\n"
     ]
    },
    {
     "data": {
      "application/vnd.google.colaboratory.intrinsic+json": {
       "type": "string"
      },
      "text/plain": [
       "'https://jovian.ai/saikrithik/python-divide-and-conquer-assignment'"
      ]
     },
     "execution_count": 54,
     "metadata": {
      "tags": []
     },
     "output_type": "execute_result"
    }
   ],
   "source": [
    "jovian.commit()"
   ]
  },
  {
   "cell_type": "markdown",
   "id": "seasonal-testament",
   "metadata": {
    "id": "seasonal-testament"
   },
   "source": [
    "### 6. Apply the right technique to overcome the inefficiency. Repeat steps 3 to 6.\n",
    "\n",
    "We can apply the divide and conquer technique to solve this problem more efficiently. Given two polynomials `A` and `B`, we can express each of them as a sum of two polynomials as follows:\n",
    "\n",
    "<img src=\"https://i.imgur.com/FjKQF5h.png\" width=\"480\">\n",
    "\n",
    "We need to compute the terms `A0 * B0`, `A1 * B0 + A0 * B1` and `A1 * B1`. This can obviously be done using 4 multiplications, but here's a way of doing it with just three multiplications:\n",
    "\n",
    "<img src=\"https://i.imgur.com/G3vD1GX.png\" width=\"480\">\n",
    "\n",
    "\n",
    "Each of the products can themselves be computed recursively. For a more detailed explanation of this approach see http://www.cse.ust.hk/~dekai/271/notes/L03/L03.pdf .\n",
    "\n",
    "\n",
    "Need help? Discuss and ask questions on the forum: https://jovian.ai/forum/c/data-structures-and-algorithms-in-python/assignment-3/89\n"
   ]
  },
  {
   "cell_type": "markdown",
   "id": "surrounded-mobility",
   "metadata": {
    "id": "surrounded-mobility"
   },
   "source": [
    "My Note: https://www.geeksforgeeks.org/divide-and-conquer-algorithm-introduction/"
   ]
  },
  {
   "cell_type": "markdown",
   "id": "standing-survival",
   "metadata": {
    "id": "standing-survival"
   },
   "source": [
    "### 7. Come up with a correct solution for the problem. State it in plain English.\n",
    "\n",
    "Explain the approach described above in your own words below:\n",
    "\n",
    "1. At first divide /split the two polynomials.\n",
    "2. if the length of any of polynomials is small(in this case length 1), then we will return the product after multiplying the small polynomial with all the elements of second polynomial.\n",
    "3. if point 2 is not true then we will calculate the A0*B0, A0*B1, A1*B0, A1*B1 using recursion.\n",
    "4. And after calculation we will combine all the values.\n",
    "5. Then we will return product/ multiplication of two polynomials!\n",
    "\n",
    "(add more steps if required)\n",
    "\n",
    "\n",
    "Let's save and upload our work before continuing."
   ]
  },
  {
   "cell_type": "code",
   "execution_count": 55,
   "id": "rough-stations",
   "metadata": {
    "executionInfo": {
     "elapsed": 6932,
     "status": "ok",
     "timestamp": 1617210119352,
     "user": {
      "displayName": "18-4N3 Sai Krithik",
      "photoUrl": "https://lh3.googleusercontent.com/a-/AOh14GgTAZGL9F58Yi8DnVAy4Wi7by4ZuxRdLUGBUgdbl2c=s64",
      "userId": "10712441170071618582"
     },
     "user_tz": -330
    },
    "id": "rough-stations"
   },
   "outputs": [],
   "source": [
    "import jovian"
   ]
  },
  {
   "cell_type": "code",
   "execution_count": 56,
   "id": "beginning-criticism",
   "metadata": {
    "colab": {
     "base_uri": "https://localhost:8080/",
     "height": 102
    },
    "executionInfo": {
     "elapsed": 9726,
     "status": "ok",
     "timestamp": 1617210122369,
     "user": {
      "displayName": "18-4N3 Sai Krithik",
      "photoUrl": "https://lh3.googleusercontent.com/a-/AOh14GgTAZGL9F58Yi8DnVAy4Wi7by4ZuxRdLUGBUgdbl2c=s64",
      "userId": "10712441170071618582"
     },
     "user_tz": -330
    },
    "id": "beginning-criticism",
    "outputId": "dbbdfc4b-03b7-4648-ad0c-4760c25cf93d"
   },
   "outputs": [
    {
     "name": "stdout",
     "output_type": "stream",
     "text": [
      "[jovian] Detected Colab notebook...\u001b[0m\n",
      "[jovian] Uploading colab notebook to Jovian...\u001b[0m\n",
      "[jovian] Capturing environment..\u001b[0m\n",
      "[jovian] Committed successfully! https://jovian.ai/saikrithik/python-divide-and-conquer-assignment\u001b[0m\n"
     ]
    },
    {
     "data": {
      "application/vnd.google.colaboratory.intrinsic+json": {
       "type": "string"
      },
      "text/plain": [
       "'https://jovian.ai/saikrithik/python-divide-and-conquer-assignment'"
      ]
     },
     "execution_count": 56,
     "metadata": {
      "tags": []
     },
     "output_type": "execute_result"
    }
   ],
   "source": [
    "jovian.commit()"
   ]
  },
  {
   "cell_type": "markdown",
   "id": "processed-island",
   "metadata": {
    "id": "processed-island"
   },
   "source": [
    "### 8. Implement the solution and test it using example inputs. Fix bugs, if any.\n",
    "\n",
    "We are now ready to implement the solution. You may find the following functions `add`, `split` and `increase_exponent` useful.\n"
   ]
  },
  {
   "cell_type": "code",
   "execution_count": 57,
   "id": "portuguese-costs",
   "metadata": {
    "executionInfo": {
     "elapsed": 8438,
     "status": "ok",
     "timestamp": 1617210122369,
     "user": {
      "displayName": "18-4N3 Sai Krithik",
      "photoUrl": "https://lh3.googleusercontent.com/a-/AOh14GgTAZGL9F58Yi8DnVAy4Wi7by4ZuxRdLUGBUgdbl2c=s64",
      "userId": "10712441170071618582"
     },
     "user_tz": -330
    },
    "id": "portuguese-costs"
   },
   "outputs": [],
   "source": [
    "#my practice!\n",
    "y1=[3, 4, 6, 1]\n",
    "y2=[2, 6, 4]"
   ]
  },
  {
   "cell_type": "code",
   "execution_count": 58,
   "id": "cleared-attention",
   "metadata": {
    "colab": {
     "base_uri": "https://localhost:8080/"
    },
    "executionInfo": {
     "elapsed": 8379,
     "status": "ok",
     "timestamp": 1617210122369,
     "user": {
      "displayName": "18-4N3 Sai Krithik",
      "photoUrl": "https://lh3.googleusercontent.com/a-/AOh14GgTAZGL9F58Yi8DnVAy4Wi7by4ZuxRdLUGBUgdbl2c=s64",
      "userId": "10712441170071618582"
     },
     "user_tz": -330
    },
    "id": "cleared-attention",
    "outputId": "ff34cba7-f95a-4ae1-99c2-8e25c82cd107"
   },
   "outputs": [
    {
     "data": {
      "text/plain": [
       "4"
      ]
     },
     "execution_count": 58,
     "metadata": {
      "tags": []
     },
     "output_type": "execute_result"
    }
   ],
   "source": [
    "len(y1)"
   ]
  },
  {
   "cell_type": "code",
   "execution_count": 59,
   "id": "metric-correlation",
   "metadata": {
    "colab": {
     "base_uri": "https://localhost:8080/"
    },
    "executionInfo": {
     "elapsed": 8322,
     "status": "ok",
     "timestamp": 1617210122370,
     "user": {
      "displayName": "18-4N3 Sai Krithik",
      "photoUrl": "https://lh3.googleusercontent.com/a-/AOh14GgTAZGL9F58Yi8DnVAy4Wi7by4ZuxRdLUGBUgdbl2c=s64",
      "userId": "10712441170071618582"
     },
     "user_tz": -330
    },
    "id": "metric-correlation",
    "outputId": "7760fbb3-6361-4377-aa01-1f2df0524e04"
   },
   "outputs": [
    {
     "data": {
      "text/plain": [
       "3"
      ]
     },
     "execution_count": 59,
     "metadata": {
      "tags": []
     },
     "output_type": "execute_result"
    }
   ],
   "source": [
    "len(y2)"
   ]
  },
  {
   "cell_type": "code",
   "execution_count": 60,
   "id": "wireless-passing",
   "metadata": {
    "colab": {
     "base_uri": "https://localhost:8080/"
    },
    "executionInfo": {
     "elapsed": 8271,
     "status": "ok",
     "timestamp": 1617210122370,
     "user": {
      "displayName": "18-4N3 Sai Krithik",
      "photoUrl": "https://lh3.googleusercontent.com/a-/AOh14GgTAZGL9F58Yi8DnVAy4Wi7by4ZuxRdLUGBUgdbl2c=s64",
      "userId": "10712441170071618582"
     },
     "user_tz": -330
    },
    "id": "wireless-passing",
    "outputId": "1511f8d4-4be6-4add-9f84-fa288f9574cd"
   },
   "outputs": [
    {
     "data": {
      "text/plain": [
       "4"
      ]
     },
     "execution_count": 60,
     "metadata": {
      "tags": []
     },
     "output_type": "execute_result"
    }
   ],
   "source": [
    "max(len(y1), len(y2))"
   ]
  },
  {
   "cell_type": "code",
   "execution_count": 61,
   "id": "separate-spokesman",
   "metadata": {
    "colab": {
     "base_uri": "https://localhost:8080/"
    },
    "executionInfo": {
     "elapsed": 8676,
     "status": "ok",
     "timestamp": 1617210122856,
     "user": {
      "displayName": "18-4N3 Sai Krithik",
      "photoUrl": "https://lh3.googleusercontent.com/a-/AOh14GgTAZGL9F58Yi8DnVAy4Wi7by4ZuxRdLUGBUgdbl2c=s64",
      "userId": "10712441170071618582"
     },
     "user_tz": -330
    },
    "id": "separate-spokesman",
    "outputId": "70467935-c0dd-4110-c1fa-8d0957ed26c7"
   },
   "outputs": [
    {
     "data": {
      "text/plain": [
       "[0, 0, 0, 0]"
      ]
     },
     "execution_count": 61,
     "metadata": {
      "tags": []
     },
     "output_type": "execute_result"
    }
   ],
   "source": [
    "[0]*max(len(y1), len(y2))   \n",
    "#My Note: try adding two olynomials you will understand why we are taking max of two polynomials!!"
   ]
  },
  {
   "cell_type": "markdown",
   "id": "visible-acquisition",
   "metadata": {
    "id": "visible-acquisition"
   },
   "source": [
    "My Note: how to add two polynomials: https://tutorialspoint.dev/algorithm/mathematical-algorithms/program-add-two-polynomials"
   ]
  },
  {
   "cell_type": "code",
   "execution_count": 62,
   "id": "incorporated-thomson",
   "metadata": {
    "executionInfo": {
     "elapsed": 8320,
     "status": "ok",
     "timestamp": 1617210122857,
     "user": {
      "displayName": "18-4N3 Sai Krithik",
      "photoUrl": "https://lh3.googleusercontent.com/a-/AOh14GgTAZGL9F58Yi8DnVAy4Wi7by4ZuxRdLUGBUgdbl2c=s64",
      "userId": "10712441170071618582"
     },
     "user_tz": -330
    },
    "id": "incorporated-thomson"
   },
   "outputs": [],
   "source": [
    "def add(poly1, poly2):\n",
    "    \"\"\"Add two polynomials\"\"\"\n",
    "    result = [0] * max(len(poly1), len(poly2))\n",
    "    for i in range(len(result)):\n",
    "        if i < len(poly1):\n",
    "            result[i] += poly1[i]\n",
    "        if i < len(poly2):\n",
    "            result[i] += poly2[i]\n",
    "    return result"
   ]
  },
  {
   "cell_type": "code",
   "execution_count": 63,
   "id": "adjustable-highway",
   "metadata": {
    "executionInfo": {
     "elapsed": 8145,
     "status": "ok",
     "timestamp": 1617210122857,
     "user": {
      "displayName": "18-4N3 Sai Krithik",
      "photoUrl": "https://lh3.googleusercontent.com/a-/AOh14GgTAZGL9F58Yi8DnVAy4Wi7by4ZuxRdLUGBUgdbl2c=s64",
      "userId": "10712441170071618582"
     },
     "user_tz": -330
    },
    "id": "adjustable-highway"
   },
   "outputs": [],
   "source": [
    "#polynomials subtraction\n",
    "def sub(poly1, poly2):\n",
    "    \"\"\"subtract two polynomials\"\"\"\n",
    "    result = [0] * max(len(poly1), len(poly2))\n",
    "    for i in range(len(result)):\n",
    "        if i < len(poly1):\n",
    "            result[i] += poly1[i]\n",
    "        if i < len(poly2):\n",
    "            result[i] -= poly2[i]\n",
    "    return result"
   ]
  },
  {
   "cell_type": "code",
   "execution_count": 64,
   "id": "driven-priority",
   "metadata": {
    "colab": {
     "base_uri": "https://localhost:8080/"
    },
    "executionInfo": {
     "elapsed": 7925,
     "status": "ok",
     "timestamp": 1617210122858,
     "user": {
      "displayName": "18-4N3 Sai Krithik",
      "photoUrl": "https://lh3.googleusercontent.com/a-/AOh14GgTAZGL9F58Yi8DnVAy4Wi7by4ZuxRdLUGBUgdbl2c=s64",
      "userId": "10712441170071618582"
     },
     "user_tz": -330
    },
    "id": "driven-priority",
    "outputId": "afe6fca5-1e72-46b6-b802-fcc2fb5abda7"
   },
   "outputs": [
    {
     "data": {
      "text/plain": [
       "[1, 6, 6, 4]"
      ]
     },
     "execution_count": 64,
     "metadata": {
      "tags": []
     },
     "output_type": "execute_result"
    }
   ],
   "source": [
    "add([1, 2, 3, 4], [0, 4, 3])"
   ]
  },
  {
   "cell_type": "code",
   "execution_count": 65,
   "id": "graphic-tribe",
   "metadata": {
    "colab": {
     "base_uri": "https://localhost:8080/"
    },
    "executionInfo": {
     "elapsed": 7690,
     "status": "ok",
     "timestamp": 1617210122858,
     "user": {
      "displayName": "18-4N3 Sai Krithik",
      "photoUrl": "https://lh3.googleusercontent.com/a-/AOh14GgTAZGL9F58Yi8DnVAy4Wi7by4ZuxRdLUGBUgdbl2c=s64",
      "userId": "10712441170071618582"
     },
     "user_tz": -330
    },
    "id": "graphic-tribe",
    "outputId": "408ab854-743f-4013-8e46-574c0563dd62"
   },
   "outputs": [
    {
     "data": {
      "text/plain": [
       "[1, -2, 0, 4]"
      ]
     },
     "execution_count": 65,
     "metadata": {
      "tags": []
     },
     "output_type": "execute_result"
    }
   ],
   "source": [
    "sub([1, 2, 3, 4], [0, 4,3])"
   ]
  },
  {
   "cell_type": "code",
   "execution_count": 66,
   "id": "forward-alignment",
   "metadata": {
    "colab": {
     "base_uri": "https://localhost:8080/"
    },
    "executionInfo": {
     "elapsed": 7502,
     "status": "ok",
     "timestamp": 1617210122859,
     "user": {
      "displayName": "18-4N3 Sai Krithik",
      "photoUrl": "https://lh3.googleusercontent.com/a-/AOh14GgTAZGL9F58Yi8DnVAy4Wi7by4ZuxRdLUGBUgdbl2c=s64",
      "userId": "10712441170071618582"
     },
     "user_tz": -330
    },
    "id": "forward-alignment",
    "outputId": "b23dab31-9bc5-46fe-f00c-1be1e6075e61"
   },
   "outputs": [
    {
     "data": {
      "text/plain": [
       "2.0"
      ]
     },
     "execution_count": 66,
     "metadata": {
      "tags": []
     },
     "output_type": "execute_result"
    }
   ],
   "source": [
    "# my prcatice!!\n",
    "max(len(y1), len(y2))/2"
   ]
  },
  {
   "cell_type": "code",
   "execution_count": 67,
   "id": "professional-reaction",
   "metadata": {
    "colab": {
     "base_uri": "https://localhost:8080/"
    },
    "executionInfo": {
     "elapsed": 7301,
     "status": "ok",
     "timestamp": 1617210122859,
     "user": {
      "displayName": "18-4N3 Sai Krithik",
      "photoUrl": "https://lh3.googleusercontent.com/a-/AOh14GgTAZGL9F58Yi8DnVAy4Wi7by4ZuxRdLUGBUgdbl2c=s64",
      "userId": "10712441170071618582"
     },
     "user_tz": -330
    },
    "id": "professional-reaction",
    "outputId": "7667b51c-260a-4e2f-8b11-aea8ed591622"
   },
   "outputs": [
    {
     "data": {
      "text/plain": [
       "2"
      ]
     },
     "execution_count": 67,
     "metadata": {
      "tags": []
     },
     "output_type": "execute_result"
    }
   ],
   "source": [
    "# my prcatice!!      #floor division\n",
    "max(len(y1), len(y2))//2"
   ]
  },
  {
   "cell_type": "code",
   "execution_count": 68,
   "id": "correct-physics",
   "metadata": {
    "colab": {
     "base_uri": "https://localhost:8080/"
    },
    "executionInfo": {
     "elapsed": 7101,
     "status": "ok",
     "timestamp": 1617210122860,
     "user": {
      "displayName": "18-4N3 Sai Krithik",
      "photoUrl": "https://lh3.googleusercontent.com/a-/AOh14GgTAZGL9F58Yi8DnVAy4Wi7by4ZuxRdLUGBUgdbl2c=s64",
      "userId": "10712441170071618582"
     },
     "user_tz": -330
    },
    "id": "correct-physics",
    "outputId": "c92bf5b1-e9ed-475a-c8d3-b56dd5fc835b"
   },
   "outputs": [
    {
     "data": {
      "text/plain": [
       "[3, 4]"
      ]
     },
     "execution_count": 68,
     "metadata": {
      "tags": []
     },
     "output_type": "execute_result"
    }
   ],
   "source": [
    "mid=max(len(y1), len(y2))//2    #my practice!\n",
    "y1[:mid]"
   ]
  },
  {
   "cell_type": "code",
   "execution_count": 69,
   "id": "separated-guide",
   "metadata": {
    "colab": {
     "base_uri": "https://localhost:8080/"
    },
    "executionInfo": {
     "elapsed": 6867,
     "status": "ok",
     "timestamp": 1617210122861,
     "user": {
      "displayName": "18-4N3 Sai Krithik",
      "photoUrl": "https://lh3.googleusercontent.com/a-/AOh14GgTAZGL9F58Yi8DnVAy4Wi7by4ZuxRdLUGBUgdbl2c=s64",
      "userId": "10712441170071618582"
     },
     "user_tz": -330
    },
    "id": "separated-guide",
    "outputId": "0cd31b5e-85be-4419-b0c3-e0af2a80ea86"
   },
   "outputs": [
    {
     "data": {
      "text/plain": [
       "[6, 1]"
      ]
     },
     "execution_count": 69,
     "metadata": {
      "tags": []
     },
     "output_type": "execute_result"
    }
   ],
   "source": [
    "y1[mid:]    # i checking"
   ]
  },
  {
   "cell_type": "code",
   "execution_count": 70,
   "id": "integrated-newspaper",
   "metadata": {
    "executionInfo": {
     "elapsed": 6665,
     "status": "ok",
     "timestamp": 1617210122861,
     "user": {
      "displayName": "18-4N3 Sai Krithik",
      "photoUrl": "https://lh3.googleusercontent.com/a-/AOh14GgTAZGL9F58Yi8DnVAy4Wi7by4ZuxRdLUGBUgdbl2c=s64",
      "userId": "10712441170071618582"
     },
     "user_tz": -330
    },
    "id": "integrated-newspaper"
   },
   "outputs": [],
   "source": [
    "def split(poly1, poly2):\n",
    "    \"\"\"Split each polynomial into two smaller polynomials\"\"\"\n",
    "    mid = max(len(poly1), len(poly2)) // 2\n",
    "    return  (poly1[:mid], poly1[mid:]), (poly2[:mid], poly2[mid:])"
   ]
  },
  {
   "cell_type": "code",
   "execution_count": 71,
   "id": "fifth-lending",
   "metadata": {
    "colab": {
     "base_uri": "https://localhost:8080/"
    },
    "executionInfo": {
     "elapsed": 6448,
     "status": "ok",
     "timestamp": 1617210122862,
     "user": {
      "displayName": "18-4N3 Sai Krithik",
      "photoUrl": "https://lh3.googleusercontent.com/a-/AOh14GgTAZGL9F58Yi8DnVAy4Wi7by4ZuxRdLUGBUgdbl2c=s64",
      "userId": "10712441170071618582"
     },
     "user_tz": -330
    },
    "id": "fifth-lending",
    "outputId": "9ca55a76-7839-4a20-b302-86838b12081c"
   },
   "outputs": [
    {
     "data": {
      "text/plain": [
       "(([1, 2, 3], [4]), ([0, 4, 3], [6, 7, 8, 2]))"
      ]
     },
     "execution_count": 71,
     "metadata": {
      "tags": []
     },
     "output_type": "execute_result"
    }
   ],
   "source": [
    "split([1, 2, 3, 4], [0, 4, 3, 6, 7, 8, 2])"
   ]
  },
  {
   "cell_type": "code",
   "execution_count": 72,
   "id": "complimentary-listening",
   "metadata": {
    "executionInfo": {
     "elapsed": 6228,
     "status": "ok",
     "timestamp": 1617210122862,
     "user": {
      "displayName": "18-4N3 Sai Krithik",
      "photoUrl": "https://lh3.googleusercontent.com/a-/AOh14GgTAZGL9F58Yi8DnVAy4Wi7by4ZuxRdLUGBUgdbl2c=s64",
      "userId": "10712441170071618582"
     },
     "user_tz": -330
    },
    "id": "complimentary-listening"
   },
   "outputs": [],
   "source": [
    "def increase_exponent(poly, n):\n",
    "    \"\"\"Multiply poly1 by x^n\"\"\"\n",
    "    return [0] * n + poly"
   ]
  },
  {
   "cell_type": "code",
   "execution_count": 73,
   "id": "stuck-founder",
   "metadata": {
    "colab": {
     "base_uri": "https://localhost:8080/"
    },
    "executionInfo": {
     "elapsed": 6016,
     "status": "ok",
     "timestamp": 1617210122862,
     "user": {
      "displayName": "18-4N3 Sai Krithik",
      "photoUrl": "https://lh3.googleusercontent.com/a-/AOh14GgTAZGL9F58Yi8DnVAy4Wi7by4ZuxRdLUGBUgdbl2c=s64",
      "userId": "10712441170071618582"
     },
     "user_tz": -330
    },
    "id": "stuck-founder",
    "outputId": "1fee449c-6c7c-44a1-e01c-bea381a99b0b"
   },
   "outputs": [
    {
     "data": {
      "text/plain": [
       "[0, 0, 0, 1, 2, 3, 4]"
      ]
     },
     "execution_count": 73,
     "metadata": {
      "tags": []
     },
     "output_type": "execute_result"
    }
   ],
   "source": [
    "increase_exponent([1, 2, 3, 4], 3)"
   ]
  },
  {
   "cell_type": "markdown",
   "id": "occupational-wells",
   "metadata": {
    "id": "occupational-wells"
   },
   "source": [
    "Implement the optimized multiplication algorithm below. You may use the some or all of the helper functions defined above."
   ]
  },
  {
   "cell_type": "code",
   "execution_count": 74,
   "id": "critical-universe",
   "metadata": {
    "colab": {
     "base_uri": "https://localhost:8080/"
    },
    "executionInfo": {
     "elapsed": 5584,
     "status": "ok",
     "timestamp": 1617210122863,
     "user": {
      "displayName": "18-4N3 Sai Krithik",
      "photoUrl": "https://lh3.googleusercontent.com/a-/AOh14GgTAZGL9F58Yi8DnVAy4Wi7by4ZuxRdLUGBUgdbl2c=s64",
      "userId": "10712441170071618582"
     },
     "user_tz": -330
    },
    "id": "critical-universe",
    "outputId": "7b21dff8-9eb8-490c-da62-a3d07bbdc91f"
   },
   "outputs": [
    {
     "name": "stdout",
     "output_type": "stream",
     "text": [
      "[3, 4, 6, 1]\n"
     ]
    }
   ],
   "source": [
    "# my practice!!\n",
    "if len(y1)<=1 or len(y2)<=1:\n",
    "    pass\n",
    "else:\n",
    "    print(y1)"
   ]
  },
  {
   "cell_type": "code",
   "execution_count": 75,
   "id": "basic-individual",
   "metadata": {
    "colab": {
     "base_uri": "https://localhost:8080/"
    },
    "executionInfo": {
     "elapsed": 5376,
     "status": "ok",
     "timestamp": 1617210122863,
     "user": {
      "displayName": "18-4N3 Sai Krithik",
      "photoUrl": "https://lh3.googleusercontent.com/a-/AOh14GgTAZGL9F58Yi8DnVAy4Wi7by4ZuxRdLUGBUgdbl2c=s64",
      "userId": "10712441170071618582"
     },
     "user_tz": -330
    },
    "id": "basic-individual",
    "outputId": "ffe38c9e-d82f-42b4-e540-f93d2197afe2"
   },
   "outputs": [
    {
     "name": "stdout",
     "output_type": "stream",
     "text": [
      "[3, 4, 6, 1] [2, 6, 4]\n"
     ]
    }
   ],
   "source": [
    "# my practice!!\n",
    "if len(y1)<=1 or len(y2)<=1:\n",
    "    pass\n",
    "else:\n",
    "    print(y1, y2)"
   ]
  },
  {
   "cell_type": "code",
   "execution_count": 76,
   "id": "linear-character",
   "metadata": {
    "executionInfo": {
     "elapsed": 5177,
     "status": "ok",
     "timestamp": 1617210122863,
     "user": {
      "displayName": "18-4N3 Sai Krithik",
      "photoUrl": "https://lh3.googleusercontent.com/a-/AOh14GgTAZGL9F58Yi8DnVAy4Wi7by4ZuxRdLUGBUgdbl2c=s64",
      "userId": "10712441170071618582"
     },
     "user_tz": -330
    },
    "id": "linear-character"
   },
   "outputs": [],
   "source": [
    "# my practice!!\n",
    "def to_check(x, y):\n",
    "    if len(y1)<=1 or len(y2)<=1:\n",
    "        pass\n",
    "    else: \n",
    "        return y1, y2"
   ]
  },
  {
   "cell_type": "code",
   "execution_count": 77,
   "id": "abstract-discount",
   "metadata": {
    "colab": {
     "base_uri": "https://localhost:8080/"
    },
    "executionInfo": {
     "elapsed": 4968,
     "status": "ok",
     "timestamp": 1617210122864,
     "user": {
      "displayName": "18-4N3 Sai Krithik",
      "photoUrl": "https://lh3.googleusercontent.com/a-/AOh14GgTAZGL9F58Yi8DnVAy4Wi7by4ZuxRdLUGBUgdbl2c=s64",
      "userId": "10712441170071618582"
     },
     "user_tz": -330
    },
    "id": "abstract-discount",
    "outputId": "a64c8964-a18a-4a6a-8143-a34c915f6b83"
   },
   "outputs": [
    {
     "data": {
      "text/plain": [
       "([3, 4, 6, 1], [2, 6, 4])"
      ]
     },
     "execution_count": 77,
     "metadata": {
      "tags": []
     },
     "output_type": "execute_result"
    }
   ],
   "source": [
    "to_check(y1, y2)"
   ]
  },
  {
   "cell_type": "code",
   "execution_count": 78,
   "id": "median-wildlife",
   "metadata": {
    "colab": {
     "base_uri": "https://localhost:8080/"
    },
    "executionInfo": {
     "elapsed": 4771,
     "status": "ok",
     "timestamp": 1617210122865,
     "user": {
      "displayName": "18-4N3 Sai Krithik",
      "photoUrl": "https://lh3.googleusercontent.com/a-/AOh14GgTAZGL9F58Yi8DnVAy4Wi7by4ZuxRdLUGBUgdbl2c=s64",
      "userId": "10712441170071618582"
     },
     "user_tz": -330
    },
    "id": "median-wildlife",
    "outputId": "f15fc47d-3dc5-4d1f-8c56-f1d7bdfea4ee"
   },
   "outputs": [
    {
     "data": {
      "text/plain": [
       "(([3, 4], [6, 1]), ([2, 6], [4]))"
      ]
     },
     "execution_count": 78,
     "metadata": {
      "tags": []
     },
     "output_type": "execute_result"
    }
   ],
   "source": [
    "split(y1,y2)"
   ]
  },
  {
   "cell_type": "code",
   "execution_count": 79,
   "id": "prospective-mentor",
   "metadata": {
    "colab": {
     "base_uri": "https://localhost:8080/"
    },
    "executionInfo": {
     "elapsed": 4530,
     "status": "ok",
     "timestamp": 1617210122865,
     "user": {
      "displayName": "18-4N3 Sai Krithik",
      "photoUrl": "https://lh3.googleusercontent.com/a-/AOh14GgTAZGL9F58Yi8DnVAy4Wi7by4ZuxRdLUGBUgdbl2c=s64",
      "userId": "10712441170071618582"
     },
     "user_tz": -330
    },
    "id": "prospective-mentor",
    "outputId": "bc876c28-ba17-4b74-d23d-5b3724a29289"
   },
   "outputs": [
    {
     "data": {
      "text/plain": [
       "([3, 4], [6, 1])"
      ]
     },
     "execution_count": 79,
     "metadata": {
      "tags": []
     },
     "output_type": "execute_result"
    }
   ],
   "source": [
    "split(y1, y2)[0]"
   ]
  },
  {
   "cell_type": "code",
   "execution_count": 80,
   "id": "faced-aaron",
   "metadata": {
    "colab": {
     "base_uri": "https://localhost:8080/"
    },
    "executionInfo": {
     "elapsed": 4329,
     "status": "ok",
     "timestamp": 1617210122866,
     "user": {
      "displayName": "18-4N3 Sai Krithik",
      "photoUrl": "https://lh3.googleusercontent.com/a-/AOh14GgTAZGL9F58Yi8DnVAy4Wi7by4ZuxRdLUGBUgdbl2c=s64",
      "userId": "10712441170071618582"
     },
     "user_tz": -330
    },
    "id": "faced-aaron",
    "outputId": "7a8fdeef-f579-453d-e116-9eb9f40a5efe"
   },
   "outputs": [
    {
     "data": {
      "text/plain": [
       "[3, 4]"
      ]
     },
     "execution_count": 80,
     "metadata": {
      "tags": []
     },
     "output_type": "execute_result"
    }
   ],
   "source": [
    "A, B=split(y1, y2)\n",
    "A[0]"
   ]
  },
  {
   "cell_type": "code",
   "execution_count": 81,
   "id": "cleared-relation",
   "metadata": {
    "colab": {
     "base_uri": "https://localhost:8080/"
    },
    "executionInfo": {
     "elapsed": 4089,
     "status": "ok",
     "timestamp": 1617210122866,
     "user": {
      "displayName": "18-4N3 Sai Krithik",
      "photoUrl": "https://lh3.googleusercontent.com/a-/AOh14GgTAZGL9F58Yi8DnVAy4Wi7by4ZuxRdLUGBUgdbl2c=s64",
      "userId": "10712441170071618582"
     },
     "user_tz": -330
    },
    "id": "cleared-relation",
    "outputId": "9767f8d6-ea67-45b9-b931-6968ca6c5637"
   },
   "outputs": [
    {
     "data": {
      "text/plain": [
       "[]"
      ]
     },
     "execution_count": 81,
     "metadata": {
      "tags": []
     },
     "output_type": "execute_result"
    }
   ],
   "source": [
    "0*y1"
   ]
  },
  {
   "cell_type": "code",
   "execution_count": 82,
   "id": "graphic-mirror",
   "metadata": {
    "colab": {
     "base_uri": "https://localhost:8080/"
    },
    "executionInfo": {
     "elapsed": 3895,
     "status": "ok",
     "timestamp": 1617210122867,
     "user": {
      "displayName": "18-4N3 Sai Krithik",
      "photoUrl": "https://lh3.googleusercontent.com/a-/AOh14GgTAZGL9F58Yi8DnVAy4Wi7by4ZuxRdLUGBUgdbl2c=s64",
      "userId": "10712441170071618582"
     },
     "user_tz": -330
    },
    "id": "graphic-mirror",
    "outputId": "17cc9e01-c1ea-485b-db8b-2a292252e193"
   },
   "outputs": [
    {
     "data": {
      "text/plain": [
       "0"
      ]
     },
     "execution_count": 82,
     "metadata": {
      "tags": []
     },
     "output_type": "execute_result"
    }
   ],
   "source": [
    "len([])"
   ]
  },
  {
   "cell_type": "code",
   "execution_count": 83,
   "id": "arbitrary-merchant",
   "metadata": {
    "colab": {
     "base_uri": "https://localhost:8080/"
    },
    "executionInfo": {
     "elapsed": 3679,
     "status": "ok",
     "timestamp": 1617210122867,
     "user": {
      "displayName": "18-4N3 Sai Krithik",
      "photoUrl": "https://lh3.googleusercontent.com/a-/AOh14GgTAZGL9F58Yi8DnVAy4Wi7by4ZuxRdLUGBUgdbl2c=s64",
      "userId": "10712441170071618582"
     },
     "user_tz": -330
    },
    "id": "arbitrary-merchant",
    "outputId": "4d4e84c7-9755-4f46-97b7-155476ca3973"
   },
   "outputs": [
    {
     "data": {
      "text/plain": [
       "0"
      ]
     },
     "execution_count": 83,
     "metadata": {
      "tags": []
     },
     "output_type": "execute_result"
    }
   ],
   "source": [
    "y3=[]\n",
    "len(y3)"
   ]
  },
  {
   "cell_type": "code",
   "execution_count": 84,
   "id": "embedded-banner",
   "metadata": {
    "colab": {
     "base_uri": "https://localhost:8080/"
    },
    "executionInfo": {
     "elapsed": 3455,
     "status": "ok",
     "timestamp": 1617210122868,
     "user": {
      "displayName": "18-4N3 Sai Krithik",
      "photoUrl": "https://lh3.googleusercontent.com/a-/AOh14GgTAZGL9F58Yi8DnVAy4Wi7by4ZuxRdLUGBUgdbl2c=s64",
      "userId": "10712441170071618582"
     },
     "user_tz": -330
    },
    "id": "embedded-banner",
    "outputId": "0eae7a16-ce11-4c5d-db63-6cbc03df25ea"
   },
   "outputs": [
    {
     "data": {
      "text/plain": [
       "[[], [], [], []]"
      ]
     },
     "execution_count": 84,
     "metadata": {
      "tags": []
     },
     "output_type": "execute_result"
    }
   ],
   "source": [
    "[y3*y1[i] for i in range(len(y1))]"
   ]
  },
  {
   "cell_type": "code",
   "execution_count": 85,
   "id": "severe-payday",
   "metadata": {
    "colab": {
     "base_uri": "https://localhost:8080/"
    },
    "executionInfo": {
     "elapsed": 3606,
     "status": "ok",
     "timestamp": 1617210123229,
     "user": {
      "displayName": "18-4N3 Sai Krithik",
      "photoUrl": "https://lh3.googleusercontent.com/a-/AOh14GgTAZGL9F58Yi8DnVAy4Wi7by4ZuxRdLUGBUgdbl2c=s64",
      "userId": "10712441170071618582"
     },
     "user_tz": -330
    },
    "id": "severe-payday",
    "outputId": "26034785-d7b6-44b0-e96f-2e44f907a4f1"
   },
   "outputs": [
    {
     "data": {
      "text/plain": [
       "[0, 0, 0, 0]"
      ]
     },
     "execution_count": 85,
     "metadata": {
      "tags": []
     },
     "output_type": "execute_result"
    }
   ],
   "source": [
    "[0*y1[i] for i in range(len(y1))]"
   ]
  },
  {
   "cell_type": "code",
   "execution_count": 86,
   "id": "fleet-system",
   "metadata": {
    "colab": {
     "base_uri": "https://localhost:8080/"
    },
    "executionInfo": {
     "elapsed": 3418,
     "status": "ok",
     "timestamp": 1617210123230,
     "user": {
      "displayName": "18-4N3 Sai Krithik",
      "photoUrl": "https://lh3.googleusercontent.com/a-/AOh14GgTAZGL9F58Yi8DnVAy4Wi7by4ZuxRdLUGBUgdbl2c=s64",
      "userId": "10712441170071618582"
     },
     "user_tz": -330
    },
    "id": "fleet-system",
    "outputId": "e5b5d597-4e3d-46dd-f889-9b9226230cbd"
   },
   "outputs": [
    {
     "data": {
      "text/plain": [
       "[[], [], [], []]"
      ]
     },
     "execution_count": 86,
     "metadata": {
      "tags": []
     },
     "output_type": "execute_result"
    }
   ],
   "source": [
    "[[]*y1[i] for i in range(len(y1))]"
   ]
  },
  {
   "cell_type": "code",
   "execution_count": 87,
   "id": "genuine-paint",
   "metadata": {
    "executionInfo": {
     "elapsed": 3188,
     "status": "ok",
     "timestamp": 1617210123230,
     "user": {
      "displayName": "18-4N3 Sai Krithik",
      "photoUrl": "https://lh3.googleusercontent.com/a-/AOh14GgTAZGL9F58Yi8DnVAy4Wi7by4ZuxRdLUGBUgdbl2c=s64",
      "userId": "10712441170071618582"
     },
     "user_tz": -330
    },
    "id": "genuine-paint"
   },
   "outputs": [],
   "source": [
    "# my practice!!\n",
    "def multiply_divide_conquer1(poly1, poly2): \n",
    "    if len(poly1)==0:\n",
    "        product= [poly1* poly2[i] for i in range(len(poly2))]\n",
    "    elif len(poly2)==0:\n",
    "        product=[poly2* poly1[i] for i in range(len(poly1))]\n",
    "    \n",
    "    elif len(poly1)==1:\n",
    "        product=[poly1[0]*poly2[i] for i in range(len(poly2))]\n",
    "       \n",
    "    elif len(poly2)==1:\n",
    "        product=[poly2[0]*poly1[i] for i in range(len(poly1))]\n",
    "    \n",
    "       \n",
    "    else:\n",
    "        n=max(len(poly1), len(poly2))\n",
    "        A, B=split(poly1, poly2)\n",
    "        u=multiply_divide_conquer1(A[0], B[0])\n",
    "        v=multiply_divide_conquer1(A[0], B[1])\n",
    "        w=multiply_divide_conquer1(A[1], B[0])\n",
    "        z=multiply_divide_conquer1(A[1], B[1])\n",
    "    \n",
    "        product=add(u,add(increase_exponent(add(v,w),n//2), increase_exponent(z,2*(n//2))))\n",
    "        \n",
    "    return product"
   ]
  },
  {
   "cell_type": "code",
   "execution_count": 88,
   "id": "actual-repeat",
   "metadata": {
    "colab": {
     "base_uri": "https://localhost:8080/"
    },
    "executionInfo": {
     "elapsed": 2976,
     "status": "ok",
     "timestamp": 1617210123231,
     "user": {
      "displayName": "18-4N3 Sai Krithik",
      "photoUrl": "https://lh3.googleusercontent.com/a-/AOh14GgTAZGL9F58Yi8DnVAy4Wi7by4ZuxRdLUGBUgdbl2c=s64",
      "userId": "10712441170071618582"
     },
     "user_tz": -330
    },
    "id": "actual-repeat",
    "outputId": "d44a32de-f310-40e0-b296-8950ba57fd12",
    "scrolled": true
   },
   "outputs": [
    {
     "name": "stdout",
     "output_type": "stream",
     "text": [
      "\n",
      "Input:\n",
      "{'poly1': [0], 'poly2': [1, 2, 3]}\n",
      "\n",
      "Expected Output:\n",
      "[0, 0, 0]\n",
      "\n",
      "\n",
      "Actual Output:\n",
      "[0, 0, 0]\n",
      "\n",
      "Execution Time:\n",
      "0.011 ms\n",
      "\n",
      "Test Result:\n",
      "\u001b[92mPASSED\u001b[0m\n",
      "\n"
     ]
    },
    {
     "data": {
      "text/plain": [
       "([0, 0, 0], True, 0.011)"
      ]
     },
     "execution_count": 88,
     "metadata": {
      "tags": []
     },
     "output_type": "execute_result"
    }
   ],
   "source": [
    "evaluate_test_case(multiply_divide_conquer1, test1)"
   ]
  },
  {
   "cell_type": "code",
   "execution_count": 89,
   "id": "cardiovascular-transfer",
   "metadata": {
    "colab": {
     "base_uri": "https://localhost:8080/",
     "height": 162
    },
    "executionInfo": {
     "elapsed": 2772,
     "status": "error",
     "timestamp": 1617210123236,
     "user": {
      "displayName": "18-4N3 Sai Krithik",
      "photoUrl": "https://lh3.googleusercontent.com/a-/AOh14GgTAZGL9F58Yi8DnVAy4Wi7by4ZuxRdLUGBUgdbl2c=s64",
      "userId": "10712441170071618582"
     },
     "user_tz": -330
    },
    "id": "cardiovascular-transfer",
    "outputId": "2bf43647-62f8-40ea-ca39-deb3acbe717e"
   },
   "outputs": [
    {
     "ename": "NameError",
     "evalue": "ignored",
     "output_type": "error",
     "traceback": [
      "\u001b[0;31m---------------------------------------------------------------------------\u001b[0m",
      "\u001b[0;31mNameError\u001b[0m                                 Traceback (most recent call last)",
      "\u001b[0;32m<ipython-input-89-0f2f56322a0c>\u001b[0m in \u001b[0;36m<module>\u001b[0;34m()\u001b[0m\n\u001b[0;32m----> 1\u001b[0;31m \u001b[0mevaluate_test_case\u001b[0m\u001b[0;34m(\u001b[0m\u001b[0mmultiply_divide_conquer1\u001b[0m\u001b[0;34m,\u001b[0m \u001b[0mtest8\u001b[0m\u001b[0;34m)\u001b[0m\u001b[0;34m\u001b[0m\u001b[0;34m\u001b[0m\u001b[0m\n\u001b[0m",
      "\u001b[0;31mNameError\u001b[0m: name 'test8' is not defined"
     ]
    }
   ],
   "source": [
    "evaluate_test_case(multiply_divide_conquer1, test8)"
   ]
  },
  {
   "cell_type": "code",
   "execution_count": 94,
   "id": "greenhouse-violation",
   "metadata": {
    "colab": {
     "base_uri": "https://localhost:8080/"
    },
    "executionInfo": {
     "elapsed": 983,
     "status": "ok",
     "timestamp": 1617210141990,
     "user": {
      "displayName": "18-4N3 Sai Krithik",
      "photoUrl": "https://lh3.googleusercontent.com/a-/AOh14GgTAZGL9F58Yi8DnVAy4Wi7by4ZuxRdLUGBUgdbl2c=s64",
      "userId": "10712441170071618582"
     },
     "user_tz": -330
    },
    "id": "greenhouse-violation",
    "outputId": "e56735da-1929-4473-fbff-21f28a5fc118"
   },
   "outputs": [
    {
     "name": "stdout",
     "output_type": "stream",
     "text": [
      "\n",
      "Input:\n",
      "{'poly1': [], 'poly2': []}\n",
      "\n",
      "Expected Output:\n",
      "[]\n",
      "\n",
      "\n",
      "Actual Output:\n",
      "[]\n",
      "\n",
      "Execution Time:\n",
      "0.009 ms\n",
      "\n",
      "Test Result:\n",
      "\u001b[92mPASSED\u001b[0m\n",
      "\n"
     ]
    },
    {
     "data": {
      "text/plain": [
       "([], True, 0.009)"
      ]
     },
     "execution_count": 94,
     "metadata": {
      "tags": []
     },
     "output_type": "execute_result"
    }
   ],
   "source": [
    "evaluate_test_case(multiply_divide_conquer1, test7)"
   ]
  },
  {
   "cell_type": "code",
   "execution_count": 95,
   "id": "differential-greece",
   "metadata": {
    "colab": {
     "base_uri": "https://localhost:8080/"
    },
    "executionInfo": {
     "elapsed": 837,
     "status": "ok",
     "timestamp": 1617210142296,
     "user": {
      "displayName": "18-4N3 Sai Krithik",
      "photoUrl": "https://lh3.googleusercontent.com/a-/AOh14GgTAZGL9F58Yi8DnVAy4Wi7by4ZuxRdLUGBUgdbl2c=s64",
      "userId": "10712441170071618582"
     },
     "user_tz": -330
    },
    "id": "differential-greece",
    "outputId": "4f39c78e-e3c2-4134-99c1-ac93b55ea0f1",
    "scrolled": true
   },
   "outputs": [
    {
     "name": "stdout",
     "output_type": "stream",
     "text": [
      "\n",
      "Input:\n",
      "{'poly1': [2, 0, 5, 7], 'poly2': [3, 4, 2]}\n",
      "\n",
      "Expected Output:\n",
      "[6, 8, 19, 41, 38, 14]\n",
      "\n",
      "\n",
      "Actual Output:\n",
      "[6, 8, 19, 41, 38, 14]\n",
      "\n",
      "Execution Time:\n",
      "0.104 ms\n",
      "\n",
      "Test Result:\n",
      "\u001b[92mPASSED\u001b[0m\n",
      "\n"
     ]
    },
    {
     "data": {
      "text/plain": [
       "([6, 8, 19, 41, 38, 14], True, 0.104)"
      ]
     },
     "execution_count": 95,
     "metadata": {
      "tags": []
     },
     "output_type": "execute_result"
    }
   ],
   "source": [
    "evaluate_test_case(multiply_divide_conquer1, test0)"
   ]
  },
  {
   "cell_type": "code",
   "execution_count": 96,
   "id": "smart-mitchell",
   "metadata": {
    "colab": {
     "base_uri": "https://localhost:8080/"
    },
    "executionInfo": {
     "elapsed": 959,
     "status": "ok",
     "timestamp": 1617210143603,
     "user": {
      "displayName": "18-4N3 Sai Krithik",
      "photoUrl": "https://lh3.googleusercontent.com/a-/AOh14GgTAZGL9F58Yi8DnVAy4Wi7by4ZuxRdLUGBUgdbl2c=s64",
      "userId": "10712441170071618582"
     },
     "user_tz": -330
    },
    "id": "smart-mitchell",
    "outputId": "c1ffac8c-50da-44de-9dae-595be783a500"
   },
   "outputs": [
    {
     "name": "stdout",
     "output_type": "stream",
     "text": [
      "\n",
      "Input:\n",
      "{'poly1': [0, 4, 5], 'poly2': [5, 0, 2]}\n",
      "\n",
      "Expected Output:\n",
      "[0, 20, 25, 8, 10]\n",
      "\n",
      "\n",
      "Actual Output:\n",
      "[0, 20, 25, 8, 10]\n",
      "\n",
      "Execution Time:\n",
      "0.067 ms\n",
      "\n",
      "Test Result:\n",
      "\u001b[92mPASSED\u001b[0m\n",
      "\n"
     ]
    },
    {
     "data": {
      "text/plain": [
       "([0, 20, 25, 8, 10], True, 0.067)"
      ]
     },
     "execution_count": 96,
     "metadata": {
      "tags": []
     },
     "output_type": "execute_result"
    }
   ],
   "source": [
    "evaluate_test_case(multiply_divide_conquer1, test4)"
   ]
  },
  {
   "cell_type": "code",
   "execution_count": 97,
   "id": "usual-filter",
   "metadata": {
    "colab": {
     "base_uri": "https://localhost:8080/"
    },
    "executionInfo": {
     "elapsed": 971,
     "status": "ok",
     "timestamp": 1617210144025,
     "user": {
      "displayName": "18-4N3 Sai Krithik",
      "photoUrl": "https://lh3.googleusercontent.com/a-/AOh14GgTAZGL9F58Yi8DnVAy4Wi7by4ZuxRdLUGBUgdbl2c=s64",
      "userId": "10712441170071618582"
     },
     "user_tz": -330
    },
    "id": "usual-filter",
    "outputId": "25a137dc-7c1c-4677-aa8c-771824a8e3e9"
   },
   "outputs": [
    {
     "name": "stdout",
     "output_type": "stream",
     "text": [
      "\n",
      "Input:\n",
      "{'poly1': [5, 0, 10, 6], 'poly2': [1, 2, 4]}\n",
      "\n",
      "Expected Output:\n",
      "[5, 10, 30, 26, 52, 24]\n",
      "\n",
      "\n",
      "Actual Output:\n",
      "[5, 10, 30, 26, 52, 24]\n",
      "\n",
      "Execution Time:\n",
      "0.092 ms\n",
      "\n",
      "Test Result:\n",
      "\u001b[92mPASSED\u001b[0m\n",
      "\n"
     ]
    },
    {
     "data": {
      "text/plain": [
       "([5, 10, 30, 26, 52, 24], True, 0.092)"
      ]
     },
     "execution_count": 97,
     "metadata": {
      "tags": []
     },
     "output_type": "execute_result"
    }
   ],
   "source": [
    "evaluate_test_case(multiply_divide_conquer1, test6)"
   ]
  },
  {
   "cell_type": "code",
   "execution_count": 98,
   "id": "configured-pressing",
   "metadata": {
    "colab": {
     "base_uri": "https://localhost:8080/"
    },
    "executionInfo": {
     "elapsed": 903,
     "status": "ok",
     "timestamp": 1617210144373,
     "user": {
      "displayName": "18-4N3 Sai Krithik",
      "photoUrl": "https://lh3.googleusercontent.com/a-/AOh14GgTAZGL9F58Yi8DnVAy4Wi7by4ZuxRdLUGBUgdbl2c=s64",
      "userId": "10712441170071618582"
     },
     "user_tz": -330
    },
    "id": "configured-pressing",
    "outputId": "450b44dd-b102-4b93-80ec-b252d41474a1"
   },
   "outputs": [
    {
     "name": "stdout",
     "output_type": "stream",
     "text": [
      "\n",
      "Input:\n",
      "{'poly1': [2, 5, 3, 1, -1], 'poly2': [1, 2, 2, 3, 6]}\n",
      "\n",
      "Expected Output:\n",
      "[2, 9, 17, 23, 34, 39, 19, 3, -6]\n",
      "\n",
      "\n",
      "Actual Output:\n",
      "[2, 9, 17, 23, 34, 39, 19, 3, -6]\n",
      "\n",
      "Execution Time:\n",
      "0.166 ms\n",
      "\n",
      "Test Result:\n",
      "\u001b[92mPASSED\u001b[0m\n",
      "\n"
     ]
    },
    {
     "data": {
      "text/plain": [
       "([2, 9, 17, 23, 34, 39, 19, 3, -6], True, 0.166)"
      ]
     },
     "execution_count": 98,
     "metadata": {
      "tags": []
     },
     "output_type": "execute_result"
    }
   ],
   "source": [
    "evaluate_test_case(multiply_divide_conquer1, test3)"
   ]
  },
  {
   "cell_type": "code",
   "execution_count": 99,
   "id": "hairy-tracker",
   "metadata": {
    "colab": {
     "base_uri": "https://localhost:8080/"
    },
    "executionInfo": {
     "elapsed": 981,
     "status": "ok",
     "timestamp": 1617210144814,
     "user": {
      "displayName": "18-4N3 Sai Krithik",
      "photoUrl": "https://lh3.googleusercontent.com/a-/AOh14GgTAZGL9F58Yi8DnVAy4Wi7by4ZuxRdLUGBUgdbl2c=s64",
      "userId": "10712441170071618582"
     },
     "user_tz": -330
    },
    "id": "hairy-tracker",
    "outputId": "00744158-dd90-47a0-8475-b8f429cde754"
   },
   "outputs": [
    {
     "name": "stdout",
     "output_type": "stream",
     "text": [
      "\n",
      "Input:\n",
      "{'poly1': [8], 'poly2': [20]}\n",
      "\n",
      "Expected Output:\n",
      "[160]\n",
      "\n",
      "\n",
      "Actual Output:\n",
      "[160]\n",
      "\n",
      "Execution Time:\n",
      "0.01 ms\n",
      "\n",
      "Test Result:\n",
      "\u001b[92mPASSED\u001b[0m\n",
      "\n"
     ]
    },
    {
     "data": {
      "text/plain": [
       "([160], True, 0.01)"
      ]
     },
     "execution_count": 99,
     "metadata": {
      "tags": []
     },
     "output_type": "execute_result"
    }
   ],
   "source": [
    "evaluate_test_case(multiply_divide_conquer1, test5)"
   ]
  },
  {
   "cell_type": "code",
   "execution_count": 100,
   "id": "specified-johns",
   "metadata": {
    "colab": {
     "base_uri": "https://localhost:8080/"
    },
    "executionInfo": {
     "elapsed": 1002,
     "status": "ok",
     "timestamp": 1617210145261,
     "user": {
      "displayName": "18-4N3 Sai Krithik",
      "photoUrl": "https://lh3.googleusercontent.com/a-/AOh14GgTAZGL9F58Yi8DnVAy4Wi7by4ZuxRdLUGBUgdbl2c=s64",
      "userId": "10712441170071618582"
     },
     "user_tz": -330
    },
    "id": "specified-johns",
    "outputId": "5f393f3c-e4c1-41cf-eba0-908c31ce3bc7"
   },
   "outputs": [
    {
     "name": "stdout",
     "output_type": "stream",
     "text": [
      "\n",
      "\u001b[1mTEST CASE #0\u001b[0m\n",
      "\n",
      "Input:\n",
      "{'poly1': [2, 0, 5, 7], 'poly2': [3, 4, 2]}\n",
      "\n",
      "Expected Output:\n",
      "[6, 8, 19, 41, 38, 14]\n",
      "\n",
      "\n",
      "Actual Output:\n",
      "[6, 8, 19, 41, 38, 14]\n",
      "\n",
      "Execution Time:\n",
      "0.081 ms\n",
      "\n",
      "Test Result:\n",
      "\u001b[92mPASSED\u001b[0m\n",
      "\n",
      "\n",
      "\u001b[1mTEST CASE #1\u001b[0m\n",
      "\n",
      "Input:\n",
      "{'poly1': [0], 'poly2': [1, 2, 3]}\n",
      "\n",
      "Expected Output:\n",
      "[0, 0, 0]\n",
      "\n",
      "\n",
      "Actual Output:\n",
      "[0, 0, 0]\n",
      "\n",
      "Execution Time:\n",
      "0.009 ms\n",
      "\n",
      "Test Result:\n",
      "\u001b[92mPASSED\u001b[0m\n",
      "\n",
      "\n",
      "\u001b[1mTEST CASE #2\u001b[0m\n",
      "\n",
      "Input:\n",
      "{'poly1': [0, 0, -3], 'poly2': [1, 0, 0, 3]}\n",
      "\n",
      "Expected Output:\n",
      "[0, 0, -3, 0, 0, -9]\n",
      "\n",
      "\n",
      "Actual Output:\n",
      "[0, 0, -3, 0, 0, -9]\n",
      "\n",
      "Execution Time:\n",
      "0.078 ms\n",
      "\n",
      "Test Result:\n",
      "\u001b[92mPASSED\u001b[0m\n",
      "\n",
      "\n",
      "\u001b[1mTEST CASE #3\u001b[0m\n",
      "\n",
      "Input:\n",
      "{'poly1': [2, 5, 3, 1, -1], 'poly2': [1, 2, 2, 3, 6]}\n",
      "\n",
      "Expected Output:\n",
      "[2, 9, 17, 23, 34, 39, 19, 3, -6]\n",
      "\n",
      "\n",
      "Actual Output:\n",
      "[2, 9, 17, 23, 34, 39, 19, 3, -6]\n",
      "\n",
      "Execution Time:\n",
      "0.151 ms\n",
      "\n",
      "Test Result:\n",
      "\u001b[92mPASSED\u001b[0m\n",
      "\n",
      "\n",
      "\u001b[1mTEST CASE #4\u001b[0m\n",
      "\n",
      "Input:\n",
      "{'poly1': [0, 4, 5], 'poly2': [5, 0, 2]}\n",
      "\n",
      "Expected Output:\n",
      "[0, 20, 25, 8, 10]\n",
      "\n",
      "\n",
      "Actual Output:\n",
      "[0, 20, 25, 8, 10]\n",
      "\n",
      "Execution Time:\n",
      "0.061 ms\n",
      "\n",
      "Test Result:\n",
      "\u001b[92mPASSED\u001b[0m\n",
      "\n",
      "\n",
      "\u001b[1mTEST CASE #5\u001b[0m\n",
      "\n",
      "Input:\n",
      "{'poly1': [8], 'poly2': [20]}\n",
      "\n",
      "Expected Output:\n",
      "[160]\n",
      "\n",
      "\n",
      "Actual Output:\n",
      "[160]\n",
      "\n",
      "Execution Time:\n",
      "0.009 ms\n",
      "\n",
      "Test Result:\n",
      "\u001b[92mPASSED\u001b[0m\n",
      "\n",
      "\n",
      "\u001b[1mTEST CASE #6\u001b[0m\n",
      "\n",
      "Input:\n",
      "{'poly1': [5, 0, 10, 6], 'poly2': [1, 2, 4]}\n",
      "\n",
      "Expected Output:\n",
      "[5, 10, 30, 26, 52, 24]\n",
      "\n",
      "\n",
      "Actual Output:\n",
      "[5, 10, 30, 26, 52, 24]\n",
      "\n",
      "Execution Time:\n",
      "0.093 ms\n",
      "\n",
      "Test Result:\n",
      "\u001b[92mPASSED\u001b[0m\n",
      "\n",
      "\n",
      "\u001b[1mTEST CASE #7\u001b[0m\n",
      "\n",
      "Input:\n",
      "{'poly1': [], 'poly2': []}\n",
      "\n",
      "Expected Output:\n",
      "[]\n",
      "\n",
      "\n",
      "Actual Output:\n",
      "[]\n",
      "\n",
      "Execution Time:\n",
      "0.006 ms\n",
      "\n",
      "Test Result:\n",
      "\u001b[92mPASSED\u001b[0m\n",
      "\n",
      "\n",
      "\u001b[1mTEST CASE #8\u001b[0m\n",
      "\n",
      "Input:\n",
      "{'poly1': [2, 79, -8, -86, 6, -29, 88, -80, 2, 21], 'poly2': [-26, -13, 16, -1, 3, 51, 30, 49, -48, ...\n",
      "\n",
      "Expected Output:\n",
      "[-52, -2080, -787, 3602, 761, -353, 2336, 2268, 1592, -8683, -12847, 8926, 5350, 2875, -4142, -4144,...\n",
      "\n",
      "\n",
      "Actual Output:\n",
      "[-52, -2080, -787, 3602, 761, -353, 2336, 2268, 1592, -8683, -12847, 8926, 5350, 2875, -4142, -4144,...\n",
      "\n",
      "Execution Time:\n",
      "0.661 ms\n",
      "\n",
      "Test Result:\n",
      "\u001b[92mPASSED\u001b[0m\n",
      "\n",
      "\n",
      "\u001b[1mSUMMARY\u001b[0m\n",
      "\n",
      "TOTAL: 9, \u001b[92mPASSED\u001b[0m: 9, \u001b[91mFAILED\u001b[0m: 0\n"
     ]
    },
    {
     "data": {
      "text/plain": [
       "[([6, 8, 19, 41, 38, 14], True, 0.081),\n",
       " ([0, 0, 0], True, 0.009),\n",
       " ([0, 0, -3, 0, 0, -9], True, 0.078),\n",
       " ([2, 9, 17, 23, 34, 39, 19, 3, -6], True, 0.151),\n",
       " ([0, 20, 25, 8, 10], True, 0.061),\n",
       " ([160], True, 0.009),\n",
       " ([5, 10, 30, 26, 52, 24], True, 0.093),\n",
       " ([], True, 0.006),\n",
       " ([-52,\n",
       "   -2080,\n",
       "   -787,\n",
       "   3602,\n",
       "   761,\n",
       "   -353,\n",
       "   2336,\n",
       "   2268,\n",
       "   1592,\n",
       "   -8683,\n",
       "   -12847,\n",
       "   8926,\n",
       "   5350,\n",
       "   2875,\n",
       "   -4142,\n",
       "   -4144,\n",
       "   8853,\n",
       "   -1206,\n",
       "   -2079],\n",
       "  True,\n",
       "  0.661)]"
      ]
     },
     "execution_count": 100,
     "metadata": {
      "tags": []
     },
     "output_type": "execute_result"
    }
   ],
   "source": [
    "evaluate_test_cases(multiply_divide_conquer1, tests)"
   ]
  },
  {
   "cell_type": "code",
   "execution_count": 101,
   "id": "featured-offset",
   "metadata": {
    "executionInfo": {
     "elapsed": 996,
     "status": "ok",
     "timestamp": 1617210145723,
     "user": {
      "displayName": "18-4N3 Sai Krithik",
      "photoUrl": "https://lh3.googleusercontent.com/a-/AOh14GgTAZGL9F58Yi8DnVAy4Wi7by4ZuxRdLUGBUgdbl2c=s64",
      "userId": "10712441170071618582"
     },
     "user_tz": -330
    },
    "id": "featured-offset"
   },
   "outputs": [],
   "source": [
    "#improved divide and conquer appraoch!\n",
    "def multiply_optimized(poly1, poly2):\n",
    "    \n",
    "    if len(poly1)==0:\n",
    "        product= [poly1* poly2[i] for i in range(len(poly2))]\n",
    "    elif len(poly2)==0:\n",
    "        product=[poly2* poly1[i] for i in range(len(poly1))]\n",
    "    \n",
    "    elif len(poly1)==1:\n",
    "        product=[poly1[0]*poly2[i] for i in range(len(poly2))]\n",
    "       \n",
    "    elif len(poly2)==1:\n",
    "        product=[poly2[0]*poly1[i] for i in range(len(poly1))]\n",
    "       \n",
    "    else:\n",
    "        n=max(len(poly1), len(poly2))    \n",
    "        A, B=split(poly1, poly2)\n",
    "        y=multiply_optimized(add(A[0],A[1]),add(B[0],B[1]))\n",
    "        u=multiply_optimized(A[0], B[0])\n",
    "        z=multiply_optimized(A[1], B[1])\n",
    "        \n",
    "        x1=u\n",
    "        x2=increase_exponent(sub(y,add(u, z)), n//2)\n",
    "        x3=increase_exponent(z, 2*(n//2))\n",
    "        product=add(x1, add(x2, x3))\n",
    "    return product\n",
    "        "
   ]
  },
  {
   "cell_type": "markdown",
   "id": "editorial-package",
   "metadata": {
    "id": "editorial-package"
   },
   "source": [
    "My Note: The error that i encountered: https://stackoverflow.com/questions/26685679/typeerror-unsupported-operand-types-for-list-and-list\n",
    "\n",
    "My Note: You can not add lists just by using + sign (e.g. between two polynomials) or subtract using - sign or multiply using * sign only. "
   ]
  },
  {
   "cell_type": "markdown",
   "id": "golden-photograph",
   "metadata": {
    "id": "golden-photograph"
   },
   "source": [
    "Test your solution using the empty cells below."
   ]
  },
  {
   "cell_type": "code",
   "execution_count": 102,
   "id": "graphic-developer",
   "metadata": {
    "colab": {
     "base_uri": "https://localhost:8080/"
    },
    "executionInfo": {
     "elapsed": 881,
     "status": "ok",
     "timestamp": 1617210146997,
     "user": {
      "displayName": "18-4N3 Sai Krithik",
      "photoUrl": "https://lh3.googleusercontent.com/a-/AOh14GgTAZGL9F58Yi8DnVAy4Wi7by4ZuxRdLUGBUgdbl2c=s64",
      "userId": "10712441170071618582"
     },
     "user_tz": -330
    },
    "id": "graphic-developer",
    "outputId": "83c0edc4-8dc0-42bb-acb8-55ef7f3b4d7b"
   },
   "outputs": [
    {
     "name": "stdout",
     "output_type": "stream",
     "text": [
      "\n",
      "Input:\n",
      "{'poly1': [0], 'poly2': [1, 2, 3]}\n",
      "\n",
      "Expected Output:\n",
      "[0, 0, 0]\n",
      "\n",
      "\n",
      "Actual Output:\n",
      "[0, 0, 0]\n",
      "\n",
      "Execution Time:\n",
      "0.008 ms\n",
      "\n",
      "Test Result:\n",
      "\u001b[92mPASSED\u001b[0m\n",
      "\n"
     ]
    },
    {
     "data": {
      "text/plain": [
       "([0, 0, 0], True, 0.008)"
      ]
     },
     "execution_count": 102,
     "metadata": {
      "tags": []
     },
     "output_type": "execute_result"
    }
   ],
   "source": [
    "evaluate_test_case(multiply_optimized, test1)"
   ]
  },
  {
   "cell_type": "code",
   "execution_count": 103,
   "id": "cheap-volume",
   "metadata": {
    "colab": {
     "base_uri": "https://localhost:8080/"
    },
    "executionInfo": {
     "elapsed": 895,
     "status": "ok",
     "timestamp": 1617210147327,
     "user": {
      "displayName": "18-4N3 Sai Krithik",
      "photoUrl": "https://lh3.googleusercontent.com/a-/AOh14GgTAZGL9F58Yi8DnVAy4Wi7by4ZuxRdLUGBUgdbl2c=s64",
      "userId": "10712441170071618582"
     },
     "user_tz": -330
    },
    "id": "cheap-volume",
    "outputId": "89b8ed0b-9989-4eff-e109-c2f84286911e"
   },
   "outputs": [
    {
     "name": "stdout",
     "output_type": "stream",
     "text": [
      "\n",
      "Input:\n",
      "{'poly1': [], 'poly2': []}\n",
      "\n",
      "Expected Output:\n",
      "[]\n",
      "\n",
      "\n",
      "Actual Output:\n",
      "[]\n",
      "\n",
      "Execution Time:\n",
      "0.008 ms\n",
      "\n",
      "Test Result:\n",
      "\u001b[92mPASSED\u001b[0m\n",
      "\n"
     ]
    },
    {
     "data": {
      "text/plain": [
       "([], True, 0.008)"
      ]
     },
     "execution_count": 103,
     "metadata": {
      "tags": []
     },
     "output_type": "execute_result"
    }
   ],
   "source": [
    "evaluate_test_case(multiply_optimized, test7)"
   ]
  },
  {
   "cell_type": "code",
   "execution_count": 104,
   "id": "strange-torture",
   "metadata": {
    "colab": {
     "base_uri": "https://localhost:8080/"
    },
    "executionInfo": {
     "elapsed": 1004,
     "status": "ok",
     "timestamp": 1617210148671,
     "user": {
      "displayName": "18-4N3 Sai Krithik",
      "photoUrl": "https://lh3.googleusercontent.com/a-/AOh14GgTAZGL9F58Yi8DnVAy4Wi7by4ZuxRdLUGBUgdbl2c=s64",
      "userId": "10712441170071618582"
     },
     "user_tz": -330
    },
    "id": "strange-torture",
    "outputId": "87bac8c2-7ee2-4632-82f7-ae562680eaf3"
   },
   "outputs": [
    {
     "name": "stdout",
     "output_type": "stream",
     "text": [
      "\n",
      "Input:\n",
      "{'poly1': [2, 0, 5, 7], 'poly2': [3, 4, 2]}\n",
      "\n",
      "Expected Output:\n",
      "[6, 8, 19, 41, 38, 14]\n",
      "\n",
      "\n",
      "Actual Output:\n",
      "[6, 8, 19, 41, 38, 14]\n",
      "\n",
      "Execution Time:\n",
      "0.441 ms\n",
      "\n",
      "Test Result:\n",
      "\u001b[92mPASSED\u001b[0m\n",
      "\n"
     ]
    },
    {
     "data": {
      "text/plain": [
       "([6, 8, 19, 41, 38, 14], True, 0.441)"
      ]
     },
     "execution_count": 104,
     "metadata": {
      "tags": []
     },
     "output_type": "execute_result"
    }
   ],
   "source": [
    "evaluate_test_case(multiply_optimized, test0)"
   ]
  },
  {
   "cell_type": "code",
   "execution_count": 105,
   "id": "packed-january",
   "metadata": {
    "colab": {
     "base_uri": "https://localhost:8080/"
    },
    "executionInfo": {
     "elapsed": 891,
     "status": "ok",
     "timestamp": 1617210149053,
     "user": {
      "displayName": "18-4N3 Sai Krithik",
      "photoUrl": "https://lh3.googleusercontent.com/a-/AOh14GgTAZGL9F58Yi8DnVAy4Wi7by4ZuxRdLUGBUgdbl2c=s64",
      "userId": "10712441170071618582"
     },
     "user_tz": -330
    },
    "id": "packed-january",
    "outputId": "d61bb0e2-1798-4680-f977-016d629f5934"
   },
   "outputs": [
    {
     "name": "stdout",
     "output_type": "stream",
     "text": [
      "\n",
      "Input:\n",
      "{'poly1': [0, 0, -3], 'poly2': [1, 0, 0, 3]}\n",
      "\n",
      "Expected Output:\n",
      "[0, 0, -3, 0, 0, -9]\n",
      "\n",
      "\n",
      "Actual Output:\n",
      "[0, 0, -3, 0, 0, -9]\n",
      "\n",
      "Execution Time:\n",
      "0.117 ms\n",
      "\n",
      "Test Result:\n",
      "\u001b[92mPASSED\u001b[0m\n",
      "\n"
     ]
    },
    {
     "data": {
      "text/plain": [
       "([0, 0, -3, 0, 0, -9], True, 0.117)"
      ]
     },
     "execution_count": 105,
     "metadata": {
      "tags": []
     },
     "output_type": "execute_result"
    }
   ],
   "source": [
    "evaluate_test_case(multiply_optimized, test2)"
   ]
  },
  {
   "cell_type": "code",
   "execution_count": 106,
   "id": "offensive-aside",
   "metadata": {
    "colab": {
     "base_uri": "https://localhost:8080/"
    },
    "executionInfo": {
     "elapsed": 966,
     "status": "ok",
     "timestamp": 1617210149486,
     "user": {
      "displayName": "18-4N3 Sai Krithik",
      "photoUrl": "https://lh3.googleusercontent.com/a-/AOh14GgTAZGL9F58Yi8DnVAy4Wi7by4ZuxRdLUGBUgdbl2c=s64",
      "userId": "10712441170071618582"
     },
     "user_tz": -330
    },
    "id": "offensive-aside",
    "outputId": "62e818b9-54c5-4db0-d0e1-afd979af808c"
   },
   "outputs": [
    {
     "name": "stdout",
     "output_type": "stream",
     "text": [
      "\n",
      "Input:\n",
      "{'poly1': [2, 5, 3, 1, -1], 'poly2': [1, 2, 2, 3, 6]}\n",
      "\n",
      "Expected Output:\n",
      "[2, 9, 17, 23, 34, 39, 19, 3, -6]\n",
      "\n",
      "\n",
      "Actual Output:\n",
      "[2, 9, 17, 23, 34, 39, 19, 3, -6]\n",
      "\n",
      "Execution Time:\n",
      "0.212 ms\n",
      "\n",
      "Test Result:\n",
      "\u001b[92mPASSED\u001b[0m\n",
      "\n"
     ]
    },
    {
     "data": {
      "text/plain": [
       "([2, 9, 17, 23, 34, 39, 19, 3, -6], True, 0.212)"
      ]
     },
     "execution_count": 106,
     "metadata": {
      "tags": []
     },
     "output_type": "execute_result"
    }
   ],
   "source": [
    "evaluate_test_case(multiply_optimized, test3)"
   ]
  },
  {
   "cell_type": "code",
   "execution_count": 107,
   "id": "forced-seafood",
   "metadata": {
    "colab": {
     "base_uri": "https://localhost:8080/"
    },
    "executionInfo": {
     "elapsed": 1065,
     "status": "ok",
     "timestamp": 1617210150011,
     "user": {
      "displayName": "18-4N3 Sai Krithik",
      "photoUrl": "https://lh3.googleusercontent.com/a-/AOh14GgTAZGL9F58Yi8DnVAy4Wi7by4ZuxRdLUGBUgdbl2c=s64",
      "userId": "10712441170071618582"
     },
     "user_tz": -330
    },
    "id": "forced-seafood",
    "outputId": "efec1dde-aefe-4cfc-8c59-b922b558a972"
   },
   "outputs": [
    {
     "name": "stdout",
     "output_type": "stream",
     "text": [
      "\n",
      "Input:\n",
      "{'poly1': [0, 4, 5], 'poly2': [5, 0, 2]}\n",
      "\n",
      "Expected Output:\n",
      "[0, 20, 25, 8, 10]\n",
      "\n",
      "\n",
      "Actual Output:\n",
      "[0, 20, 25, 8, 10]\n",
      "\n",
      "Execution Time:\n",
      "0.162 ms\n",
      "\n",
      "Test Result:\n",
      "\u001b[92mPASSED\u001b[0m\n",
      "\n"
     ]
    },
    {
     "data": {
      "text/plain": [
       "([0, 20, 25, 8, 10], True, 0.162)"
      ]
     },
     "execution_count": 107,
     "metadata": {
      "tags": []
     },
     "output_type": "execute_result"
    }
   ],
   "source": [
    "evaluate_test_case(multiply_optimized, test4) "
   ]
  },
  {
   "cell_type": "code",
   "execution_count": 108,
   "id": "egyptian-speaking",
   "metadata": {
    "colab": {
     "base_uri": "https://localhost:8080/"
    },
    "executionInfo": {
     "elapsed": 980,
     "status": "ok",
     "timestamp": 1617210150334,
     "user": {
      "displayName": "18-4N3 Sai Krithik",
      "photoUrl": "https://lh3.googleusercontent.com/a-/AOh14GgTAZGL9F58Yi8DnVAy4Wi7by4ZuxRdLUGBUgdbl2c=s64",
      "userId": "10712441170071618582"
     },
     "user_tz": -330
    },
    "id": "egyptian-speaking",
    "outputId": "dc8d1576-77f7-4cfc-a9cc-0e3d099e79e5"
   },
   "outputs": [
    {
     "name": "stdout",
     "output_type": "stream",
     "text": [
      "\n",
      "\u001b[1mTEST CASE #0\u001b[0m\n",
      "\n",
      "Input:\n",
      "{'poly1': [2, 0, 5, 7], 'poly2': [3, 4, 2]}\n",
      "\n",
      "Expected Output:\n",
      "[6, 8, 19, 41, 38, 14]\n",
      "\n",
      "\n",
      "Actual Output:\n",
      "[6, 8, 19, 41, 38, 14]\n",
      "\n",
      "Execution Time:\n",
      "0.094 ms\n",
      "\n",
      "Test Result:\n",
      "\u001b[92mPASSED\u001b[0m\n",
      "\n",
      "\n",
      "\u001b[1mTEST CASE #1\u001b[0m\n",
      "\n",
      "Input:\n",
      "{'poly1': [0], 'poly2': [1, 2, 3]}\n",
      "\n",
      "Expected Output:\n",
      "[0, 0, 0]\n",
      "\n",
      "\n",
      "Actual Output:\n",
      "[0, 0, 0]\n",
      "\n",
      "Execution Time:\n",
      "0.011 ms\n",
      "\n",
      "Test Result:\n",
      "\u001b[92mPASSED\u001b[0m\n",
      "\n",
      "\n",
      "\u001b[1mTEST CASE #2\u001b[0m\n",
      "\n",
      "Input:\n",
      "{'poly1': [0, 0, -3], 'poly2': [1, 0, 0, 3]}\n",
      "\n",
      "Expected Output:\n",
      "[0, 0, -3, 0, 0, -9]\n",
      "\n",
      "\n",
      "Actual Output:\n",
      "[0, 0, -3, 0, 0, -9]\n",
      "\n",
      "Execution Time:\n",
      "0.124 ms\n",
      "\n",
      "Test Result:\n",
      "\u001b[92mPASSED\u001b[0m\n",
      "\n",
      "\n",
      "\u001b[1mTEST CASE #3\u001b[0m\n",
      "\n",
      "Input:\n",
      "{'poly1': [2, 5, 3, 1, -1], 'poly2': [1, 2, 2, 3, 6]}\n",
      "\n",
      "Expected Output:\n",
      "[2, 9, 17, 23, 34, 39, 19, 3, -6]\n",
      "\n",
      "\n",
      "Actual Output:\n",
      "[2, 9, 17, 23, 34, 39, 19, 3, -6]\n",
      "\n",
      "Execution Time:\n",
      "0.25 ms\n",
      "\n",
      "Test Result:\n",
      "\u001b[92mPASSED\u001b[0m\n",
      "\n",
      "\n",
      "\u001b[1mTEST CASE #4\u001b[0m\n",
      "\n",
      "Input:\n",
      "{'poly1': [0, 4, 5], 'poly2': [5, 0, 2]}\n",
      "\n",
      "Expected Output:\n",
      "[0, 20, 25, 8, 10]\n",
      "\n",
      "\n",
      "Actual Output:\n",
      "[0, 20, 25, 8, 10]\n",
      "\n",
      "Execution Time:\n",
      "0.101 ms\n",
      "\n",
      "Test Result:\n",
      "\u001b[92mPASSED\u001b[0m\n",
      "\n",
      "\n",
      "\u001b[1mTEST CASE #5\u001b[0m\n",
      "\n",
      "Input:\n",
      "{'poly1': [8], 'poly2': [20]}\n",
      "\n",
      "Expected Output:\n",
      "[160]\n",
      "\n",
      "\n",
      "Actual Output:\n",
      "[160]\n",
      "\n",
      "Execution Time:\n",
      "0.008 ms\n",
      "\n",
      "Test Result:\n",
      "\u001b[92mPASSED\u001b[0m\n",
      "\n",
      "\n",
      "\u001b[1mTEST CASE #6\u001b[0m\n",
      "\n",
      "Input:\n",
      "{'poly1': [5, 0, 10, 6], 'poly2': [1, 2, 4]}\n",
      "\n",
      "Expected Output:\n",
      "[5, 10, 30, 26, 52, 24]\n",
      "\n",
      "\n",
      "Actual Output:\n",
      "[5, 10, 30, 26, 52, 24]\n",
      "\n",
      "Execution Time:\n",
      "0.092 ms\n",
      "\n",
      "Test Result:\n",
      "\u001b[92mPASSED\u001b[0m\n",
      "\n",
      "\n",
      "\u001b[1mTEST CASE #7\u001b[0m\n",
      "\n",
      "Input:\n",
      "{'poly1': [], 'poly2': []}\n",
      "\n",
      "Expected Output:\n",
      "[]\n",
      "\n",
      "\n",
      "Actual Output:\n",
      "[]\n",
      "\n",
      "Execution Time:\n",
      "0.007 ms\n",
      "\n",
      "Test Result:\n",
      "\u001b[92mPASSED\u001b[0m\n",
      "\n",
      "\n",
      "\u001b[1mTEST CASE #8\u001b[0m\n",
      "\n",
      "Input:\n",
      "{'poly1': [2, 79, -8, -86, 6, -29, 88, -80, 2, 21], 'poly2': [-26, -13, 16, -1, 3, 51, 30, 49, -48, ...\n",
      "\n",
      "Expected Output:\n",
      "[-52, -2080, -787, 3602, 761, -353, 2336, 2268, 1592, -8683, -12847, 8926, 5350, 2875, -4142, -4144,...\n",
      "\n",
      "\n",
      "Actual Output:\n",
      "[-52, -2080, -787, 3602, 761, -353, 2336, 2268, 1592, -8683, -12847, 8926, 5350, 2875, -4142, -4144,...\n",
      "\n",
      "Execution Time:\n",
      "1.311 ms\n",
      "\n",
      "Test Result:\n",
      "\u001b[92mPASSED\u001b[0m\n",
      "\n",
      "\n",
      "\u001b[1mSUMMARY\u001b[0m\n",
      "\n",
      "TOTAL: 9, \u001b[92mPASSED\u001b[0m: 9, \u001b[91mFAILED\u001b[0m: 0\n"
     ]
    },
    {
     "data": {
      "text/plain": [
       "[([6, 8, 19, 41, 38, 14], True, 0.094),\n",
       " ([0, 0, 0], True, 0.011),\n",
       " ([0, 0, -3, 0, 0, -9], True, 0.124),\n",
       " ([2, 9, 17, 23, 34, 39, 19, 3, -6], True, 0.25),\n",
       " ([0, 20, 25, 8, 10], True, 0.101),\n",
       " ([160], True, 0.008),\n",
       " ([5, 10, 30, 26, 52, 24], True, 0.092),\n",
       " ([], True, 0.007),\n",
       " ([-52,\n",
       "   -2080,\n",
       "   -787,\n",
       "   3602,\n",
       "   761,\n",
       "   -353,\n",
       "   2336,\n",
       "   2268,\n",
       "   1592,\n",
       "   -8683,\n",
       "   -12847,\n",
       "   8926,\n",
       "   5350,\n",
       "   2875,\n",
       "   -4142,\n",
       "   -4144,\n",
       "   8853,\n",
       "   -1206,\n",
       "   -2079],\n",
       "  True,\n",
       "  1.311)]"
      ]
     },
     "execution_count": 108,
     "metadata": {
      "tags": []
     },
     "output_type": "execute_result"
    }
   ],
   "source": [
    "evaluate_test_cases(multiply_optimized, tests) "
   ]
  },
  {
   "cell_type": "code",
   "execution_count": 108,
   "id": "active-birmingham",
   "metadata": {
    "executionInfo": {
     "elapsed": 640,
     "status": "ok",
     "timestamp": 1617210151476,
     "user": {
      "displayName": "18-4N3 Sai Krithik",
      "photoUrl": "https://lh3.googleusercontent.com/a-/AOh14GgTAZGL9F58Yi8DnVAy4Wi7by4ZuxRdLUGBUgdbl2c=s64",
      "userId": "10712441170071618582"
     },
     "user_tz": -330
    },
    "id": "active-birmingham"
   },
   "outputs": [],
   "source": []
  },
  {
   "cell_type": "code",
   "execution_count": 109,
   "id": "african-premiere",
   "metadata": {
    "executionInfo": {
     "elapsed": 787,
     "status": "ok",
     "timestamp": 1617210152036,
     "user": {
      "displayName": "18-4N3 Sai Krithik",
      "photoUrl": "https://lh3.googleusercontent.com/a-/AOh14GgTAZGL9F58Yi8DnVAy4Wi7by4ZuxRdLUGBUgdbl2c=s64",
      "userId": "10712441170071618582"
     },
     "user_tz": -330
    },
    "id": "african-premiere"
   },
   "outputs": [],
   "source": [
    "import jovian"
   ]
  },
  {
   "cell_type": "code",
   "execution_count": 110,
   "id": "quick-gather",
   "metadata": {
    "colab": {
     "base_uri": "https://localhost:8080/",
     "height": 102
    },
    "executionInfo": {
     "elapsed": 5022,
     "status": "ok",
     "timestamp": 1617210156837,
     "user": {
      "displayName": "18-4N3 Sai Krithik",
      "photoUrl": "https://lh3.googleusercontent.com/a-/AOh14GgTAZGL9F58Yi8DnVAy4Wi7by4ZuxRdLUGBUgdbl2c=s64",
      "userId": "10712441170071618582"
     },
     "user_tz": -330
    },
    "id": "quick-gather",
    "outputId": "ff9ea5a2-14a5-48ea-9c7a-4ea85d90f918"
   },
   "outputs": [
    {
     "name": "stdout",
     "output_type": "stream",
     "text": [
      "[jovian] Detected Colab notebook...\u001b[0m\n",
      "[jovian] Uploading colab notebook to Jovian...\u001b[0m\n",
      "[jovian] Capturing environment..\u001b[0m\n",
      "[jovian] Committed successfully! https://jovian.ai/saikrithik/python-divide-and-conquer-assignment\u001b[0m\n"
     ]
    },
    {
     "data": {
      "application/vnd.google.colaboratory.intrinsic+json": {
       "type": "string"
      },
      "text/plain": [
       "'https://jovian.ai/saikrithik/python-divide-and-conquer-assignment'"
      ]
     },
     "execution_count": 110,
     "metadata": {
      "tags": []
     },
     "output_type": "execute_result"
    }
   ],
   "source": [
    "jovian.commit()"
   ]
  },
  {
   "cell_type": "markdown",
   "id": "naval-civilization",
   "metadata": {
    "id": "naval-civilization"
   },
   "source": [
    "## Make a Submission\n",
    "\n",
    "Congrats! You have now implemented an algorithm for polynomials multiplication from scratch. The rest of this assignment is optional.\n",
    "\n",
    "You can make a submission on this page: https://jovian.ai/learn/data-structures-and-algorithms-in-python/assignment/assignment-3-sorting-and-divide-conquer-practice\n",
    "\n",
    "Submit the link to your Jovian notebook (the output of the previous cell).\n",
    "You can also make a direct submission by executing the following cell:"
   ]
  },
  {
   "cell_type": "code",
   "execution_count": 111,
   "id": "absolute-advocate",
   "metadata": {
    "colab": {
     "base_uri": "https://localhost:8080/"
    },
    "executionInfo": {
     "elapsed": 7060,
     "status": "ok",
     "timestamp": 1617210160660,
     "user": {
      "displayName": "18-4N3 Sai Krithik",
      "photoUrl": "https://lh3.googleusercontent.com/a-/AOh14GgTAZGL9F58Yi8DnVAy4Wi7by4ZuxRdLUGBUgdbl2c=s64",
      "userId": "10712441170071618582"
     },
     "user_tz": -330
    },
    "id": "absolute-advocate",
    "outputId": "4392a418-e20e-4492-bd1f-b6b544ef5c46"
   },
   "outputs": [
    {
     "name": "stdout",
     "output_type": "stream",
     "text": [
      "[jovian] Detected Colab notebook...\u001b[0m\n",
      "[jovian] Uploading colab notebook to Jovian...\u001b[0m\n",
      "[jovian] Capturing environment..\u001b[0m\n",
      "[jovian] Committed successfully! https://jovian.ai/saikrithik/python-divide-and-conquer-assignment\u001b[0m\n",
      "[jovian] Submitting assignment..\u001b[0m\n",
      "[jovian] Verify your submission at https://jovian.ai/learn/data-structures-and-algorithms-in-python/assignment/assignment-3-sorting-and-divide-conquer-practice\u001b[0m\n"
     ]
    }
   ],
   "source": [
    "jovian.submit(assignment=\"pythondsa-assignment3\")"
   ]
  },
  {
   "cell_type": "markdown",
   "id": "weighted-canvas",
   "metadata": {
    "id": "weighted-canvas"
   },
   "source": [
    "### (Optional) 9. Analyze the algorithm's complexity and identify inefficiencies, if any.\n",
    "\n",
    "Can you analyze the time and space complexity of this algorithm? \n",
    "\n",
    "Hint: See the tree of subproblems below ([source](https://myithelpcentral.blogspot.com/2015/09/o-logn-notation-explanation-for-binary.html)). Substitute the right values for `n` and `b` to determine the time complexity.\n",
    "\n",
    "![](https://i.imgur.com/JAmZrE5.png)"
   ]
  },
  {
   "cell_type": "code",
   "execution_count": 112,
   "id": "boolean-offering",
   "metadata": {
    "executionInfo": {
     "elapsed": 604,
     "status": "ok",
     "timestamp": 1617210163020,
     "user": {
      "displayName": "18-4N3 Sai Krithik",
      "photoUrl": "https://lh3.googleusercontent.com/a-/AOh14GgTAZGL9F58Yi8DnVAy4Wi7by4ZuxRdLUGBUgdbl2c=s64",
      "userId": "10712441170071618582"
     },
     "user_tz": -330
    },
    "id": "boolean-offering"
   },
   "outputs": [],
   "source": [
    "import jovian"
   ]
  },
  {
   "cell_type": "code",
   "execution_count": 113,
   "id": "friendly-latter",
   "metadata": {
    "colab": {
     "base_uri": "https://localhost:8080/",
     "height": 102
    },
    "executionInfo": {
     "elapsed": 4799,
     "status": "ok",
     "timestamp": 1617210167478,
     "user": {
      "displayName": "18-4N3 Sai Krithik",
      "photoUrl": "https://lh3.googleusercontent.com/a-/AOh14GgTAZGL9F58Yi8DnVAy4Wi7by4ZuxRdLUGBUgdbl2c=s64",
      "userId": "10712441170071618582"
     },
     "user_tz": -330
    },
    "id": "friendly-latter",
    "outputId": "2e60029d-6141-49b9-e53b-cf63fa6f0b5c"
   },
   "outputs": [
    {
     "name": "stdout",
     "output_type": "stream",
     "text": [
      "[jovian] Detected Colab notebook...\u001b[0m\n",
      "[jovian] Uploading colab notebook to Jovian...\u001b[0m\n",
      "[jovian] Capturing environment..\u001b[0m\n",
      "[jovian] Committed successfully! https://jovian.ai/saikrithik/python-divide-and-conquer-assignment\u001b[0m\n"
     ]
    },
    {
     "data": {
      "application/vnd.google.colaboratory.intrinsic+json": {
       "type": "string"
      },
      "text/plain": [
       "'https://jovian.ai/saikrithik/python-divide-and-conquer-assignment'"
      ]
     },
     "execution_count": 113,
     "metadata": {
      "tags": []
     },
     "output_type": "execute_result"
    }
   ],
   "source": [
    "jovian.commit()"
   ]
  },
  {
   "cell_type": "code",
   "execution_count": 113,
   "id": "charming-daughter",
   "metadata": {
    "executionInfo": {
     "elapsed": 4594,
     "status": "ok",
     "timestamp": 1617210167479,
     "user": {
      "displayName": "18-4N3 Sai Krithik",
      "photoUrl": "https://lh3.googleusercontent.com/a-/AOh14GgTAZGL9F58Yi8DnVAy4Wi7by4ZuxRdLUGBUgdbl2c=s64",
      "userId": "10712441170071618582"
     },
     "user_tz": -330
    },
    "id": "charming-daughter"
   },
   "outputs": [],
   "source": []
  }
 ],
 "metadata": {
  "colab": {
   "name": "python-divide-and-conquer-assignment.ipynb",
   "provenance": []
  },
  "language_info": {
   "name": "python"
  }
 },
 "nbformat": 4,
 "nbformat_minor": 5
}