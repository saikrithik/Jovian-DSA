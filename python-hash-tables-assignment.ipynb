{
 "cells": [
  {
   "cell_type": "markdown",
   "id": "tough-steps",
   "metadata": {
    "id": "tough-steps"
   },
   "source": [
    "# Assignment 2 - Hash Tables in Python\n",
    "\n",
    "_This assignment is a part of the course [\"Data Structures and Algorithms in Python\"](https://jovian.ai/learn/data-structures-and-algorithms-in-python)._\n",
    "\n",
    "In this assignment, you will implement Python dictionaries from scratch using hash tables.\n",
    "\n",
    "As you go through this notebook, you will find the symbol **???** in certain places. To complete this assignment, you must replace all the **???** with appropriate values, expressions or statements to ensure that the notebook runs properly end-to-end. \n",
    "\n",
    "**Guidelines**\n",
    "\n",
    "1. Make sure to run all the code cells, otherwise you may get errors like `NameError` for undefined variables.\n",
    "2. Do not change variable names, delete cells or disturb other existing code. It may cause problems during evaluation.\n",
    "3. In some cases, you may need to add some code cells or new statements before or after the line of code containing the **???**. \n",
    "4. Since you'll be using a temporary online service for code execution, save your work by running `jovian.commit` at regular intervals.\n",
    "5. Questions marked **(Optional)** will not be considered for evaluation, and can be skipped. They are for your learning.\n",
    "6. If you are stuck, you can ask for help on the [community forum](https://jovian.ai/forum/c/data-structures-and-algorithms-in-python/assignment-2/88). Post errors or ask for hints, but **please don't ask for OR share the full working answer code** on the forum.\n",
    "7. There are some tests included with this notebook to help you test your implementation. However, after submission your code will be tested with some hidden test cases. Make sure to test your code exhaustively to cover all edge cases.\n",
    "\n",
    "\n",
    "**Important Links**\n",
    "\n",
    "* Submit your work here: https://jovian.ai/learn/data-structures-and-algorithms-in-python/assignment/assignment-2-hash-table-and-python-dictionaries\n",
    "* Ask questions and get help: https://jovian.ai/forum/c/data-structures-and-algorithms-in-python/assignment-2/88\n",
    "* Lesson 2 video for review: https://jovian.ai/aakashns/python-binary-search-trees\n",
    "* Lesson 2 notebook for review: https://jovian.ai/aakashns/python-binary-search-trees\n",
    "\n",
    "\n",
    "\n"
   ]
  },
  {
   "cell_type": "markdown",
   "id": "prescription-quest",
   "metadata": {
    "id": "prescription-quest"
   },
   "source": [
    "### How to Run the Code and Save Your Work\n",
    "\n",
    "**Option 1: Running using free online resources (1-click, recommended)**: Click the **Run** button at the top of this page and select **Run on Binder**. You can also select \"Run on Colab\" or \"Run on Kaggle\", but you'll need to create an account on [Google Colab](https://colab.research.google.com) or [Kaggle](https://kaggle.com) to use these platforms.\n",
    "\n",
    "\n",
    "**Option 2: Running on your computer locally**: To run the code on your computer locally, you'll need to set up [Python](https://www.python.org) & [Conda](https://docs.conda.io/projects/conda/en/latest/user-guide/install/), download the notebook and install the required libraries. Click the **Run** button at the top of this page, select the **Run Locally** option, and follow the instructions.\n",
    "\n",
    "**Saving your work**: You can save a snapshot of the assignment to your [Jovian](https://jovian.ai) profile, so that you can access it later and continue your work. Keep saving your work by running `jovian.commit` from time to time."
   ]
  },
  {
   "cell_type": "code",
   "execution_count": 3,
   "id": "hollow-power",
   "metadata": {
    "executionInfo": {
     "elapsed": 3588,
     "status": "ok",
     "timestamp": 1617208670259,
     "user": {
      "displayName": "18-4N3 Sai Krithik",
      "photoUrl": "https://lh3.googleusercontent.com/a-/AOh14GgTAZGL9F58Yi8DnVAy4Wi7by4ZuxRdLUGBUgdbl2c=s64",
      "userId": "10712441170071618582"
     },
     "user_tz": -330
    },
    "id": "hollow-power"
   },
   "outputs": [],
   "source": [
    "project='python-hash-tables-assignment'"
   ]
  },
  {
   "cell_type": "code",
   "execution_count": 4,
   "id": "special-mauritius",
   "metadata": {
    "executionInfo": {
     "elapsed": 5886,
     "status": "ok",
     "timestamp": 1617208673581,
     "user": {
      "displayName": "18-4N3 Sai Krithik",
      "photoUrl": "https://lh3.googleusercontent.com/a-/AOh14GgTAZGL9F58Yi8DnVAy4Wi7by4ZuxRdLUGBUgdbl2c=s64",
      "userId": "10712441170071618582"
     },
     "user_tz": -330
    },
    "id": "special-mauritius"
   },
   "outputs": [],
   "source": [
    "!pip install jovian --upgrade --quiet"
   ]
  },
  {
   "cell_type": "code",
   "execution_count": 8,
   "id": "extra-questionnaire",
   "metadata": {
    "colab": {
     "base_uri": "https://localhost:8080/",
     "height": 86
    },
    "executionInfo": {
     "elapsed": 2594,
     "status": "ok",
     "timestamp": 1617208687587,
     "user": {
      "displayName": "18-4N3 Sai Krithik",
      "photoUrl": "https://lh3.googleusercontent.com/a-/AOh14GgTAZGL9F58Yi8DnVAy4Wi7by4ZuxRdLUGBUgdbl2c=s64",
      "userId": "10712441170071618582"
     },
     "user_tz": -330
    },
    "id": "extra-questionnaire",
    "outputId": "7dd6ae6c-1e66-4fb8-a633-abe95b6e1caa"
   },
   "outputs": [
    {
     "name": "stdout",
     "output_type": "stream",
     "text": [
      "[jovian] Detected Colab notebook...\u001b[0m\n",
      "[jovian] Uploading colab notebook to Jovian...\u001b[0m\n",
      "[jovian] Committed successfully! https://jovian.ai/saikrithik/python-hash-tables-assignment\u001b[0m\n"
     ]
    },
    {
     "data": {
      "application/vnd.google.colaboratory.intrinsic+json": {
       "type": "string"
      },
      "text/plain": [
       "'https://jovian.ai/saikrithik/python-hash-tables-assignment'"
      ]
     },
     "execution_count": 8,
     "metadata": {
      "tags": []
     },
     "output_type": "execute_result"
    }
   ],
   "source": [
    "import jovian\n",
    "jovian.commit(project=project, privacy='secret', environment=None)"
   ]
  },
  {
   "cell_type": "markdown",
   "id": "average-jaguar",
   "metadata": {
    "id": "average-jaguar"
   },
   "source": [
    "## Problem Statement - Python Dictionaries and Hash Tables\n",
    "\n",
    "In this assignment, you will recreate Python dictionaries from scratch using data structure called *hash table*. Dictionaries in Python are used to store key-value pairs. Keys are used to store and retrieve values. For example, here's a dictionary for storing and retrieving phone numbers using people's names. "
   ]
  },
  {
   "cell_type": "code",
   "execution_count": 9,
   "id": "concerned-array",
   "metadata": {
    "colab": {
     "base_uri": "https://localhost:8080/"
    },
    "executionInfo": {
     "elapsed": 1771,
     "status": "ok",
     "timestamp": 1617208687588,
     "user": {
      "displayName": "18-4N3 Sai Krithik",
      "photoUrl": "https://lh3.googleusercontent.com/a-/AOh14GgTAZGL9F58Yi8DnVAy4Wi7by4ZuxRdLUGBUgdbl2c=s64",
      "userId": "10712441170071618582"
     },
     "user_tz": -330
    },
    "id": "concerned-array",
    "outputId": "9a13d5cc-c60b-4b0b-9a7b-5436cd342cce"
   },
   "outputs": [
    {
     "data": {
      "text/plain": [
       "{'Aakash': '9489484949', 'Hemanth': '9595949494', 'Siddhant': '9231325312'}"
      ]
     },
     "execution_count": 9,
     "metadata": {
      "tags": []
     },
     "output_type": "execute_result"
    }
   ],
   "source": [
    "phone_numbers = {\n",
    "  'Aakash' : '9489484949',\n",
    "  'Hemanth' : '9595949494',\n",
    "  'Siddhant' : '9231325312'\n",
    "}\n",
    "phone_numbers"
   ]
  },
  {
   "cell_type": "markdown",
   "id": "applicable-winter",
   "metadata": {
    "id": "applicable-winter"
   },
   "source": [
    "You can access a person's phone number using their name as follows:"
   ]
  },
  {
   "cell_type": "code",
   "execution_count": 10,
   "id": "worldwide-opposition",
   "metadata": {
    "colab": {
     "base_uri": "https://localhost:8080/",
     "height": 35
    },
    "executionInfo": {
     "elapsed": 984,
     "status": "ok",
     "timestamp": 1617208687589,
     "user": {
      "displayName": "18-4N3 Sai Krithik",
      "photoUrl": "https://lh3.googleusercontent.com/a-/AOh14GgTAZGL9F58Yi8DnVAy4Wi7by4ZuxRdLUGBUgdbl2c=s64",
      "userId": "10712441170071618582"
     },
     "user_tz": -330
    },
    "id": "worldwide-opposition",
    "outputId": "620d6054-f8eb-46d6-e153-07dae76f679e"
   },
   "outputs": [
    {
     "data": {
      "application/vnd.google.colaboratory.intrinsic+json": {
       "type": "string"
      },
      "text/plain": [
       "'9489484949'"
      ]
     },
     "execution_count": 10,
     "metadata": {
      "tags": []
     },
     "output_type": "execute_result"
    }
   ],
   "source": [
    "phone_numbers['Aakash']"
   ]
  },
  {
   "cell_type": "markdown",
   "id": "moral-optimum",
   "metadata": {
    "id": "moral-optimum"
   },
   "source": [
    "You can store new phone numbers, or update existing ones as follows:"
   ]
  },
  {
   "cell_type": "code",
   "execution_count": 11,
   "id": "occupied-absolute",
   "metadata": {
    "colab": {
     "base_uri": "https://localhost:8080/"
    },
    "executionInfo": {
     "elapsed": 936,
     "status": "ok",
     "timestamp": 1617208688399,
     "user": {
      "displayName": "18-4N3 Sai Krithik",
      "photoUrl": "https://lh3.googleusercontent.com/a-/AOh14GgTAZGL9F58Yi8DnVAy4Wi7by4ZuxRdLUGBUgdbl2c=s64",
      "userId": "10712441170071618582"
     },
     "user_tz": -330
    },
    "id": "occupied-absolute",
    "outputId": "2a876082-f84d-464f-c21a-1e47c1a974e6"
   },
   "outputs": [
    {
     "data": {
      "text/plain": [
       "{'Aakash': '7878787878',\n",
       " 'Hemanth': '9595949494',\n",
       " 'Siddhant': '9231325312',\n",
       " 'Vishal': '8787878787'}"
      ]
     },
     "execution_count": 11,
     "metadata": {
      "tags": []
     },
     "output_type": "execute_result"
    }
   ],
   "source": [
    "# Add a new value\n",
    "phone_numbers['Vishal'] = '8787878787'\n",
    "# Update existing value\n",
    "phone_numbers['Aakash'] = '7878787878'\n",
    "# View the updated dictionary\n",
    "phone_numbers"
   ]
  },
  {
   "cell_type": "markdown",
   "id": "attached-architect",
   "metadata": {
    "id": "attached-architect"
   },
   "source": [
    "You can also view all the names and phone numbers stored in `phone_numbers` using a `for` loop."
   ]
  },
  {
   "cell_type": "code",
   "execution_count": 12,
   "id": "worst-atmosphere",
   "metadata": {
    "colab": {
     "base_uri": "https://localhost:8080/"
    },
    "executionInfo": {
     "elapsed": 852,
     "status": "ok",
     "timestamp": 1617208688955,
     "user": {
      "displayName": "18-4N3 Sai Krithik",
      "photoUrl": "https://lh3.googleusercontent.com/a-/AOh14GgTAZGL9F58Yi8DnVAy4Wi7by4ZuxRdLUGBUgdbl2c=s64",
      "userId": "10712441170071618582"
     },
     "user_tz": -330
    },
    "id": "worst-atmosphere",
    "outputId": "9609c30e-90c5-4912-ce8a-60e28837ebea"
   },
   "outputs": [
    {
     "name": "stdout",
     "output_type": "stream",
     "text": [
      "Name: Aakash , Phone Number: 7878787878\n",
      "Name: Hemanth , Phone Number: 9595949494\n",
      "Name: Siddhant , Phone Number: 9231325312\n",
      "Name: Vishal , Phone Number: 8787878787\n"
     ]
    }
   ],
   "source": [
    "for name in phone_numbers:\n",
    "    print('Name:', name, ', Phone Number:', phone_numbers[name])"
   ]
  },
  {
   "cell_type": "markdown",
   "id": "motivated-toolbox",
   "metadata": {
    "id": "motivated-toolbox"
   },
   "source": [
    "Dictionaries in Python are implemented using a data structure called **hash table**. A hash table uses a list/array to store the key-value pairs, and uses a _hashing function_ to determine the index for storing or retrieving the data associated with a given key. \n",
    "\n",
    "Here's a visual representation of a hash table ([source](https://en.wikipedia.org/wiki/Hash_table)):\n",
    "\n",
    "<img src=\"https://i.imgur.com/5dPEmuY.png\" width=\"480\">\n",
    "\n",
    "Your objective in this assignment is to implement a `HashTable` class which supports the following operations:\n",
    "\n",
    "1. **Insert**: Insert a new key-value pair\n",
    "2. **Find**: Find the value associated with a key\n",
    "3. **Update**: Update the value associated with a key\n",
    "5. **List**: List all the keys stored in the hash table\n",
    "\n",
    "The `HashTable` class will have the following structure (note the function signatures):"
   ]
  },
  {
   "cell_type": "code",
   "execution_count": 13,
   "id": "amino-princess",
   "metadata": {
    "executionInfo": {
     "elapsed": 1183,
     "status": "ok",
     "timestamp": 1617208690008,
     "user": {
      "displayName": "18-4N3 Sai Krithik",
      "photoUrl": "https://lh3.googleusercontent.com/a-/AOh14GgTAZGL9F58Yi8DnVAy4Wi7by4ZuxRdLUGBUgdbl2c=s64",
      "userId": "10712441170071618582"
     },
     "user_tz": -330
    },
    "id": "amino-princess"
   },
   "outputs": [],
   "source": [
    "class HashTable:\n",
    "    def insert(self, key, value):\n",
    "        \"\"\"Insert a new key-value pair\"\"\"\n",
    "        pass\n",
    "    \n",
    "    def find(self, key):\n",
    "        \"\"\"Find the value associated with a key\"\"\"\n",
    "        pass\n",
    "    \n",
    "    def update(self, key, value):\n",
    "        \"\"\"Change the value associated with a key\"\"\"\n",
    "        pass\n",
    "    \n",
    "    def list_all(self):\n",
    "        \"\"\"List all the keys\"\"\"\n",
    "        pass"
   ]
  },
  {
   "cell_type": "markdown",
   "id": "biblical-contractor",
   "metadata": {
    "id": "biblical-contractor"
   },
   "source": [
    "Before we begin our implementation, let's save and commit our work."
   ]
  },
  {
   "cell_type": "code",
   "execution_count": 14,
   "id": "through-volume",
   "metadata": {
    "colab": {
     "base_uri": "https://localhost:8080/",
     "height": 102
    },
    "executionInfo": {
     "elapsed": 4851,
     "status": "ok",
     "timestamp": 1617208694257,
     "user": {
      "displayName": "18-4N3 Sai Krithik",
      "photoUrl": "https://lh3.googleusercontent.com/a-/AOh14GgTAZGL9F58Yi8DnVAy4Wi7by4ZuxRdLUGBUgdbl2c=s64",
      "userId": "10712441170071618582"
     },
     "user_tz": -330
    },
    "id": "through-volume",
    "outputId": "75b8d126-f700-4269-99ba-6bed86aa7075"
   },
   "outputs": [
    {
     "name": "stdout",
     "output_type": "stream",
     "text": [
      "[jovian] Detected Colab notebook...\u001b[0m\n",
      "[jovian] Uploading colab notebook to Jovian...\u001b[0m\n",
      "[jovian] Capturing environment..\u001b[0m\n",
      "[jovian] Committed successfully! https://jovian.ai/saikrithik/python-hash-tables-assignment\u001b[0m\n"
     ]
    },
    {
     "data": {
      "application/vnd.google.colaboratory.intrinsic+json": {
       "type": "string"
      },
      "text/plain": [
       "'https://jovian.ai/saikrithik/python-hash-tables-assignment'"
      ]
     },
     "execution_count": 14,
     "metadata": {
      "tags": []
     },
     "output_type": "execute_result"
    }
   ],
   "source": [
    "jovian.commit(project=project)"
   ]
  },
  {
   "cell_type": "markdown",
   "id": "acute-healthcare",
   "metadata": {
    "id": "acute-healthcare"
   },
   "source": [
    "### Data List\n",
    "\n",
    "We'll build the `HashTable` class step-by-step. As a first step is to create a Python list which will hold all the key-value pairs. We'll start by creating a list of a fixed size.\n",
    "\n"
   ]
  },
  {
   "cell_type": "code",
   "execution_count": 15,
   "id": "indian-potential",
   "metadata": {
    "executionInfo": {
     "elapsed": 1074,
     "status": "ok",
     "timestamp": 1617208716140,
     "user": {
      "displayName": "18-4N3 Sai Krithik",
      "photoUrl": "https://lh3.googleusercontent.com/a-/AOh14GgTAZGL9F58Yi8DnVAy4Wi7by4ZuxRdLUGBUgdbl2c=s64",
      "userId": "10712441170071618582"
     },
     "user_tz": -330
    },
    "id": "indian-potential"
   },
   "outputs": [],
   "source": [
    "MAX_HASH_TABLE_SIZE = 4096"
   ]
  },
  {
   "cell_type": "markdown",
   "id": "upset-bullet",
   "metadata": {
    "id": "upset-bullet"
   },
   "source": [
    "**QUESTION 1: Create a Python list of size `MAX_HASH_TABLE_SIZE`, with all the values set to `None`.**\n",
    "\n",
    "_Hint_: Use the [`*` operator](https://stackoverflow.com/questions/3459098/create-list-of-single-item-repeated-n-times)."
   ]
  },
  {
   "cell_type": "code",
   "execution_count": 16,
   "id": "expected-responsibility",
   "metadata": {
    "executionInfo": {
     "elapsed": 921,
     "status": "ok",
     "timestamp": 1617208716494,
     "user": {
      "displayName": "18-4N3 Sai Krithik",
      "photoUrl": "https://lh3.googleusercontent.com/a-/AOh14GgTAZGL9F58Yi8DnVAy4Wi7by4ZuxRdLUGBUgdbl2c=s64",
      "userId": "10712441170071618582"
     },
     "user_tz": -330
    },
    "id": "expected-responsibility"
   },
   "outputs": [],
   "source": [
    "# List of size MAX_HASH_TABLE_SIZE with all values None\n",
    "data_list = [None] * 4096"
   ]
  },
  {
   "cell_type": "markdown",
   "id": "patient-complexity",
   "metadata": {
    "id": "patient-complexity"
   },
   "source": [
    "If the list was created successfully, the following cells should output `True`."
   ]
  },
  {
   "cell_type": "code",
   "execution_count": 17,
   "id": "cross-certification",
   "metadata": {
    "colab": {
     "base_uri": "https://localhost:8080/"
    },
    "executionInfo": {
     "elapsed": 884,
     "status": "ok",
     "timestamp": 1617208717057,
     "user": {
      "displayName": "18-4N3 Sai Krithik",
      "photoUrl": "https://lh3.googleusercontent.com/a-/AOh14GgTAZGL9F58Yi8DnVAy4Wi7by4ZuxRdLUGBUgdbl2c=s64",
      "userId": "10712441170071618582"
     },
     "user_tz": -330
    },
    "id": "cross-certification",
    "outputId": "d775b9e7-39c5-4a8b-e27d-1d3bdfbe27e2"
   },
   "outputs": [
    {
     "data": {
      "text/plain": [
       "True"
      ]
     },
     "execution_count": 17,
     "metadata": {
      "tags": []
     },
     "output_type": "execute_result"
    }
   ],
   "source": [
    "len(data_list) == 4096"
   ]
  },
  {
   "cell_type": "code",
   "execution_count": 18,
   "id": "controlled-ideal",
   "metadata": {
    "colab": {
     "base_uri": "https://localhost:8080/"
    },
    "executionInfo": {
     "elapsed": 1328,
     "status": "ok",
     "timestamp": 1617208717797,
     "user": {
      "displayName": "18-4N3 Sai Krithik",
      "photoUrl": "https://lh3.googleusercontent.com/a-/AOh14GgTAZGL9F58Yi8DnVAy4Wi7by4ZuxRdLUGBUgdbl2c=s64",
      "userId": "10712441170071618582"
     },
     "user_tz": -330
    },
    "id": "controlled-ideal",
    "outputId": "363911f0-e0b5-4c53-a791-97d15e8b80bc"
   },
   "outputs": [
    {
     "data": {
      "text/plain": [
       "True"
      ]
     },
     "execution_count": 18,
     "metadata": {
      "tags": []
     },
     "output_type": "execute_result"
    }
   ],
   "source": [
    "data_list[99] == None"
   ]
  },
  {
   "cell_type": "markdown",
   "id": "juvenile-canal",
   "metadata": {
    "id": "juvenile-canal"
   },
   "source": [
    "Let's save our work before continuing."
   ]
  },
  {
   "cell_type": "code",
   "execution_count": 19,
   "id": "celtic-mistake",
   "metadata": {
    "colab": {
     "base_uri": "https://localhost:8080/",
     "height": 102
    },
    "executionInfo": {
     "elapsed": 5071,
     "status": "ok",
     "timestamp": 1617208722108,
     "user": {
      "displayName": "18-4N3 Sai Krithik",
      "photoUrl": "https://lh3.googleusercontent.com/a-/AOh14GgTAZGL9F58Yi8DnVAy4Wi7by4ZuxRdLUGBUgdbl2c=s64",
      "userId": "10712441170071618582"
     },
     "user_tz": -330
    },
    "id": "celtic-mistake",
    "outputId": "5e2fb837-3d55-4813-ee5e-ac56f43dd1dd"
   },
   "outputs": [
    {
     "name": "stdout",
     "output_type": "stream",
     "text": [
      "[jovian] Detected Colab notebook...\u001b[0m\n",
      "[jovian] Uploading colab notebook to Jovian...\u001b[0m\n",
      "[jovian] Capturing environment..\u001b[0m\n",
      "[jovian] Committed successfully! https://jovian.ai/saikrithik/python-hash-tables-assignment\u001b[0m\n"
     ]
    },
    {
     "data": {
      "application/vnd.google.colaboratory.intrinsic+json": {
       "type": "string"
      },
      "text/plain": [
       "'https://jovian.ai/saikrithik/python-hash-tables-assignment'"
      ]
     },
     "execution_count": 19,
     "metadata": {
      "tags": []
     },
     "output_type": "execute_result"
    }
   ],
   "source": [
    "jovian.commit(project=project)"
   ]
  },
  {
   "cell_type": "markdown",
   "id": "radio-wisconsin",
   "metadata": {
    "id": "radio-wisconsin"
   },
   "source": [
    "### Hashing Function\n",
    "\n",
    "A _hashing function_ is used to convert strings and other non-numeric data types into numbers, which can then be used as list indices. For instance, if a hashing function converts the string `\"Aakash\"` into the number `4`, then the key-value pair `('Aakash', '7878787878')` will be stored at the position `4` within the data list.\n",
    "\n",
    "Here's a simple algorithm for hashing, which can convert strings into numeric list indices.\n",
    "\n",
    "1. Iterate over the string, character by character\n",
    "2. Convert each character to a number using Python's built-in `ord` function.\n",
    "3. Add the numbers for each character to obtain the hash for the entire string \n",
    "4. Take the remainder of the result with the size of the data list\n",
    "\n",
    "\n",
    "**QUESTION 2: Complete the `get_index` function below which implements the hashing algorithm described above.**"
   ]
  },
  {
   "cell_type": "code",
   "execution_count": 20,
   "id": "broken-vertex",
   "metadata": {
    "executionInfo": {
     "elapsed": 4130,
     "status": "ok",
     "timestamp": 1617208722109,
     "user": {
      "displayName": "18-4N3 Sai Krithik",
      "photoUrl": "https://lh3.googleusercontent.com/a-/AOh14GgTAZGL9F58Yi8DnVAy4Wi7by4ZuxRdLUGBUgdbl2c=s64",
      "userId": "10712441170071618582"
     },
     "user_tz": -330
    },
    "id": "broken-vertex"
   },
   "outputs": [],
   "source": [
    "def get_index(data_list, a_string):\n",
    "    # Variable to store the result (updated after each iteration)\n",
    "    result = 0\n",
    "    \n",
    "    for a_character in a_string:\n",
    "        # Convert the character to a number (using ord)\n",
    "        a_number = ord(a_character)\n",
    "        # Update result by adding the number\n",
    "        result += a_number\n",
    "    \n",
    "    # Take the remainder of the result with the size of the data list\n",
    "    list_index = result % len(data_list)\n",
    "    return list_index"
   ]
  },
  {
   "cell_type": "markdown",
   "id": "political-plain",
   "metadata": {
    "id": "political-plain"
   },
   "source": [
    "If the `get_index` function was defined correctly, the following cells should output `True`."
   ]
  },
  {
   "cell_type": "code",
   "execution_count": 21,
   "id": "hairy-margin",
   "metadata": {
    "colab": {
     "base_uri": "https://localhost:8080/"
    },
    "executionInfo": {
     "elapsed": 2060,
     "status": "ok",
     "timestamp": 1617208722109,
     "user": {
      "displayName": "18-4N3 Sai Krithik",
      "photoUrl": "https://lh3.googleusercontent.com/a-/AOh14GgTAZGL9F58Yi8DnVAy4Wi7by4ZuxRdLUGBUgdbl2c=s64",
      "userId": "10712441170071618582"
     },
     "user_tz": -330
    },
    "id": "hairy-margin",
    "outputId": "7600cc37-5283-4b6f-da5d-127a353247f2"
   },
   "outputs": [
    {
     "data": {
      "text/plain": [
       "True"
      ]
     },
     "execution_count": 21,
     "metadata": {
      "tags": []
     },
     "output_type": "execute_result"
    }
   ],
   "source": [
    "get_index(data_list, '') == 0"
   ]
  },
  {
   "cell_type": "code",
   "execution_count": 22,
   "id": "split-league",
   "metadata": {
    "colab": {
     "base_uri": "https://localhost:8080/"
    },
    "executionInfo": {
     "elapsed": 1720,
     "status": "ok",
     "timestamp": 1617208722110,
     "user": {
      "displayName": "18-4N3 Sai Krithik",
      "photoUrl": "https://lh3.googleusercontent.com/a-/AOh14GgTAZGL9F58Yi8DnVAy4Wi7by4ZuxRdLUGBUgdbl2c=s64",
      "userId": "10712441170071618582"
     },
     "user_tz": -330
    },
    "id": "split-league",
    "outputId": "6522d68d-ca0a-48c7-8fb1-e886300f38ce"
   },
   "outputs": [
    {
     "data": {
      "text/plain": [
       "True"
      ]
     },
     "execution_count": 22,
     "metadata": {
      "tags": []
     },
     "output_type": "execute_result"
    }
   ],
   "source": [
    "get_index(data_list, 'Aakash') == 585"
   ]
  },
  {
   "cell_type": "code",
   "execution_count": 23,
   "id": "insured-romania",
   "metadata": {
    "colab": {
     "base_uri": "https://localhost:8080/"
    },
    "executionInfo": {
     "elapsed": 982,
     "status": "ok",
     "timestamp": 1617208722110,
     "user": {
      "displayName": "18-4N3 Sai Krithik",
      "photoUrl": "https://lh3.googleusercontent.com/a-/AOh14GgTAZGL9F58Yi8DnVAy4Wi7by4ZuxRdLUGBUgdbl2c=s64",
      "userId": "10712441170071618582"
     },
     "user_tz": -330
    },
    "id": "insured-romania",
    "outputId": "d0e8a9b8-b14c-4c04-e572-8754f25a245f"
   },
   "outputs": [
    {
     "data": {
      "text/plain": [
       "True"
      ]
     },
     "execution_count": 23,
     "metadata": {
      "tags": []
     },
     "output_type": "execute_result"
    }
   ],
   "source": [
    "get_index(data_list, 'Don O Leary') == 941"
   ]
  },
  {
   "cell_type": "markdown",
   "id": "secret-casting",
   "metadata": {
    "id": "secret-casting"
   },
   "source": [
    "(Optional) Test the `get_index` function using the empty cells below."
   ]
  },
  {
   "cell_type": "code",
   "execution_count": 23,
   "id": "close-speaker",
   "metadata": {
    "executionInfo": {
     "elapsed": 1165,
     "status": "ok",
     "timestamp": 1617208723038,
     "user": {
      "displayName": "18-4N3 Sai Krithik",
      "photoUrl": "https://lh3.googleusercontent.com/a-/AOh14GgTAZGL9F58Yi8DnVAy4Wi7by4ZuxRdLUGBUgdbl2c=s64",
      "userId": "10712441170071618582"
     },
     "user_tz": -330
    },
    "id": "close-speaker"
   },
   "outputs": [],
   "source": []
  },
  {
   "cell_type": "code",
   "execution_count": 23,
   "id": "pleased-metadata",
   "metadata": {
    "executionInfo": {
     "elapsed": 844,
     "status": "ok",
     "timestamp": 1617208723038,
     "user": {
      "displayName": "18-4N3 Sai Krithik",
      "photoUrl": "https://lh3.googleusercontent.com/a-/AOh14GgTAZGL9F58Yi8DnVAy4Wi7by4ZuxRdLUGBUgdbl2c=s64",
      "userId": "10712441170071618582"
     },
     "user_tz": -330
    },
    "id": "pleased-metadata"
   },
   "outputs": [],
   "source": []
  },
  {
   "cell_type": "markdown",
   "id": "conventional-champion",
   "metadata": {
    "id": "conventional-champion"
   },
   "source": [
    "#### Insert\n",
    "\n",
    "To insert a key-value pair into a hash table, we can simply get the hash of the key, and store the pair at that index in the data list."
   ]
  },
  {
   "cell_type": "code",
   "execution_count": 24,
   "id": "applied-receipt",
   "metadata": {
    "executionInfo": {
     "elapsed": 880,
     "status": "ok",
     "timestamp": 1617208723759,
     "user": {
      "displayName": "18-4N3 Sai Krithik",
      "photoUrl": "https://lh3.googleusercontent.com/a-/AOh14GgTAZGL9F58Yi8DnVAy4Wi7by4ZuxRdLUGBUgdbl2c=s64",
      "userId": "10712441170071618582"
     },
     "user_tz": -330
    },
    "id": "applied-receipt"
   },
   "outputs": [],
   "source": [
    "key, value = 'Aakash', '7878787878'"
   ]
  },
  {
   "cell_type": "code",
   "execution_count": 25,
   "id": "theoretical-november",
   "metadata": {
    "colab": {
     "base_uri": "https://localhost:8080/"
    },
    "executionInfo": {
     "elapsed": 1222,
     "status": "ok",
     "timestamp": 1617208724418,
     "user": {
      "displayName": "18-4N3 Sai Krithik",
      "photoUrl": "https://lh3.googleusercontent.com/a-/AOh14GgTAZGL9F58Yi8DnVAy4Wi7by4ZuxRdLUGBUgdbl2c=s64",
      "userId": "10712441170071618582"
     },
     "user_tz": -330
    },
    "id": "theoretical-november",
    "outputId": "778b5fc4-c61b-47bd-e99a-ac3e72b76b0a"
   },
   "outputs": [
    {
     "data": {
      "text/plain": [
       "585"
      ]
     },
     "execution_count": 25,
     "metadata": {
      "tags": []
     },
     "output_type": "execute_result"
    }
   ],
   "source": [
    "idx = get_index(data_list, key)\n",
    "idx"
   ]
  },
  {
   "cell_type": "code",
   "execution_count": 26,
   "id": "animated-mason",
   "metadata": {
    "executionInfo": {
     "elapsed": 831,
     "status": "ok",
     "timestamp": 1617208724419,
     "user": {
      "displayName": "18-4N3 Sai Krithik",
      "photoUrl": "https://lh3.googleusercontent.com/a-/AOh14GgTAZGL9F58Yi8DnVAy4Wi7by4ZuxRdLUGBUgdbl2c=s64",
      "userId": "10712441170071618582"
     },
     "user_tz": -330
    },
    "id": "animated-mason"
   },
   "outputs": [],
   "source": [
    "data_list[idx] = (key, value)"
   ]
  },
  {
   "cell_type": "markdown",
   "id": "attended-blend",
   "metadata": {
    "id": "attended-blend"
   },
   "source": [
    "Here's the same operation expressed in a single line of code."
   ]
  },
  {
   "cell_type": "code",
   "execution_count": 27,
   "id": "atlantic-marriage",
   "metadata": {
    "executionInfo": {
     "elapsed": 716,
     "status": "ok",
     "timestamp": 1617208725226,
     "user": {
      "displayName": "18-4N3 Sai Krithik",
      "photoUrl": "https://lh3.googleusercontent.com/a-/AOh14GgTAZGL9F58Yi8DnVAy4Wi7by4ZuxRdLUGBUgdbl2c=s64",
      "userId": "10712441170071618582"
     },
     "user_tz": -330
    },
    "id": "atlantic-marriage"
   },
   "outputs": [],
   "source": [
    "data_list[get_index(data_list, 'Hemanth')] = ('Hemanth', '9595949494')"
   ]
  },
  {
   "cell_type": "markdown",
   "id": "grateful-lyric",
   "metadata": {
    "id": "grateful-lyric"
   },
   "source": [
    "#### Find\n",
    "\n",
    "The retrieve the value associated with a pair, we can get the hash of the key and look up that index in the data list."
   ]
  },
  {
   "cell_type": "code",
   "execution_count": 28,
   "id": "banner-austria",
   "metadata": {
    "colab": {
     "base_uri": "https://localhost:8080/"
    },
    "executionInfo": {
     "elapsed": 703,
     "status": "ok",
     "timestamp": 1617208726180,
     "user": {
      "displayName": "18-4N3 Sai Krithik",
      "photoUrl": "https://lh3.googleusercontent.com/a-/AOh14GgTAZGL9F58Yi8DnVAy4Wi7by4ZuxRdLUGBUgdbl2c=s64",
      "userId": "10712441170071618582"
     },
     "user_tz": -330
    },
    "id": "banner-austria",
    "outputId": "df08179c-210c-47ae-aeb0-b2db0b258f65"
   },
   "outputs": [
    {
     "data": {
      "text/plain": [
       "585"
      ]
     },
     "execution_count": 28,
     "metadata": {
      "tags": []
     },
     "output_type": "execute_result"
    }
   ],
   "source": [
    "idx = get_index(data_list, 'Aakash')\n",
    "idx"
   ]
  },
  {
   "cell_type": "code",
   "execution_count": 29,
   "id": "conceptual-ensemble",
   "metadata": {
    "colab": {
     "base_uri": "https://localhost:8080/",
     "height": 35
    },
    "executionInfo": {
     "elapsed": 744,
     "status": "ok",
     "timestamp": 1617208726638,
     "user": {
      "displayName": "18-4N3 Sai Krithik",
      "photoUrl": "https://lh3.googleusercontent.com/a-/AOh14GgTAZGL9F58Yi8DnVAy4Wi7by4ZuxRdLUGBUgdbl2c=s64",
      "userId": "10712441170071618582"
     },
     "user_tz": -330
    },
    "id": "conceptual-ensemble",
    "outputId": "710a28a0-97a7-4779-cac4-5ccdf79404e7"
   },
   "outputs": [
    {
     "data": {
      "application/vnd.google.colaboratory.intrinsic+json": {
       "type": "string"
      },
      "text/plain": [
       "'7878787878'"
      ]
     },
     "execution_count": 29,
     "metadata": {
      "tags": []
     },
     "output_type": "execute_result"
    }
   ],
   "source": [
    "key, value = data_list[idx]\n",
    "value"
   ]
  },
  {
   "cell_type": "markdown",
   "id": "aggregate-memorial",
   "metadata": {
    "id": "aggregate-memorial"
   },
   "source": [
    "#### List\n",
    "\n",
    "To get the list of keys, we can use a simple [list comprehension](https://www.w3schools.com/python/python_lists_comprehension.asp)."
   ]
  },
  {
   "cell_type": "code",
   "execution_count": 30,
   "id": "electric-democracy",
   "metadata": {
    "executionInfo": {
     "elapsed": 937,
     "status": "ok",
     "timestamp": 1617208727629,
     "user": {
      "displayName": "18-4N3 Sai Krithik",
      "photoUrl": "https://lh3.googleusercontent.com/a-/AOh14GgTAZGL9F58Yi8DnVAy4Wi7by4ZuxRdLUGBUgdbl2c=s64",
      "userId": "10712441170071618582"
     },
     "user_tz": -330
    },
    "id": "electric-democracy"
   },
   "outputs": [],
   "source": [
    "pairs = [kv[0] for kv in data_list if kv is not None]"
   ]
  },
  {
   "cell_type": "code",
   "execution_count": 31,
   "id": "flying-composer",
   "metadata": {
    "colab": {
     "base_uri": "https://localhost:8080/"
    },
    "executionInfo": {
     "elapsed": 965,
     "status": "ok",
     "timestamp": 1617208728043,
     "user": {
      "displayName": "18-4N3 Sai Krithik",
      "photoUrl": "https://lh3.googleusercontent.com/a-/AOh14GgTAZGL9F58Yi8DnVAy4Wi7by4ZuxRdLUGBUgdbl2c=s64",
      "userId": "10712441170071618582"
     },
     "user_tz": -330
    },
    "id": "flying-composer",
    "outputId": "6caace5b-d744-4b5b-d438-5769644b196b"
   },
   "outputs": [
    {
     "data": {
      "text/plain": [
       "['Aakash', 'Hemanth']"
      ]
     },
     "execution_count": 31,
     "metadata": {
      "tags": []
     },
     "output_type": "execute_result"
    }
   ],
   "source": [
    "pairs"
   ]
  },
  {
   "cell_type": "markdown",
   "id": "speaking-aerospace",
   "metadata": {
    "id": "speaking-aerospace"
   },
   "source": [
    "Let's save our work before continuing."
   ]
  },
  {
   "cell_type": "code",
   "execution_count": 32,
   "id": "wound-medicare",
   "metadata": {
    "colab": {
     "base_uri": "https://localhost:8080/",
     "height": 102
    },
    "executionInfo": {
     "elapsed": 4845,
     "status": "ok",
     "timestamp": 1617208732687,
     "user": {
      "displayName": "18-4N3 Sai Krithik",
      "photoUrl": "https://lh3.googleusercontent.com/a-/AOh14GgTAZGL9F58Yi8DnVAy4Wi7by4ZuxRdLUGBUgdbl2c=s64",
      "userId": "10712441170071618582"
     },
     "user_tz": -330
    },
    "id": "wound-medicare",
    "outputId": "e7720206-8c0e-4c84-d0be-a8eaeae7f281"
   },
   "outputs": [
    {
     "name": "stdout",
     "output_type": "stream",
     "text": [
      "[jovian] Detected Colab notebook...\u001b[0m\n",
      "[jovian] Uploading colab notebook to Jovian...\u001b[0m\n",
      "[jovian] Capturing environment..\u001b[0m\n",
      "[jovian] Committed successfully! https://jovian.ai/saikrithik/python-hash-tables-assignment\u001b[0m\n"
     ]
    },
    {
     "data": {
      "application/vnd.google.colaboratory.intrinsic+json": {
       "type": "string"
      },
      "text/plain": [
       "'https://jovian.ai/saikrithik/python-hash-tables-assignment'"
      ]
     },
     "execution_count": 32,
     "metadata": {
      "tags": []
     },
     "output_type": "execute_result"
    }
   ],
   "source": [
    "jovian.commit(project=project)"
   ]
  },
  {
   "cell_type": "markdown",
   "id": "geological-medication",
   "metadata": {
    "id": "geological-medication"
   },
   "source": [
    "### Basic Hash Table Implementation\n",
    "\n",
    "We can now use the hashing function defined above to implement a basic hash table in Python.\n",
    "\n",
    "\n",
    "**QUESTION 3: Complete the hash table implementation below by following the instructions in the comments.**\n",
    "\n",
    "_Hint_: Insert and update can have identical implementations.\n"
   ]
  },
  {
   "cell_type": "code",
   "execution_count": 33,
   "id": "hydraulic-moses",
   "metadata": {
    "executionInfo": {
     "elapsed": 2671,
     "status": "ok",
     "timestamp": 1617208732687,
     "user": {
      "displayName": "18-4N3 Sai Krithik",
      "photoUrl": "https://lh3.googleusercontent.com/a-/AOh14GgTAZGL9F58Yi8DnVAy4Wi7by4ZuxRdLUGBUgdbl2c=s64",
      "userId": "10712441170071618582"
     },
     "user_tz": -330
    },
    "id": "hydraulic-moses"
   },
   "outputs": [],
   "source": [
    "class BasicHashTable:\n",
    "    def __init__(self, max_size=MAX_HASH_TABLE_SIZE):\n",
    "        # 1. Create a list of size `max_size` with all values None\n",
    "        self.data_list = [None] * max_size\n",
    "     \n",
    "    \n",
    "    def insert(self, key, value):\n",
    "        # 1. Find the index for the key using get_index\n",
    "        idx = get_index(self.data_list, key)\n",
    "        \n",
    "        # 2. Store the key-value pair at the right index\n",
    "        self.data_list[idx] = (key, value)\n",
    "    \n",
    "    \n",
    "    def find(self, key):\n",
    "        # 1. Find the index for the key using get_index\n",
    "        idx = get_index(self.data_list, key)\n",
    "        \n",
    "        # 2. Retrieve the data stored at the index\n",
    "        kv = self.data_list[idx]\n",
    "        \n",
    "        # 3. Return the value if found, else return None\n",
    "        if kv is None:\n",
    "            return None\n",
    "        else:\n",
    "            key, value = kv\n",
    "            return value\n",
    "    \n",
    "    \n",
    "    def update(self, key, value):\n",
    "        # 1. Find the index for the key using get_index\n",
    "        idx = get_index(self.data_list, key)\n",
    "        \n",
    "        # 2. Store the new key-value pair at the right index\n",
    "        self.data_list[idx] = (key, value)\n",
    "\n",
    "    \n",
    "    def list_all(self):\n",
    "        # 1. Extract the key from each key-value pair \n",
    "        return [kv[0] for kv in self.data_list if kv is not None]"
   ]
  },
  {
   "cell_type": "markdown",
   "id": "green-health",
   "metadata": {
    "id": "green-health"
   },
   "source": [
    "If the `BasicHashTable` class was defined correctly, the following cells should output `True`."
   ]
  },
  {
   "cell_type": "code",
   "execution_count": 34,
   "id": "automotive-aerospace",
   "metadata": {
    "colab": {
     "base_uri": "https://localhost:8080/"
    },
    "executionInfo": {
     "elapsed": 1281,
     "status": "ok",
     "timestamp": 1617208732688,
     "user": {
      "displayName": "18-4N3 Sai Krithik",
      "photoUrl": "https://lh3.googleusercontent.com/a-/AOh14GgTAZGL9F58Yi8DnVAy4Wi7by4ZuxRdLUGBUgdbl2c=s64",
      "userId": "10712441170071618582"
     },
     "user_tz": -330
    },
    "id": "automotive-aerospace",
    "outputId": "56055c40-d01c-4edb-ab9b-62481e5c6966"
   },
   "outputs": [
    {
     "data": {
      "text/plain": [
       "True"
      ]
     },
     "execution_count": 34,
     "metadata": {
      "tags": []
     },
     "output_type": "execute_result"
    }
   ],
   "source": [
    "basic_table = BasicHashTable(max_size=1024)\n",
    "len(basic_table.data_list) == 1024"
   ]
  },
  {
   "cell_type": "code",
   "execution_count": 35,
   "id": "awful-contemporary",
   "metadata": {
    "colab": {
     "base_uri": "https://localhost:8080/"
    },
    "executionInfo": {
     "elapsed": 816,
     "status": "ok",
     "timestamp": 1617208732688,
     "user": {
      "displayName": "18-4N3 Sai Krithik",
      "photoUrl": "https://lh3.googleusercontent.com/a-/AOh14GgTAZGL9F58Yi8DnVAy4Wi7by4ZuxRdLUGBUgdbl2c=s64",
      "userId": "10712441170071618582"
     },
     "user_tz": -330
    },
    "id": "awful-contemporary",
    "outputId": "4a58cbed-0416-4900-98f3-12a0d4f33738"
   },
   "outputs": [
    {
     "data": {
      "text/plain": [
       "True"
      ]
     },
     "execution_count": 35,
     "metadata": {
      "tags": []
     },
     "output_type": "execute_result"
    }
   ],
   "source": [
    "# Insert some values\n",
    "basic_table.insert('Aakash', '9999999999')\n",
    "basic_table.insert('Hemanth', '8888888888')\n",
    "\n",
    "# Find a value\n",
    "basic_table.find('Hemanth') == '8888888888'"
   ]
  },
  {
   "cell_type": "code",
   "execution_count": 36,
   "id": "sustainable-latter",
   "metadata": {
    "colab": {
     "base_uri": "https://localhost:8080/"
    },
    "executionInfo": {
     "elapsed": 613,
     "status": "ok",
     "timestamp": 1617208733152,
     "user": {
      "displayName": "18-4N3 Sai Krithik",
      "photoUrl": "https://lh3.googleusercontent.com/a-/AOh14GgTAZGL9F58Yi8DnVAy4Wi7by4ZuxRdLUGBUgdbl2c=s64",
      "userId": "10712441170071618582"
     },
     "user_tz": -330
    },
    "id": "sustainable-latter",
    "outputId": "8a073e31-31d4-4562-d01c-28e2746288bc"
   },
   "outputs": [
    {
     "data": {
      "text/plain": [
       "True"
      ]
     },
     "execution_count": 36,
     "metadata": {
      "tags": []
     },
     "output_type": "execute_result"
    }
   ],
   "source": [
    "# Update a value\n",
    "basic_table.update('Aakash', '7777777777')\n",
    "\n",
    "# Check the updated value\n",
    "basic_table.find('Aakash') == '7777777777'"
   ]
  },
  {
   "cell_type": "code",
   "execution_count": 37,
   "id": "accredited-fruit",
   "metadata": {
    "colab": {
     "base_uri": "https://localhost:8080/"
    },
    "executionInfo": {
     "elapsed": 815,
     "status": "ok",
     "timestamp": 1617208733693,
     "user": {
      "displayName": "18-4N3 Sai Krithik",
      "photoUrl": "https://lh3.googleusercontent.com/a-/AOh14GgTAZGL9F58Yi8DnVAy4Wi7by4ZuxRdLUGBUgdbl2c=s64",
      "userId": "10712441170071618582"
     },
     "user_tz": -330
    },
    "id": "accredited-fruit",
    "outputId": "203f3c35-fd0f-467a-f094-031d6a479acd"
   },
   "outputs": [
    {
     "data": {
      "text/plain": [
       "True"
      ]
     },
     "execution_count": 37,
     "metadata": {
      "tags": []
     },
     "output_type": "execute_result"
    }
   ],
   "source": [
    "# Get the list of keys\n",
    "basic_table.list_all() == ['Aakash', 'Hemanth']"
   ]
  },
  {
   "cell_type": "markdown",
   "id": "blank-thesaurus",
   "metadata": {
    "id": "blank-thesaurus"
   },
   "source": [
    "(Optional) Test your implementation of `BasicHashTable` with some more examples below."
   ]
  },
  {
   "cell_type": "code",
   "execution_count": 37,
   "id": "antique-reverse",
   "metadata": {
    "executionInfo": {
     "elapsed": 991,
     "status": "ok",
     "timestamp": 1617208734654,
     "user": {
      "displayName": "18-4N3 Sai Krithik",
      "photoUrl": "https://lh3.googleusercontent.com/a-/AOh14GgTAZGL9F58Yi8DnVAy4Wi7by4ZuxRdLUGBUgdbl2c=s64",
      "userId": "10712441170071618582"
     },
     "user_tz": -330
    },
    "id": "antique-reverse"
   },
   "outputs": [],
   "source": []
  },
  {
   "cell_type": "code",
   "execution_count": 37,
   "id": "sustained-surgery",
   "metadata": {
    "executionInfo": {
     "elapsed": 1005,
     "status": "ok",
     "timestamp": 1617208735074,
     "user": {
      "displayName": "18-4N3 Sai Krithik",
      "photoUrl": "https://lh3.googleusercontent.com/a-/AOh14GgTAZGL9F58Yi8DnVAy4Wi7by4ZuxRdLUGBUgdbl2c=s64",
      "userId": "10712441170071618582"
     },
     "user_tz": -330
    },
    "id": "sustained-surgery"
   },
   "outputs": [],
   "source": []
  },
  {
   "cell_type": "code",
   "execution_count": 37,
   "id": "cutting-confirmation",
   "metadata": {
    "executionInfo": {
     "elapsed": 1040,
     "status": "ok",
     "timestamp": 1617208735553,
     "user": {
      "displayName": "18-4N3 Sai Krithik",
      "photoUrl": "https://lh3.googleusercontent.com/a-/AOh14GgTAZGL9F58Yi8DnVAy4Wi7by4ZuxRdLUGBUgdbl2c=s64",
      "userId": "10712441170071618582"
     },
     "user_tz": -330
    },
    "id": "cutting-confirmation"
   },
   "outputs": [],
   "source": []
  },
  {
   "cell_type": "markdown",
   "id": "identified-gather",
   "metadata": {
    "id": "identified-gather"
   },
   "source": [
    "Let's save our work before continuing."
   ]
  },
  {
   "cell_type": "code",
   "execution_count": 38,
   "id": "supreme-clearance",
   "metadata": {
    "colab": {
     "base_uri": "https://localhost:8080/",
     "height": 102
    },
    "executionInfo": {
     "elapsed": 4158,
     "status": "ok",
     "timestamp": 1617208740059,
     "user": {
      "displayName": "18-4N3 Sai Krithik",
      "photoUrl": "https://lh3.googleusercontent.com/a-/AOh14GgTAZGL9F58Yi8DnVAy4Wi7by4ZuxRdLUGBUgdbl2c=s64",
      "userId": "10712441170071618582"
     },
     "user_tz": -330
    },
    "id": "supreme-clearance",
    "outputId": "d5df6ab3-abd8-4a54-9c1c-45ff4a9d39f5"
   },
   "outputs": [
    {
     "name": "stdout",
     "output_type": "stream",
     "text": [
      "[jovian] Detected Colab notebook...\u001b[0m\n",
      "[jovian] Uploading colab notebook to Jovian...\u001b[0m\n",
      "[jovian] Capturing environment..\u001b[0m\n",
      "[jovian] Committed successfully! https://jovian.ai/saikrithik/python-hash-tables-assignment\u001b[0m\n"
     ]
    },
    {
     "data": {
      "application/vnd.google.colaboratory.intrinsic+json": {
       "type": "string"
      },
      "text/plain": [
       "'https://jovian.ai/saikrithik/python-hash-tables-assignment'"
      ]
     },
     "execution_count": 38,
     "metadata": {
      "tags": []
     },
     "output_type": "execute_result"
    }
   ],
   "source": [
    "jovian.commit()"
   ]
  },
  {
   "cell_type": "markdown",
   "id": "local-fairy",
   "metadata": {
    "id": "local-fairy"
   },
   "source": [
    "### Handling Collisions with Linear Probing\n",
    "\n",
    "As you might have wondered, multiple keys can have the same hash. For instance, the keys `\"listen\"` and `\"silent\"` have the same hash. This is referred to as _collision_. Data stored against one key may override the data stored against another, if they have the same hash.\n"
   ]
  },
  {
   "cell_type": "code",
   "execution_count": 39,
   "id": "designed-bridal",
   "metadata": {
    "executionInfo": {
     "elapsed": 3657,
     "status": "ok",
     "timestamp": 1617208740688,
     "user": {
      "displayName": "18-4N3 Sai Krithik",
      "photoUrl": "https://lh3.googleusercontent.com/a-/AOh14GgTAZGL9F58Yi8DnVAy4Wi7by4ZuxRdLUGBUgdbl2c=s64",
      "userId": "10712441170071618582"
     },
     "user_tz": -330
    },
    "id": "designed-bridal"
   },
   "outputs": [],
   "source": [
    "basic_table.insert('listen', 99)"
   ]
  },
  {
   "cell_type": "code",
   "execution_count": 40,
   "id": "removed-coating",
   "metadata": {
    "executionInfo": {
     "elapsed": 3230,
     "status": "ok",
     "timestamp": 1617208740690,
     "user": {
      "displayName": "18-4N3 Sai Krithik",
      "photoUrl": "https://lh3.googleusercontent.com/a-/AOh14GgTAZGL9F58Yi8DnVAy4Wi7by4ZuxRdLUGBUgdbl2c=s64",
      "userId": "10712441170071618582"
     },
     "user_tz": -330
    },
    "id": "removed-coating"
   },
   "outputs": [],
   "source": [
    "basic_table.insert('silent', 200)"
   ]
  },
  {
   "cell_type": "code",
   "execution_count": 41,
   "id": "danish-documentation",
   "metadata": {
    "colab": {
     "base_uri": "https://localhost:8080/"
    },
    "executionInfo": {
     "elapsed": 2823,
     "status": "ok",
     "timestamp": 1617208740690,
     "user": {
      "displayName": "18-4N3 Sai Krithik",
      "photoUrl": "https://lh3.googleusercontent.com/a-/AOh14GgTAZGL9F58Yi8DnVAy4Wi7by4ZuxRdLUGBUgdbl2c=s64",
      "userId": "10712441170071618582"
     },
     "user_tz": -330
    },
    "id": "danish-documentation",
    "outputId": "44de2cef-d6e6-4582-bbf0-8cacdc58f682"
   },
   "outputs": [
    {
     "data": {
      "text/plain": [
       "200"
      ]
     },
     "execution_count": 41,
     "metadata": {
      "tags": []
     },
     "output_type": "execute_result"
    }
   ],
   "source": [
    "basic_table.find('listen')"
   ]
  },
  {
   "cell_type": "markdown",
   "id": "focal-intent",
   "metadata": {
    "id": "focal-intent"
   },
   "source": [
    "As you can see above, the value for the key `listen` was overwritten by the value for the key `silent`. Our hash table implementation is incomplete because it does not handle collisions correctly.\n",
    "\n",
    "To handle collisions we'll use a technique called linear probing. Here's how it works: \n",
    "\n",
    "1. While inserting a new key-value pair if the target index for a key is occupied by another key, then we try the next index, followed by the next and so on till we the closest empty location.\n",
    "\n",
    "2. While finding a key-value pair, we apply the same strategy, but instead of searching for an empty location, we look for a location which contains a key-value pair with the matching key.\n",
    "\n",
    "2. While updating a key-value pair, we apply the same strategy, but instead of searching for an empty location, we look for a location which contains a key-value pair with the matching key, and update its value.\n",
    "\n",
    "\n",
    "We'll define a function called `get_valid_index`, which starts searching the data list from the index determined by the hashing function `get_index` and returns the first index which is either empty or contains a key-value pair matching the given key.\n",
    "\n",
    "**QUESTION 4: Complete the function `get_valid_index` below by following the instructions in the comments.**"
   ]
  },
  {
   "cell_type": "code",
   "execution_count": 42,
   "id": "speaking-reform",
   "metadata": {
    "executionInfo": {
     "elapsed": 1785,
     "status": "ok",
     "timestamp": 1617208740691,
     "user": {
      "displayName": "18-4N3 Sai Krithik",
      "photoUrl": "https://lh3.googleusercontent.com/a-/AOh14GgTAZGL9F58Yi8DnVAy4Wi7by4ZuxRdLUGBUgdbl2c=s64",
      "userId": "10712441170071618582"
     },
     "user_tz": -330
    },
    "id": "speaking-reform"
   },
   "outputs": [],
   "source": [
    "def get_valid_index(data_list, key):\n",
    "    # Start with the index returned by get_index\n",
    "    idx = get_index(data_list,key)\n",
    "    \n",
    "    while True:\n",
    "        # Get the key-value pair stored at idx\n",
    "        kv = data_list[idx]\n",
    "        \n",
    "        # If it is None, return the index\n",
    "        if kv is None:\n",
    "            return idx\n",
    "        \n",
    "        # If the stored key matches the given key, return the index\n",
    "        k, v = kv\n",
    "        if k == key:\n",
    "            return idx\n",
    "        \n",
    "        # Move to the next index\n",
    "        idx += 1\n",
    "        \n",
    "        # Go back to the start if you have reached the end of the array\n",
    "        if idx == len(data_list):\n",
    "            idx = 0"
   ]
  },
  {
   "cell_type": "code",
   "execution_count": 42,
   "id": "stable-journalism",
   "metadata": {
    "executionInfo": {
     "elapsed": 1249,
     "status": "ok",
     "timestamp": 1617208740692,
     "user": {
      "displayName": "18-4N3 Sai Krithik",
      "photoUrl": "https://lh3.googleusercontent.com/a-/AOh14GgTAZGL9F58Yi8DnVAy4Wi7by4ZuxRdLUGBUgdbl2c=s64",
      "userId": "10712441170071618582"
     },
     "user_tz": -330
    },
    "id": "stable-journalism"
   },
   "outputs": [],
   "source": []
  },
  {
   "cell_type": "markdown",
   "id": "addressed-announcement",
   "metadata": {
    "id": "addressed-announcement"
   },
   "source": [
    "If `get_valid_index` was defined correctly, the following cells should output `True`."
   ]
  },
  {
   "cell_type": "code",
   "execution_count": 43,
   "id": "shared-breathing",
   "metadata": {
    "colab": {
     "base_uri": "https://localhost:8080/"
    },
    "executionInfo": {
     "elapsed": 955,
     "status": "ok",
     "timestamp": 1617208741218,
     "user": {
      "displayName": "18-4N3 Sai Krithik",
      "photoUrl": "https://lh3.googleusercontent.com/a-/AOh14GgTAZGL9F58Yi8DnVAy4Wi7by4ZuxRdLUGBUgdbl2c=s64",
      "userId": "10712441170071618582"
     },
     "user_tz": -330
    },
    "id": "shared-breathing",
    "outputId": "e0199833-f182-4b7f-ab9e-351e07f91f93"
   },
   "outputs": [
    {
     "data": {
      "text/plain": [
       "True"
      ]
     },
     "execution_count": 43,
     "metadata": {
      "tags": []
     },
     "output_type": "execute_result"
    }
   ],
   "source": [
    "# Create an empty hash table\n",
    "data_list2 = [None] * MAX_HASH_TABLE_SIZE\n",
    "\n",
    "# New key 'listen' should return expected index\n",
    "get_valid_index(data_list2, 'listen') == 655"
   ]
  },
  {
   "cell_type": "code",
   "execution_count": 44,
   "id": "sophisticated-enterprise",
   "metadata": {
    "colab": {
     "base_uri": "https://localhost:8080/"
    },
    "executionInfo": {
     "elapsed": 992,
     "status": "ok",
     "timestamp": 1617208741644,
     "user": {
      "displayName": "18-4N3 Sai Krithik",
      "photoUrl": "https://lh3.googleusercontent.com/a-/AOh14GgTAZGL9F58Yi8DnVAy4Wi7by4ZuxRdLUGBUgdbl2c=s64",
      "userId": "10712441170071618582"
     },
     "user_tz": -330
    },
    "id": "sophisticated-enterprise",
    "outputId": "894c359e-510c-44f1-8df4-789d8002e21c"
   },
   "outputs": [
    {
     "data": {
      "text/plain": [
       "True"
      ]
     },
     "execution_count": 44,
     "metadata": {
      "tags": []
     },
     "output_type": "execute_result"
    }
   ],
   "source": [
    "# Insert a key-value pair for the key 'listen'\n",
    "data_list2[get_index(data_list2, 'listen')] = ('listen', 99)\n",
    "\n",
    "# Colliding key 'silent' should return next index\n",
    "get_valid_index(data_list2, 'silent') == 656"
   ]
  },
  {
   "cell_type": "markdown",
   "id": "scenic-drink",
   "metadata": {
    "id": "scenic-drink"
   },
   "source": [
    "(Optional) Test your implementation of `get_valid_index` on some more examples using the empty cells below."
   ]
  },
  {
   "cell_type": "code",
   "execution_count": 44,
   "id": "parallel-birmingham",
   "metadata": {
    "executionInfo": {
     "elapsed": 1022,
     "status": "ok",
     "timestamp": 1617208742447,
     "user": {
      "displayName": "18-4N3 Sai Krithik",
      "photoUrl": "https://lh3.googleusercontent.com/a-/AOh14GgTAZGL9F58Yi8DnVAy4Wi7by4ZuxRdLUGBUgdbl2c=s64",
      "userId": "10712441170071618582"
     },
     "user_tz": -330
    },
    "id": "parallel-birmingham"
   },
   "outputs": [],
   "source": []
  },
  {
   "cell_type": "code",
   "execution_count": 44,
   "id": "fewer-stylus",
   "metadata": {
    "executionInfo": {
     "elapsed": 633,
     "status": "ok",
     "timestamp": 1617208742447,
     "user": {
      "displayName": "18-4N3 Sai Krithik",
      "photoUrl": "https://lh3.googleusercontent.com/a-/AOh14GgTAZGL9F58Yi8DnVAy4Wi7by4ZuxRdLUGBUgdbl2c=s64",
      "userId": "10712441170071618582"
     },
     "user_tz": -330
    },
    "id": "fewer-stylus"
   },
   "outputs": [],
   "source": []
  },
  {
   "cell_type": "code",
   "execution_count": 44,
   "id": "regulated-subject",
   "metadata": {
    "executionInfo": {
     "elapsed": 819,
     "status": "ok",
     "timestamp": 1617208743010,
     "user": {
      "displayName": "18-4N3 Sai Krithik",
      "photoUrl": "https://lh3.googleusercontent.com/a-/AOh14GgTAZGL9F58Yi8DnVAy4Wi7by4ZuxRdLUGBUgdbl2c=s64",
      "userId": "10712441170071618582"
     },
     "user_tz": -330
    },
    "id": "regulated-subject"
   },
   "outputs": [],
   "source": []
  },
  {
   "cell_type": "markdown",
   "id": "lasting-grocery",
   "metadata": {
    "id": "lasting-grocery"
   },
   "source": [
    "Let's save our work before continuing."
   ]
  },
  {
   "cell_type": "code",
   "execution_count": null,
   "id": "pleased-blocking",
   "metadata": {
    "colab": {
     "base_uri": "https://localhost:8080/"
    },
    "id": "pleased-blocking",
    "outputId": "cad1e522-ecb5-45d6-fc18-42f03178a518"
   },
   "outputs": [
    {
     "name": "stdout",
     "output_type": "stream",
     "text": [
      "[jovian] Detected Colab notebook...\u001b[0m\n",
      "[jovian] Uploading colab notebook to Jovian...\u001b[0m\n"
     ]
    }
   ],
   "source": [
    "jovian.commit()"
   ]
  },
  {
   "cell_type": "markdown",
   "id": "polish-grill",
   "metadata": {
    "id": "polish-grill"
   },
   "source": [
    "### Hash Table with Linear Probing\n",
    "\n",
    "We can now implement a hash table with linear probing.\n",
    "\n",
    "**QUESTION 5: Complete the hash table (with linear probing) implementation below by following the instructions in the comments.**"
   ]
  },
  {
   "cell_type": "code",
   "execution_count": null,
   "id": "abstract-stanley",
   "metadata": {
    "id": "abstract-stanley"
   },
   "outputs": [],
   "source": [
    "class ProbingHashTable:\n",
    "    def __init__(self, max_size=MAX_HASH_TABLE_SIZE):\n",
    "        # 1. Create a list of size `max_size` with all values None\n",
    "        self.data_list = [None] * max_size\n",
    "     \n",
    "    \n",
    "    def insert(self, key, value):\n",
    "        # 1. Find the index for the key using get_valid_index\n",
    "        idx = get_valid_index(self.data_list, key)\n",
    "        \n",
    "        # 2. Store the key-value pair at the right index\n",
    "        self.data_list[idx] = key, value\n",
    "    \n",
    "    \n",
    "    def find(self, key):\n",
    "        # 1. Find the index for the key using get_valid_index\n",
    "        idx = get_valid_index(self.data_list, key)\n",
    "        \n",
    "        # 2. Retrieve the data stored at the index\n",
    "        kv = self.data_list[idx]\n",
    "        \n",
    "        # 3. Return the value if found, else return None\n",
    "        return None if kv is None else kv[1]\n",
    "    \n",
    "    \n",
    "    def update(self, key, value):\n",
    "        # 1. Find the index for the key using get_valid_index\n",
    "        idx = get_valid_index(self.data_list, key)\n",
    "        \n",
    "        # 2. Store the new key-value pair at the right index\n",
    "        self.data_list[idx] = key, value\n",
    "\n",
    "    \n",
    "    def list_all(self):\n",
    "        # 1. Extract the key from each key-value pair \n",
    "        return [kv[0] for kv in self.data_list if kv is not None]"
   ]
  },
  {
   "cell_type": "markdown",
   "id": "happy-contributor",
   "metadata": {
    "id": "happy-contributor"
   },
   "source": [
    "If the `ProbingHashTable` class was defined correctly, the following cells should output `True`."
   ]
  },
  {
   "cell_type": "code",
   "execution_count": null,
   "id": "strange-apache",
   "metadata": {
    "id": "strange-apache"
   },
   "outputs": [],
   "source": [
    "# Create a new hash table\n",
    "probing_table = ProbingHashTable()\n",
    "\n",
    "# Insert a value\n",
    "probing_table.insert('listen', 99)\n",
    "\n",
    "# Check the value\n",
    "probing_table.find('listen') == 99"
   ]
  },
  {
   "cell_type": "code",
   "execution_count": null,
   "id": "lovely-boost",
   "metadata": {
    "colab": {
     "base_uri": "https://localhost:8080/"
    },
    "executionInfo": {
     "elapsed": 216,
     "status": "ok",
     "timestamp": 1613847592145,
     "user": {
      "displayName": "Andrew Tomich",
      "photoUrl": "",
      "userId": "06256910357366308874"
     },
     "user_tz": 360
    },
    "id": "lovely-boost",
    "outputId": "d9fadcfa-3a20-4798-88a9-7e0a55baa900"
   },
   "outputs": [
    {
     "data": {
      "text/plain": [
       "True"
      ]
     },
     "execution_count": 44,
     "metadata": {
      "tags": []
     },
     "output_type": "execute_result"
    }
   ],
   "source": [
    "# Insert a colliding key\n",
    "probing_table.insert('silent', 200)\n",
    "\n",
    "# Check the new and old keys\n",
    "probing_table.find('listen') == 99 and probing_table.find('silent') == 200"
   ]
  },
  {
   "cell_type": "code",
   "execution_count": null,
   "id": "yellow-burlington",
   "metadata": {
    "colab": {
     "base_uri": "https://localhost:8080/"
    },
    "executionInfo": {
     "elapsed": 219,
     "status": "ok",
     "timestamp": 1613847594975,
     "user": {
      "displayName": "Andrew Tomich",
      "photoUrl": "",
      "userId": "06256910357366308874"
     },
     "user_tz": 360
    },
    "id": "yellow-burlington",
    "outputId": "74d130a5-3831-4a22-d71d-dbcdef3effcc"
   },
   "outputs": [
    {
     "data": {
      "text/plain": [
       "True"
      ]
     },
     "execution_count": 45,
     "metadata": {
      "tags": []
     },
     "output_type": "execute_result"
    }
   ],
   "source": [
    "# Update a key\n",
    "probing_table.insert('listen', 101)\n",
    "\n",
    "# Check the value\n",
    "probing_table.find('listen') == 101"
   ]
  },
  {
   "cell_type": "code",
   "execution_count": null,
   "id": "assumed-standing",
   "metadata": {
    "colab": {
     "base_uri": "https://localhost:8080/"
    },
    "executionInfo": {
     "elapsed": 207,
     "status": "ok",
     "timestamp": 1613847595731,
     "user": {
      "displayName": "Andrew Tomich",
      "photoUrl": "",
      "userId": "06256910357366308874"
     },
     "user_tz": 360
    },
    "id": "assumed-standing",
    "outputId": "1e475b1c-d1a4-4064-95c3-cc391165a5ff"
   },
   "outputs": [
    {
     "data": {
      "text/plain": [
       "True"
      ]
     },
     "execution_count": 46,
     "metadata": {
      "tags": []
     },
     "output_type": "execute_result"
    }
   ],
   "source": [
    "probing_table.list_all() == ['listen', 'silent']"
   ]
  },
  {
   "cell_type": "markdown",
   "id": "precise-zambia",
   "metadata": {
    "id": "precise-zambia"
   },
   "source": [
    "(Optional) Test your implementation of `ProbingHashTable` using the empty cells below."
   ]
  },
  {
   "cell_type": "code",
   "execution_count": null,
   "id": "ideal-retailer",
   "metadata": {
    "id": "ideal-retailer"
   },
   "outputs": [],
   "source": []
  },
  {
   "cell_type": "code",
   "execution_count": null,
   "id": "manual-pendant",
   "metadata": {
    "id": "manual-pendant"
   },
   "outputs": [],
   "source": []
  },
  {
   "cell_type": "code",
   "execution_count": null,
   "id": "automatic-recorder",
   "metadata": {
    "id": "automatic-recorder"
   },
   "outputs": [],
   "source": []
  },
  {
   "cell_type": "markdown",
   "id": "living-graphics",
   "metadata": {
    "id": "living-graphics"
   },
   "source": [
    "Save your work before continuing."
   ]
  },
  {
   "cell_type": "code",
   "execution_count": null,
   "id": "developed-sandwich",
   "metadata": {
    "id": "developed-sandwich",
    "outputId": "fd41cb27-23ba-473b-9308-70d8c0d635d1"
   },
   "outputs": [
    {
     "data": {
      "application/javascript": [
       "window.require && require([\"base/js/namespace\"],function(Jupyter){Jupyter.notebook.save_checkpoint()})"
      ],
      "text/plain": [
       "<IPython.core.display.Javascript object>"
      ]
     },
     "metadata": {
      "tags": []
     },
     "output_type": "display_data"
    },
    {
     "name": "stdout",
     "output_type": "stream",
     "text": [
      "[jovian] Attempting to save notebook..\u001b[0m\n",
      "[jovian] Updating notebook \"aakashns/python-hash-tables-assignment\" on https://jovian.ai/\u001b[0m\n",
      "[jovian] Uploading notebook..\u001b[0m\n",
      "[jovian] Capturing environment..\u001b[0m\n",
      "[jovian] Committed successfully! https://jovian.ai/aakashns/python-hash-tables-assignment\u001b[0m\n"
     ]
    },
    {
     "data": {
      "text/plain": [
       "'https://jovian.ai/aakashns/python-hash-tables-assignment'"
      ]
     },
     "execution_count": 62,
     "metadata": {
      "tags": []
     },
     "output_type": "execute_result"
    }
   ],
   "source": [
    "jovian.commit(project=project)"
   ]
  },
  {
   "cell_type": "markdown",
   "id": "lined-somalia",
   "metadata": {
    "id": "lined-somalia"
   },
   "source": [
    "### Make a Submission\n",
    "\n",
    "Congrats! You have now implemented hash tables from scratch. The rest of this assignment is optional. \n",
    "\n",
    "You can make a submission on this page: https://jovian.ai/learn/data-structures-and-algorithms-in-python/assignment/assignment-2-hash-table-and-python-dictionaries . Submit the link to your Jovian notebook (the output of the previous cell).\n",
    "\n",
    "\n",
    "You can also make a direct submission by executing the following cell:"
   ]
  },
  {
   "cell_type": "code",
   "execution_count": null,
   "id": "european-norwegian",
   "metadata": {
    "id": "european-norwegian"
   },
   "outputs": [],
   "source": [
    "jovian.submit(assignment=\"pythondsa-assignment2\")"
   ]
  },
  {
   "cell_type": "markdown",
   "id": "frank-valve",
   "metadata": {
    "id": "frank-valve"
   },
   "source": [
    "If you are stuck, you can get help on the forum: https://jovian.ai/forum/c/data-structures-and-algorithms-in-python/assignment-2/88"
   ]
  },
  {
   "cell_type": "markdown",
   "id": "qualified-affairs",
   "metadata": {
    "id": "qualified-affairs"
   },
   "source": [
    "### (Optional) Python Dictionaries using Hash Tables\n",
    "\n",
    "We can now implement Python dictionaries using hash tables. Also, Python provides a built-in function called `hash` which we can use instead of our custom hash function. It is likely to have far fewer collisions\n",
    "\n",
    "**(Optional) Question: Implement a python-friendly interface for the hash table.**"
   ]
  },
  {
   "cell_type": "code",
   "execution_count": null,
   "id": "typical-copper",
   "metadata": {
    "id": "typical-copper"
   },
   "outputs": [],
   "source": [
    "MAX_HASH_TABLE_SIZE = 4096\n",
    "\n",
    "class HashTable:\n",
    "    def __init__(self, max_size=MAX_HASH_TABLE_SIZE):\n",
    "        self.data_list = [None] * max_size\n",
    "        \n",
    "    def get_valid_index(self, key):\n",
    "        # Use Python's in-built `hash` function and implement linear probing\n",
    "        pass # change this\n",
    "        \n",
    "    def __getitem__(self, key):\n",
    "        # Implement the logic for \"find\" here\n",
    "        pass # change this\n",
    "    \n",
    "    def __setitem__(self, key, value):\n",
    "        # Implement the logic for \"insert/update\" here\n",
    "        pass # change this\n",
    "    \n",
    "    def __iter__(self):\n",
    "        return (x for x in self.data_list if x is not None)\n",
    "    \n",
    "    def __len__(self):\n",
    "        return len([x for x in self])\n",
    "    \n",
    "    def __repr__(self):\n",
    "        from textwrap import indent\n",
    "        pairs = [indent(\"{} : {}\".format(repr(kv[0]), repr(kv[1])), '  ') for kv in self]\n",
    "        return \"{\\n\" + \"{}\".format(',\\n'.join(pairs)) + \"\\n}\"\n",
    "    \n",
    "    def __str__(self):\n",
    "        return repr(self)"
   ]
  },
  {
   "cell_type": "markdown",
   "id": "popular-warren",
   "metadata": {
    "id": "popular-warren"
   },
   "source": [
    "If the `HashTable` class was defined correctly, the following cells should output `True`."
   ]
  },
  {
   "cell_type": "code",
   "execution_count": null,
   "id": "controlling-estate",
   "metadata": {
    "id": "controlling-estate",
    "outputId": "92a754ec-8ac6-415d-f4ae-af928cc2dac8"
   },
   "outputs": [
    {
     "data": {
      "text/plain": [
       "True"
      ]
     },
     "execution_count": 86,
     "metadata": {
      "tags": []
     },
     "output_type": "execute_result"
    }
   ],
   "source": [
    "# Create a hash table\n",
    "table = HashTable()\n",
    "\n",
    "# Insert some key-value pairs\n",
    "table['a'] = 1\n",
    "table['b'] = 34\n",
    "\n",
    "# Retrieve the inserted values\n",
    "table['a'] == 1 and table['b'] == 34"
   ]
  },
  {
   "cell_type": "code",
   "execution_count": null,
   "id": "driving-afternoon",
   "metadata": {
    "id": "driving-afternoon",
    "outputId": "cc7ee676-6afd-4c8a-af23-89e3a2536e61"
   },
   "outputs": [
    {
     "data": {
      "text/plain": [
       "True"
      ]
     },
     "execution_count": 87,
     "metadata": {
      "tags": []
     },
     "output_type": "execute_result"
    }
   ],
   "source": [
    "# Update a value\n",
    "table['a'] = 99\n",
    "\n",
    "# Check the updated value\n",
    "table['a'] == 99"
   ]
  },
  {
   "cell_type": "code",
   "execution_count": null,
   "id": "restricted-power",
   "metadata": {
    "id": "restricted-power",
    "outputId": "ed4f6a44-1318-40e2-f3c7-5e65072eac87"
   },
   "outputs": [
    {
     "data": {
      "text/plain": [
       "True"
      ]
     },
     "execution_count": 88,
     "metadata": {
      "tags": []
     },
     "output_type": "execute_result"
    }
   ],
   "source": [
    "# Get a list of key-value pairs\n",
    "list(table) == [('a', 99), ('b', 34)]"
   ]
  },
  {
   "cell_type": "markdown",
   "id": "hispanic-depth",
   "metadata": {
    "id": "hispanic-depth"
   },
   "source": [
    "Since we have also implemented the `__repr__` and `__str__` functions, the output of the next cell should be:\n",
    "\n",
    "```\n",
    "{\n",
    "  'a' : 99,\n",
    "  'b' : 34\n",
    "}\n",
    "```"
   ]
  },
  {
   "cell_type": "code",
   "execution_count": null,
   "id": "black-cedar",
   "metadata": {
    "id": "black-cedar",
    "outputId": "5b31c750-3869-4ece-f0a1-6910d7185a45"
   },
   "outputs": [
    {
     "data": {
      "text/plain": [
       "{\n",
       "  'a' : 99,\n",
       "  'b' : 34\n",
       "}"
      ]
     },
     "execution_count": 89,
     "metadata": {
      "tags": []
     },
     "output_type": "execute_result"
    }
   ],
   "source": [
    "table"
   ]
  },
  {
   "cell_type": "markdown",
   "id": "electrical-aberdeen",
   "metadata": {
    "id": "electrical-aberdeen"
   },
   "source": [
    "Let's save our work before continuing."
   ]
  },
  {
   "cell_type": "code",
   "execution_count": null,
   "id": "apparent-spider",
   "metadata": {
    "id": "apparent-spider"
   },
   "outputs": [],
   "source": [
    "import jovian"
   ]
  },
  {
   "cell_type": "code",
   "execution_count": null,
   "id": "tropical-singer",
   "metadata": {
    "id": "tropical-singer",
    "outputId": "ad3cec2d-b520-41fe-a811-f3e146612c17"
   },
   "outputs": [
    {
     "data": {
      "application/javascript": [
       "window.require && require([\"base/js/namespace\"],function(Jupyter){Jupyter.notebook.save_checkpoint()})"
      ],
      "text/plain": [
       "<IPython.core.display.Javascript object>"
      ]
     },
     "metadata": {
      "tags": []
     },
     "output_type": "display_data"
    },
    {
     "name": "stdout",
     "output_type": "stream",
     "text": [
      "[jovian] Attempting to save notebook..\u001b[0m\n",
      "[jovian] Updating notebook \"aakashns/python-hash-tables-assignment\" on https://jovian.ai/\u001b[0m\n",
      "[jovian] Uploading notebook..\u001b[0m\n",
      "[jovian] Capturing environment..\u001b[0m\n",
      "[jovian] Committed successfully! https://jovian.ai/aakashns/python-hash-tables-assignment\u001b[0m\n"
     ]
    },
    {
     "data": {
      "text/plain": [
       "'https://jovian.ai/aakashns/python-hash-tables-assignment'"
      ]
     },
     "execution_count": 92,
     "metadata": {
      "tags": []
     },
     "output_type": "execute_result"
    }
   ],
   "source": [
    "jovian.commit(project=project)"
   ]
  },
  {
   "cell_type": "markdown",
   "id": "great-piece",
   "metadata": {
    "id": "great-piece"
   },
   "source": [
    "### (Optional) Hash Table Improvements\n",
    "\n",
    "Here are some more improvements/changes you can make to your hash table implementation:\n",
    "\n",
    "* **Track the size of the hash table** i.e. number of key-value pairs so that `len(table)` has complexity O(1).\n",
    "* **Implement deletion with tombstones** as described here: https://research.cs.vt.edu/AVresearch/hashing/deletion.php\n",
    "* **Implement dynamic resizing** to automatically grow/shrink the data list: https://charlesreid1.com/wiki/Hash_Maps/Dynamic_Resizing\n",
    "* **Implement separate chaining**, an alternative to linear probing for collision resolution: https://www.youtube.com/watch/T9gct6Dx-jo\n"
   ]
  },
  {
   "cell_type": "markdown",
   "id": "annoying-background",
   "metadata": {
    "id": "annoying-background"
   },
   "source": [
    "### (Optional) Complexity Analysis\n",
    "\n",
    "With choice of a good hashing function and other improvements like dynamic resizing, you can \n",
    "\n",
    "\n",
    "| Operation      | Average-case time complexity | Worst-case time complexity |\n",
    "| ----------- | ----------- |---------|\n",
    "| Insert/Update      | **O(1)**    | **O(n)**|\n",
    "| Find   | **O(1)**    | **O(n)**|\n",
    "| Delete   | **O(1)**    | **O(n)**|\n",
    "| List   | **O(n)**    | **O(n)**|\n",
    "\n",
    "\n",
    "Here are some questions to ponder upon?\n",
    "\n",
    "- What is average case complexity? How does it differ from worst-case complexity?\n",
    "- Do you see why insert/find/update have average-case complexity of O(1) and worst-case complexity of O(n) ?\n",
    "- How is the complexity of hash tables different from binary search trees?\n",
    "- When should you prefer using hash table over binary trees or vice versa?\n",
    "\n",
    "Discuss your answers on the forum: https://jovian.ai/forum/c/data-structures-and-algorithms-in-python/assignment-2/88"
   ]
  }
 ],
 "metadata": {
  "colab": {
   "name": "python-hash-tables-assignment.ipynb",
   "provenance": []
  },
  "language_info": {
   "name": "python"
  }
 },
 "nbformat": 4,
 "nbformat_minor": 5
}